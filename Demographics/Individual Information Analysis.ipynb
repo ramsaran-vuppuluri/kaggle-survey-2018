{
 "cells": [
  {
   "cell_type": "markdown",
   "metadata": {},
   "source": [
    "# Individual Information\n",
    "## Ram Saran Vuppuluri"
   ]
  },
  {
   "cell_type": "markdown",
   "metadata": {},
   "source": [
    "### Introduction\n",
    "\n",
    "Kaggle had initiated an industry-wide survey in 2017 that presents a truly comprehensive view of the state of data science and machine learning. In 2018, the study was live for a week in October and had collected responses from 23,859 individuals.\n",
    "\n",
    "Data set used for the analysis is has 390+ columns. Not all columns are needed at any given point of the study. For this reason, the notebook is further divided into multiple subsections which will start with a business question, followed by data analysis. Only the columns that are related to the business question are extracted for analysis.\n",
    "\n",
    "Furthermore, we are persisting extracted columns into separate csv files that are utilized for generating visualizations using Tableau for Medium blog post.\n",
    "\n",
    "__One significant advantage with this approach is we are not ignoring the whole row if the respondent has not to answer specific questions. We are going to include all the answers (non-freeform) in the analysis.__\n",
    "\n",
    "In this notebook, we will analyze the Individual information of survey takers. "
   ]
  },
  {
   "cell_type": "code",
   "execution_count": 1,
   "metadata": {},
   "outputs": [],
   "source": [
    "import gc\n",
    "\n",
    "import pandas as pd\n",
    "import matplotlib.pyplot as plt\n",
    "import seaborn as sns\n",
    "%matplotlib inline\n",
    "\n",
    "import warnings\n",
    "warnings.filterwarnings('ignore')"
   ]
  },
  {
   "cell_type": "code",
   "execution_count": 2,
   "metadata": {},
   "outputs": [],
   "source": [
    "def generate_vertical_countplot(x, xlabel='', figName=None, figSize=(8, 6)):\n",
    "    '''\n",
    "    This method will generate vertical Seaborn countplot.\n",
    "\n",
    "    :param x: x parameter\n",
    "\n",
    "    :param xlabel: x axis label\n",
    "\n",
    "    :param figName: file name by which it need to be stored.\n",
    "\n",
    "    :param figSize: plot figure size.\n",
    "\n",
    "    :return: None\n",
    "    '''\n",
    "    sns.set(rc={'figure.figsize': figSize})\n",
    "\n",
    "    ax = sns.countplot(x=x)\n",
    "\n",
    "    plt.xlabel(xlabel)\n",
    "    if figName != None:\n",
    "        ax.get_figure().savefig(figName)\n",
    "    plt.show(ax);"
   ]
  },
  {
   "cell_type": "code",
   "execution_count": 3,
   "metadata": {},
   "outputs": [],
   "source": [
    "def generate_horizontal_countplot(y, ylabel='', figName=None, figSize=(12, 10)):\n",
    "    '''\n",
    "    This method will generate horizontal Seaborn countplot/\n",
    "\n",
    "    :param y: y parameter\n",
    "\n",
    "    :param ylabel: y axis label\n",
    "\n",
    "    :param figName: file name by which it need to be stored\n",
    "\n",
    "    :param figSize: plot figure size.\n",
    "\n",
    "    :return: None\n",
    "    '''\n",
    "    sns.set(rc={'figure.figsize': figSize})\n",
    "\n",
    "    ax = sns.countplot(y=y)\n",
    "\n",
    "    plt.ylabel(ylabel)\n",
    "\n",
    "    if figName != None:\n",
    "        ax.get_figure().savefig(figName)\n",
    "    plt.show(ax);"
   ]
  },
  {
   "cell_type": "code",
   "execution_count": 4,
   "metadata": {},
   "outputs": [],
   "source": [
    "multipleChoiceDF = pd.read_csv('../multipleChoiceResponses.csv',\n",
    "                               low_memory=False)"
   ]
  },
  {
   "cell_type": "markdown",
   "metadata": {},
   "source": [
    "### What is the gender, age and geographic distribution of survey respondents?"
   ]
  },
  {
   "cell_type": "markdown",
   "metadata": {},
   "source": [
    "First three questions in the survey are related to gender, age, and country of residence of the survey takers.\n",
    "\n",
    "We will start by creating a new Pandas Data Frame with only necessary columns."
   ]
  },
  {
   "cell_type": "code",
   "execution_count": 5,
   "metadata": {},
   "outputs": [],
   "source": [
    "demographicsColumns = ['Q1','Q2','Q3']"
   ]
  },
  {
   "cell_type": "code",
   "execution_count": 6,
   "metadata": {},
   "outputs": [],
   "source": [
    "demographicsDF = multipleChoiceDF[demographicsColumns]"
   ]
  },
  {
   "cell_type": "markdown",
   "metadata": {},
   "source": [
    "Now that we have the dataframe, we will inspect the tidiness of the data frame."
   ]
  },
  {
   "cell_type": "code",
   "execution_count": 7,
   "metadata": {},
   "outputs": [
    {
     "name": "stdout",
     "output_type": "stream",
     "text": [
      "<class 'pandas.core.frame.DataFrame'>\n",
      "RangeIndex: 23860 entries, 0 to 23859\n",
      "Data columns (total 3 columns):\n",
      "Q1    23860 non-null object\n",
      "Q2    23860 non-null object\n",
      "Q3    23860 non-null object\n",
      "dtypes: object(3)\n",
      "memory usage: 559.3+ KB\n"
     ]
    }
   ],
   "source": [
    "demographicsDF.info()"
   ]
  },
  {
   "cell_type": "code",
   "execution_count": 8,
   "metadata": {},
   "outputs": [
    {
     "data": {
      "text/html": [
       "<div>\n",
       "<style scoped>\n",
       "    .dataframe tbody tr th:only-of-type {\n",
       "        vertical-align: middle;\n",
       "    }\n",
       "\n",
       "    .dataframe tbody tr th {\n",
       "        vertical-align: top;\n",
       "    }\n",
       "\n",
       "    .dataframe thead th {\n",
       "        text-align: right;\n",
       "    }\n",
       "</style>\n",
       "<table border=\"1\" class=\"dataframe\">\n",
       "  <thead>\n",
       "    <tr style=\"text-align: right;\">\n",
       "      <th></th>\n",
       "      <th>Q1</th>\n",
       "      <th>Q2</th>\n",
       "      <th>Q3</th>\n",
       "    </tr>\n",
       "  </thead>\n",
       "  <tbody>\n",
       "    <tr>\n",
       "      <th>0</th>\n",
       "      <td>What is your gender? - Selected Choice</td>\n",
       "      <td>What is your age (# years)?</td>\n",
       "      <td>In which country do you currently reside?</td>\n",
       "    </tr>\n",
       "    <tr>\n",
       "      <th>1</th>\n",
       "      <td>Female</td>\n",
       "      <td>45-49</td>\n",
       "      <td>United States of America</td>\n",
       "    </tr>\n",
       "    <tr>\n",
       "      <th>2</th>\n",
       "      <td>Male</td>\n",
       "      <td>30-34</td>\n",
       "      <td>Indonesia</td>\n",
       "    </tr>\n",
       "    <tr>\n",
       "      <th>3</th>\n",
       "      <td>Female</td>\n",
       "      <td>30-34</td>\n",
       "      <td>United States of America</td>\n",
       "    </tr>\n",
       "    <tr>\n",
       "      <th>4</th>\n",
       "      <td>Male</td>\n",
       "      <td>35-39</td>\n",
       "      <td>United States of America</td>\n",
       "    </tr>\n",
       "  </tbody>\n",
       "</table>\n",
       "</div>"
      ],
      "text/plain": [
       "                                       Q1                           Q2  \\\n",
       "0  What is your gender? - Selected Choice  What is your age (# years)?   \n",
       "1                                  Female                        45-49   \n",
       "2                                    Male                        30-34   \n",
       "3                                  Female                        30-34   \n",
       "4                                    Male                        35-39   \n",
       "\n",
       "                                          Q3  \n",
       "0  In which country do you currently reside?  \n",
       "1                   United States of America  \n",
       "2                                  Indonesia  \n",
       "3                   United States of America  \n",
       "4                   United States of America  "
      ]
     },
     "execution_count": 8,
     "metadata": {},
     "output_type": "execute_result"
    }
   ],
   "source": [
    "demographicsDF.head()"
   ]
  },
  {
   "cell_type": "markdown",
   "metadata": {},
   "source": [
    "From the visual and programmatic analysis:\n",
    "* There are no missing rows\n",
    "* All columns are loaded with the correct data type.\n",
    "* Row with ID 0, is the same as the question. We will drop this row from the analysis as it does not have any empirical value."
   ]
  },
  {
   "cell_type": "code",
   "execution_count": 9,
   "metadata": {},
   "outputs": [],
   "source": [
    "demographicsDF.drop([0],inplace=True)\n",
    "demographicsDF.reset_index(drop=True,inplace=True)"
   ]
  },
  {
   "cell_type": "code",
   "execution_count": 10,
   "metadata": {},
   "outputs": [
    {
     "data": {
      "text/html": [
       "<div>\n",
       "<style scoped>\n",
       "    .dataframe tbody tr th:only-of-type {\n",
       "        vertical-align: middle;\n",
       "    }\n",
       "\n",
       "    .dataframe tbody tr th {\n",
       "        vertical-align: top;\n",
       "    }\n",
       "\n",
       "    .dataframe thead th {\n",
       "        text-align: right;\n",
       "    }\n",
       "</style>\n",
       "<table border=\"1\" class=\"dataframe\">\n",
       "  <thead>\n",
       "    <tr style=\"text-align: right;\">\n",
       "      <th></th>\n",
       "      <th>Q1</th>\n",
       "      <th>Q2</th>\n",
       "      <th>Q3</th>\n",
       "    </tr>\n",
       "  </thead>\n",
       "  <tbody>\n",
       "    <tr>\n",
       "      <th>0</th>\n",
       "      <td>Female</td>\n",
       "      <td>45-49</td>\n",
       "      <td>United States of America</td>\n",
       "    </tr>\n",
       "    <tr>\n",
       "      <th>1</th>\n",
       "      <td>Male</td>\n",
       "      <td>30-34</td>\n",
       "      <td>Indonesia</td>\n",
       "    </tr>\n",
       "    <tr>\n",
       "      <th>2</th>\n",
       "      <td>Female</td>\n",
       "      <td>30-34</td>\n",
       "      <td>United States of America</td>\n",
       "    </tr>\n",
       "    <tr>\n",
       "      <th>3</th>\n",
       "      <td>Male</td>\n",
       "      <td>35-39</td>\n",
       "      <td>United States of America</td>\n",
       "    </tr>\n",
       "    <tr>\n",
       "      <th>4</th>\n",
       "      <td>Male</td>\n",
       "      <td>22-24</td>\n",
       "      <td>India</td>\n",
       "    </tr>\n",
       "  </tbody>\n",
       "</table>\n",
       "</div>"
      ],
      "text/plain": [
       "       Q1     Q2                        Q3\n",
       "0  Female  45-49  United States of America\n",
       "1    Male  30-34                 Indonesia\n",
       "2  Female  30-34  United States of America\n",
       "3    Male  35-39  United States of America\n",
       "4    Male  22-24                     India"
      ]
     },
     "execution_count": 10,
     "metadata": {},
     "output_type": "execute_result"
    }
   ],
   "source": [
    "demographicsDF.head()"
   ]
  },
  {
   "cell_type": "markdown",
   "metadata": {},
   "source": [
    "There are no more issues with data, we can proceed with the analysis of data."
   ]
  },
  {
   "cell_type": "markdown",
   "metadata": {},
   "source": [
    "__Two-thirds of the survey takers have identified themselves as Male.__"
   ]
  },
  {
   "cell_type": "code",
   "execution_count": 11,
   "metadata": {},
   "outputs": [
    {
     "data": {
      "image/png": "[encoded data removed]",
      "text/plain": [
       "<matplotlib.figure.Figure at 0x1a0cdbb080>"
      ]
     },
     "metadata": {},
     "output_type": "display_data"
    }
   ],
   "source": [
    "generate_vertical_countplot(x=demographicsDF.Q1,\n",
    "                            xlabel=\"Gender\",\n",
    "                            figName='Gender_Distribution.jpeg')"
   ]
  },
  {
   "cell_type": "markdown",
   "metadata": {},
   "source": [
    "__Adults across all age groups are represented. Almost half of the survey respondents are under 30 years of age.__"
   ]
  },
  {
   "cell_type": "code",
   "execution_count": 12,
   "metadata": {},
   "outputs": [],
   "source": [
    "demographicsDF.sort_values(\"Q2\",inplace=True)\n",
    "demographicsDF.reset_index(drop=True,inplace=True)"
   ]
  },
  {
   "cell_type": "code",
   "execution_count": 13,
   "metadata": {},
   "outputs": [
    {
     "data": {
      "image/png": "[encoded data removed]",
      "text/plain": [
       "<matplotlib.figure.Figure at 0x1088db588>"
      ]
     },
     "metadata": {},
     "output_type": "display_data"
    }
   ],
   "source": [
    "generate_vertical_countplot(x=demographicsDF.Q2,\n",
    "                            xlabel=\"Age\",\n",
    "                            figName='Age_Distribution.jpeg')"
   ]
  },
  {
   "cell_type": "markdown",
   "metadata": {},
   "source": [
    "__Individuals from 147 countries and territories have participated in the survey, approximately a third of the survey takers are from U.S. and India.__"
   ]
  },
  {
   "cell_type": "code",
   "execution_count": 14,
   "metadata": {},
   "outputs": [],
   "source": [
    "demographicsDF.sort_values(\"Q3\",inplace=True)\n",
    "demographicsDF.reset_index(drop=True,inplace=True)"
   ]
  },
  {
   "cell_type": "code",
   "execution_count": 15,
   "metadata": {},
   "outputs": [
    {
     "data": {
      "image/png": "[encoded data removed]",
      "text/plain": [
       "<matplotlib.figure.Figure at 0x1088db588>"
      ]
     },
     "metadata": {},
     "output_type": "display_data"
    }
   ],
   "source": [
    "generate_horizontal_countplot(y=demographicsDF.Q3,\n",
    "                             figSize = (20,40))"
   ]
  },
  {
   "cell_type": "markdown",
   "metadata": {},
   "source": [
    "We will persist the clean copy of the dataframe as a CSV file. This CSV file is utilized by Tableau to generate visualizations for Medium blog post."
   ]
  },
  {
   "cell_type": "code",
   "execution_count": 16,
   "metadata": {},
   "outputs": [],
   "source": [
    "demographicsDF.rename(columns={\"Q1\":\"Gender\",\n",
    "                               \"Q2\":\"Age\",\n",
    "                               \"Q3\":\"Country\"},inplace=True)"
   ]
  },
  {
   "cell_type": "code",
   "execution_count": 17,
   "metadata": {},
   "outputs": [
    {
     "data": {
      "text/plain": [
       "Index(['Gender', 'Age', 'Country'], dtype='object')"
      ]
     },
     "execution_count": 17,
     "metadata": {},
     "output_type": "execute_result"
    }
   ],
   "source": [
    "demographicsDF.columns"
   ]
  },
  {
   "cell_type": "code",
   "execution_count": 18,
   "metadata": {},
   "outputs": [],
   "source": [
    "demographicsDF.to_csv(\"demographics.csv\",index=False)"
   ]
  },
  {
   "cell_type": "markdown",
   "metadata": {},
   "source": [
    "We no longer need \"demographicsDF\" in the analysis. We will clean up from memory."
   ]
  },
  {
   "cell_type": "code",
   "execution_count": 19,
   "metadata": {},
   "outputs": [
    {
     "data": {
      "text/plain": [
       "12"
      ]
     },
     "execution_count": 19,
     "metadata": {},
     "output_type": "execute_result"
    }
   ],
   "source": [
    "del demographicsDF\n",
    "gc.collect()"
   ]
  },
  {
   "cell_type": "markdown",
   "metadata": {},
   "source": [
    "### What percent of the time is spent actively coding at work or school?"
   ]
  },
  {
   "cell_type": "code",
   "execution_count": 20,
   "metadata": {},
   "outputs": [],
   "source": [
    "codeTimeDF = pd.DataFrame(multipleChoiceDF.Q23)"
   ]
  },
  {
   "cell_type": "code",
   "execution_count": 21,
   "metadata": {},
   "outputs": [
    {
     "name": "stdout",
     "output_type": "stream",
     "text": [
      "<class 'pandas.core.frame.DataFrame'>\n",
      "RangeIndex: 23860 entries, 0 to 23859\n",
      "Data columns (total 1 columns):\n",
      "Q23    18548 non-null object\n",
      "dtypes: object(1)\n",
      "memory usage: 186.5+ KB\n"
     ]
    }
   ],
   "source": [
    "codeTimeDF.info()"
   ]
  },
  {
   "cell_type": "code",
   "execution_count": 22,
   "metadata": {},
   "outputs": [
    {
     "data": {
      "text/html": [
       "<div>\n",
       "<style scoped>\n",
       "    .dataframe tbody tr th:only-of-type {\n",
       "        vertical-align: middle;\n",
       "    }\n",
       "\n",
       "    .dataframe tbody tr th {\n",
       "        vertical-align: top;\n",
       "    }\n",
       "\n",
       "    .dataframe thead th {\n",
       "        text-align: right;\n",
       "    }\n",
       "</style>\n",
       "<table border=\"1\" class=\"dataframe\">\n",
       "  <thead>\n",
       "    <tr style=\"text-align: right;\">\n",
       "      <th></th>\n",
       "      <th>Q23</th>\n",
       "    </tr>\n",
       "  </thead>\n",
       "  <tbody>\n",
       "    <tr>\n",
       "      <th>0</th>\n",
       "      <td>Approximately what percent of your time at wor...</td>\n",
       "    </tr>\n",
       "    <tr>\n",
       "      <th>1</th>\n",
       "      <td>0% of my time</td>\n",
       "    </tr>\n",
       "    <tr>\n",
       "      <th>2</th>\n",
       "      <td>1% to 25% of my time</td>\n",
       "    </tr>\n",
       "    <tr>\n",
       "      <th>3</th>\n",
       "      <td>75% to 99% of my time</td>\n",
       "    </tr>\n",
       "    <tr>\n",
       "      <th>4</th>\n",
       "      <td>50% to 74% of my time</td>\n",
       "    </tr>\n",
       "  </tbody>\n",
       "</table>\n",
       "</div>"
      ],
      "text/plain": [
       "                                                 Q23\n",
       "0  Approximately what percent of your time at wor...\n",
       "1                                      0% of my time\n",
       "2                               1% to 25% of my time\n",
       "3                              75% to 99% of my time\n",
       "4                              50% to 74% of my time"
      ]
     },
     "execution_count": 22,
     "metadata": {},
     "output_type": "execute_result"
    }
   ],
   "source": [
    "codeTimeDF.head()"
   ]
  },
  {
   "cell_type": "markdown",
   "metadata": {},
   "source": [
    "From the visual and programmatic analysis:\n",
    "* There are rows with missing data, we will not include these records in our report.\n",
    "* All columns are loaded with the correct data type.\n",
    "* Row with ID 0, is the same as the question. We will drop this row from the analysis as it does not have any empirical value."
   ]
  },
  {
   "cell_type": "code",
   "execution_count": 23,
   "metadata": {},
   "outputs": [],
   "source": [
    "codeTimeDF.drop([0],inplace=True)\n",
    "codeTimeDF.dropna(inplace=True)\n",
    "codeTimeDF.reset_index(drop=True,inplace=True)"
   ]
  },
  {
   "cell_type": "markdown",
   "metadata": {},
   "source": [
    "__Almost all of the survey respondents have some coding activity involved at work.__"
   ]
  },
  {
   "cell_type": "code",
   "execution_count": 24,
   "metadata": {},
   "outputs": [
    {
     "data": {
      "image/png": "[encoded data removed]",
      "text/plain": [
       "<matplotlib.figure.Figure at 0x1a0d688ac8>"
      ]
     },
     "metadata": {},
     "output_type": "display_data"
    }
   ],
   "source": [
    "generate_horizontal_countplot(y=codeTimeDF.Q23,\n",
    "                             figSize=(18,12),\n",
    "                             ylabel = 'Approximately what percent of your time at work or school is spent actively coding',\n",
    "                             figName = 'code_Time.jpeg')"
   ]
  },
  {
   "cell_type": "markdown",
   "metadata": {},
   "source": [
    "We will persist the clean copy of the dataframe as a CSV file. \n",
    "\n",
    "We no longer need \"codeTimeDF\" in the analysis. We will clean up from memory."
   ]
  },
  {
   "cell_type": "code",
   "execution_count": 25,
   "metadata": {},
   "outputs": [],
   "source": [
    "codeTimeDF.to_csv('codeTime.csv',index=False)"
   ]
  },
  {
   "cell_type": "code",
   "execution_count": 26,
   "metadata": {},
   "outputs": [
    {
     "data": {
      "text/plain": [
       "2471"
      ]
     },
     "execution_count": 26,
     "metadata": {},
     "output_type": "execute_result"
    }
   ],
   "source": [
    "del codeTimeDF\n",
    "gc.collect()"
   ]
  },
  {
   "cell_type": "markdown",
   "metadata": {},
   "source": [
    "### How long have you been writing code to analyze data?"
   ]
  },
  {
   "cell_type": "code",
   "execution_count": 27,
   "metadata": {},
   "outputs": [],
   "source": [
    "howLongCodeDF = pd.DataFrame(multipleChoiceDF.Q24)"
   ]
  },
  {
   "cell_type": "code",
   "execution_count": 28,
   "metadata": {},
   "outputs": [
    {
     "name": "stdout",
     "output_type": "stream",
     "text": [
      "<class 'pandas.core.frame.DataFrame'>\n",
      "RangeIndex: 23860 entries, 0 to 23859\n",
      "Data columns (total 1 columns):\n",
      "Q24    18534 non-null object\n",
      "dtypes: object(1)\n",
      "memory usage: 186.5+ KB\n"
     ]
    }
   ],
   "source": [
    "howLongCodeDF.info()"
   ]
  },
  {
   "cell_type": "code",
   "execution_count": 29,
   "metadata": {},
   "outputs": [
    {
     "data": {
      "text/html": [
       "<div>\n",
       "<style scoped>\n",
       "    .dataframe tbody tr th:only-of-type {\n",
       "        vertical-align: middle;\n",
       "    }\n",
       "\n",
       "    .dataframe tbody tr th {\n",
       "        vertical-align: top;\n",
       "    }\n",
       "\n",
       "    .dataframe thead th {\n",
       "        text-align: right;\n",
       "    }\n",
       "</style>\n",
       "<table border=\"1\" class=\"dataframe\">\n",
       "  <thead>\n",
       "    <tr style=\"text-align: right;\">\n",
       "      <th></th>\n",
       "      <th>Q24</th>\n",
       "    </tr>\n",
       "  </thead>\n",
       "  <tbody>\n",
       "    <tr>\n",
       "      <th>0</th>\n",
       "      <td>How long have you been writing code to analyze...</td>\n",
       "    </tr>\n",
       "    <tr>\n",
       "      <th>1</th>\n",
       "      <td>I have never written code but I want to learn</td>\n",
       "    </tr>\n",
       "    <tr>\n",
       "      <th>2</th>\n",
       "      <td>I have never written code but I want to learn</td>\n",
       "    </tr>\n",
       "    <tr>\n",
       "      <th>3</th>\n",
       "      <td>5-10 years</td>\n",
       "    </tr>\n",
       "    <tr>\n",
       "      <th>4</th>\n",
       "      <td>5-10 years</td>\n",
       "    </tr>\n",
       "  </tbody>\n",
       "</table>\n",
       "</div>"
      ],
      "text/plain": [
       "                                                 Q24\n",
       "0  How long have you been writing code to analyze...\n",
       "1      I have never written code but I want to learn\n",
       "2      I have never written code but I want to learn\n",
       "3                                         5-10 years\n",
       "4                                         5-10 years"
      ]
     },
     "execution_count": 29,
     "metadata": {},
     "output_type": "execute_result"
    }
   ],
   "source": [
    "howLongCodeDF.head()"
   ]
  },
  {
   "cell_type": "markdown",
   "metadata": {},
   "source": [
    "From the visual and programmatic analysis:\n",
    "* There are rows with missing data, we will not include these records in our report.\n",
    "* All columns are loaded with the correct data type.\n",
    "* Row with ID 0, is the same as the question. We will drop this row from the analysis as it does not have any empirical value."
   ]
  },
  {
   "cell_type": "code",
   "execution_count": 30,
   "metadata": {},
   "outputs": [],
   "source": [
    "howLongCodeDF.drop([0],inplace=True)\n",
    "howLongCodeDF.dropna(inplace=True)\n",
    "howLongCodeDF.reset_index(drop=True,inplace=True)"
   ]
  },
  {
   "cell_type": "markdown",
   "metadata": {},
   "source": [
    "__When it comes to experience, the majority of the survey takers have less than 5 years of coding experience.__"
   ]
  },
  {
   "cell_type": "code",
   "execution_count": 31,
   "metadata": {},
   "outputs": [
    {
     "data": {
      "image/png": "[encoded data removed]",
      "text/plain": [
       "<matplotlib.figure.Figure at 0x107a8eb70>"
      ]
     },
     "metadata": {},
     "output_type": "display_data"
    }
   ],
   "source": [
    "generate_horizontal_countplot(y=howLongCodeDF.Q24,\n",
    "                             figSize=(18,12),\n",
    "                             ylabel = 'How long have you been writing code to analyze data?',\n",
    "                             figName = 'code_experience.jpeg')"
   ]
  },
  {
   "cell_type": "markdown",
   "metadata": {},
   "source": [
    "We will persist the clean copy of the dataframe as a CSV file.\n",
    "\n",
    "We no longer need \"howLongCodeDF\" in the analysis. We will clean up from memory."
   ]
  },
  {
   "cell_type": "code",
   "execution_count": 32,
   "metadata": {},
   "outputs": [],
   "source": [
    "howLongCodeDF.to_csv('code_experience.csv',index=False)"
   ]
  },
  {
   "cell_type": "code",
   "execution_count": 33,
   "metadata": {},
   "outputs": [
    {
     "data": {
      "text/plain": [
       "2923"
      ]
     },
     "execution_count": 33,
     "metadata": {},
     "output_type": "execute_result"
    }
   ],
   "source": [
    "del howLongCodeDF\n",
    "gc.collect()"
   ]
  },
  {
   "cell_type": "markdown",
   "metadata": {},
   "source": [
    "### For how many years have you used machine learning methods (at work or in school)?"
   ]
  },
  {
   "cell_type": "code",
   "execution_count": 34,
   "metadata": {},
   "outputs": [],
   "source": [
    "machineLearningExpDF = pd.DataFrame(multipleChoiceDF.Q25)"
   ]
  },
  {
   "cell_type": "code",
   "execution_count": 35,
   "metadata": {},
   "outputs": [
    {
     "name": "stdout",
     "output_type": "stream",
     "text": [
      "<class 'pandas.core.frame.DataFrame'>\n",
      "RangeIndex: 23860 entries, 0 to 23859\n",
      "Data columns (total 1 columns):\n",
      "Q25    18492 non-null object\n",
      "dtypes: object(1)\n",
      "memory usage: 186.5+ KB\n"
     ]
    }
   ],
   "source": [
    "machineLearningExpDF.info()"
   ]
  },
  {
   "cell_type": "code",
   "execution_count": 36,
   "metadata": {},
   "outputs": [
    {
     "data": {
      "text/html": [
       "<div>\n",
       "<style scoped>\n",
       "    .dataframe tbody tr th:only-of-type {\n",
       "        vertical-align: middle;\n",
       "    }\n",
       "\n",
       "    .dataframe tbody tr th {\n",
       "        vertical-align: top;\n",
       "    }\n",
       "\n",
       "    .dataframe thead th {\n",
       "        text-align: right;\n",
       "    }\n",
       "</style>\n",
       "<table border=\"1\" class=\"dataframe\">\n",
       "  <thead>\n",
       "    <tr style=\"text-align: right;\">\n",
       "      <th></th>\n",
       "      <th>Q25</th>\n",
       "    </tr>\n",
       "  </thead>\n",
       "  <tbody>\n",
       "    <tr>\n",
       "      <th>0</th>\n",
       "      <td>For how many years have you used machine learn...</td>\n",
       "    </tr>\n",
       "    <tr>\n",
       "      <th>1</th>\n",
       "      <td>I have never studied machine learning but plan...</td>\n",
       "    </tr>\n",
       "    <tr>\n",
       "      <th>2</th>\n",
       "      <td>I have never studied machine learning but plan...</td>\n",
       "    </tr>\n",
       "    <tr>\n",
       "      <th>3</th>\n",
       "      <td>&lt; 1 year</td>\n",
       "    </tr>\n",
       "    <tr>\n",
       "      <th>4</th>\n",
       "      <td>4-5 years</td>\n",
       "    </tr>\n",
       "  </tbody>\n",
       "</table>\n",
       "</div>"
      ],
      "text/plain": [
       "                                                 Q25\n",
       "0  For how many years have you used machine learn...\n",
       "1  I have never studied machine learning but plan...\n",
       "2  I have never studied machine learning but plan...\n",
       "3                                           < 1 year\n",
       "4                                          4-5 years"
      ]
     },
     "execution_count": 36,
     "metadata": {},
     "output_type": "execute_result"
    }
   ],
   "source": [
    "machineLearningExpDF.head()"
   ]
  },
  {
   "cell_type": "markdown",
   "metadata": {},
   "source": [
    "From the visual and programmatic analysis:\n",
    "* There are rows with missing data, we will not include these records in our report.\n",
    "* All columns are loaded with the correct data type.\n",
    "* Row with ID 0, is the same as the question. We will drop this row from the analysis as it does not have any empirical value."
   ]
  },
  {
   "cell_type": "code",
   "execution_count": 37,
   "metadata": {},
   "outputs": [],
   "source": [
    "machineLearningExpDF.drop([0],inplace=True)\n",
    "machineLearningExpDF.dropna(inplace=True)\n",
    "machineLearningExpDF.reset_index(drop=True,inplace=True)"
   ]
  },
  {
   "cell_type": "markdown",
   "metadata": {},
   "source": [
    "__When it comes to experience, the majority of the survey takers have less than 3 years of Machine Learning experience.__"
   ]
  },
  {
   "cell_type": "code",
   "execution_count": 38,
   "metadata": {},
   "outputs": [
    {
     "data": {
      "image/png": "[encoded data removed]",
      "text/plain": [
       "<matplotlib.figure.Figure at 0x1a0d1ae1d0>"
      ]
     },
     "metadata": {},
     "output_type": "display_data"
    }
   ],
   "source": [
    "generate_horizontal_countplot(y=machineLearningExpDF.Q25,\n",
    "                             figSize=(18,12),\n",
    "                             ylabel = 'For how many years have you used machine learning methods (at work or in school)?',\n",
    "                             figName = 'machine_Learning_experience.jpeg')"
   ]
  },
  {
   "cell_type": "markdown",
   "metadata": {},
   "source": [
    "We will persist the clean copy of the dataframe as a CSV file. \n",
    "\n",
    "We no longer need \"machineLearningExpDF\" in the analysis. We will clean up from memory."
   ]
  },
  {
   "cell_type": "code",
   "execution_count": 39,
   "metadata": {},
   "outputs": [],
   "source": [
    "machineLearningExpDF.to_csv('machineLearningExp.csv',index=False)"
   ]
  },
  {
   "cell_type": "code",
   "execution_count": 40,
   "metadata": {},
   "outputs": [
    {
     "data": {
      "text/plain": [
       "2989"
      ]
     },
     "execution_count": 40,
     "metadata": {},
     "output_type": "execute_result"
    }
   ],
   "source": [
    "del machineLearningExpDF\n",
    "gc.collect()"
   ]
  },
  {
   "cell_type": "markdown",
   "metadata": {},
   "source": [
    "### Do you consider yourself to be a data scientist?"
   ]
  },
  {
   "cell_type": "code",
   "execution_count": 41,
   "metadata": {},
   "outputs": [],
   "source": [
    "ruDataScientistDF = pd.DataFrame(multipleChoiceDF.Q26)"
   ]
  },
  {
   "cell_type": "code",
   "execution_count": 42,
   "metadata": {},
   "outputs": [
    {
     "name": "stdout",
     "output_type": "stream",
     "text": [
      "<class 'pandas.core.frame.DataFrame'>\n",
      "RangeIndex: 23860 entries, 0 to 23859\n",
      "Data columns (total 1 columns):\n",
      "Q26    18481 non-null object\n",
      "dtypes: object(1)\n",
      "memory usage: 186.5+ KB\n"
     ]
    }
   ],
   "source": [
    "ruDataScientistDF.info()"
   ]
  },
  {
   "cell_type": "code",
   "execution_count": 43,
   "metadata": {},
   "outputs": [
    {
     "data": {
      "text/html": [
       "<div>\n",
       "<style scoped>\n",
       "    .dataframe tbody tr th:only-of-type {\n",
       "        vertical-align: middle;\n",
       "    }\n",
       "\n",
       "    .dataframe tbody tr th {\n",
       "        vertical-align: top;\n",
       "    }\n",
       "\n",
       "    .dataframe thead th {\n",
       "        text-align: right;\n",
       "    }\n",
       "</style>\n",
       "<table border=\"1\" class=\"dataframe\">\n",
       "  <thead>\n",
       "    <tr style=\"text-align: right;\">\n",
       "      <th></th>\n",
       "      <th>Q26</th>\n",
       "    </tr>\n",
       "  </thead>\n",
       "  <tbody>\n",
       "    <tr>\n",
       "      <th>0</th>\n",
       "      <td>Do you consider yourself to be a data scientist?</td>\n",
       "    </tr>\n",
       "    <tr>\n",
       "      <th>1</th>\n",
       "      <td>Maybe</td>\n",
       "    </tr>\n",
       "    <tr>\n",
       "      <th>2</th>\n",
       "      <td>Definitely not</td>\n",
       "    </tr>\n",
       "    <tr>\n",
       "      <th>3</th>\n",
       "      <td>Definitely yes</td>\n",
       "    </tr>\n",
       "    <tr>\n",
       "      <th>4</th>\n",
       "      <td>Probably yes</td>\n",
       "    </tr>\n",
       "  </tbody>\n",
       "</table>\n",
       "</div>"
      ],
      "text/plain": [
       "                                                Q26\n",
       "0  Do you consider yourself to be a data scientist?\n",
       "1                                             Maybe\n",
       "2                                    Definitely not\n",
       "3                                    Definitely yes\n",
       "4                                      Probably yes"
      ]
     },
     "execution_count": 43,
     "metadata": {},
     "output_type": "execute_result"
    }
   ],
   "source": [
    "ruDataScientistDF.head()"
   ]
  },
  {
   "cell_type": "markdown",
   "metadata": {},
   "source": [
    "From the visual and programmatic analysis:\n",
    "* There are rows with missing data, we will not include these records in our report.\n",
    "* All columns are loaded with the correct data type.\n",
    "* Row with ID 0, is the same as the question. We will drop this row from the analysis as it does not have any empirical value."
   ]
  },
  {
   "cell_type": "code",
   "execution_count": 44,
   "metadata": {},
   "outputs": [],
   "source": [
    "ruDataScientistDF.drop([0],inplace=True)\n",
    "ruDataScientistDF.dropna(inplace=True)\n",
    "ruDataScientistDF.reset_index(drop=True,inplace=True)"
   ]
  },
  {
   "cell_type": "markdown",
   "metadata": {},
   "source": [
    "__When asked if the respondents consider themselves as Data Scientists, more than half of the respondents answered yes.__"
   ]
  },
  {
   "cell_type": "code",
   "execution_count": 45,
   "metadata": {},
   "outputs": [
    {
     "data": {
      "image/png": "[encoded data removed]",
      "text/plain": [
       "<matplotlib.figure.Figure at 0x1a0cd79cc0>"
      ]
     },
     "metadata": {},
     "output_type": "display_data"
    }
   ],
   "source": [
    "generate_horizontal_countplot(y=ruDataScientistDF.Q26,\n",
    "                             figSize=(18,12),\n",
    "                             ylabel = 'Do you consider yourself to be a data scientist',\n",
    "                             figName = 'Data_Scientist.jpeg')"
   ]
  },
  {
   "cell_type": "markdown",
   "metadata": {},
   "source": [
    "We will persist the clean copy of the dataframe as a CSV file. \n",
    "\n",
    "We no longer need \"ruDataScientistDF\" in the analysis. We will clean up from memory."
   ]
  },
  {
   "cell_type": "code",
   "execution_count": 46,
   "metadata": {},
   "outputs": [],
   "source": [
    "ruDataScientistDF.to_csv('DataScientist.csv',index=False)"
   ]
  },
  {
   "cell_type": "code",
   "execution_count": 47,
   "metadata": {},
   "outputs": [
    {
     "data": {
      "text/plain": [
       "2360"
      ]
     },
     "execution_count": 47,
     "metadata": {},
     "output_type": "execute_result"
    }
   ],
   "source": [
    "del ruDataScientistDF\n",
    "gc.collect()"
   ]
  },
  {
   "cell_type": "markdown",
   "metadata": {},
   "source": [
    "At this point of analysis, we have individually persisted machine learning and coding experience. We will save both together as one single CSV file.\n",
    "\n",
    "We will retrace the same steps as before. In the end, we will persist the clean copy of the dataframe as a CSV file. "
   ]
  },
  {
   "cell_type": "code",
   "execution_count": 48,
   "metadata": {},
   "outputs": [],
   "source": [
    "experiencDF = multipleChoiceDF[['Q24','Q25']]"
   ]
  },
  {
   "cell_type": "code",
   "execution_count": 49,
   "metadata": {},
   "outputs": [
    {
     "data": {
      "text/html": [
       "<div>\n",
       "<style scoped>\n",
       "    .dataframe tbody tr th:only-of-type {\n",
       "        vertical-align: middle;\n",
       "    }\n",
       "\n",
       "    .dataframe tbody tr th {\n",
       "        vertical-align: top;\n",
       "    }\n",
       "\n",
       "    .dataframe thead th {\n",
       "        text-align: right;\n",
       "    }\n",
       "</style>\n",
       "<table border=\"1\" class=\"dataframe\">\n",
       "  <thead>\n",
       "    <tr style=\"text-align: right;\">\n",
       "      <th></th>\n",
       "      <th>Q24</th>\n",
       "      <th>Q25</th>\n",
       "    </tr>\n",
       "  </thead>\n",
       "  <tbody>\n",
       "    <tr>\n",
       "      <th>0</th>\n",
       "      <td>How long have you been writing code to analyze...</td>\n",
       "      <td>For how many years have you used machine learn...</td>\n",
       "    </tr>\n",
       "    <tr>\n",
       "      <th>1</th>\n",
       "      <td>I have never written code but I want to learn</td>\n",
       "      <td>I have never studied machine learning but plan...</td>\n",
       "    </tr>\n",
       "    <tr>\n",
       "      <th>2</th>\n",
       "      <td>I have never written code but I want to learn</td>\n",
       "      <td>I have never studied machine learning but plan...</td>\n",
       "    </tr>\n",
       "    <tr>\n",
       "      <th>3</th>\n",
       "      <td>5-10 years</td>\n",
       "      <td>&lt; 1 year</td>\n",
       "    </tr>\n",
       "    <tr>\n",
       "      <th>4</th>\n",
       "      <td>5-10 years</td>\n",
       "      <td>4-5 years</td>\n",
       "    </tr>\n",
       "  </tbody>\n",
       "</table>\n",
       "</div>"
      ],
      "text/plain": [
       "                                                 Q24  \\\n",
       "0  How long have you been writing code to analyze...   \n",
       "1      I have never written code but I want to learn   \n",
       "2      I have never written code but I want to learn   \n",
       "3                                         5-10 years   \n",
       "4                                         5-10 years   \n",
       "\n",
       "                                                 Q25  \n",
       "0  For how many years have you used machine learn...  \n",
       "1  I have never studied machine learning but plan...  \n",
       "2  I have never studied machine learning but plan...  \n",
       "3                                           < 1 year  \n",
       "4                                          4-5 years  "
      ]
     },
     "execution_count": 49,
     "metadata": {},
     "output_type": "execute_result"
    }
   ],
   "source": [
    "experiencDF.head()"
   ]
  },
  {
   "cell_type": "code",
   "execution_count": 50,
   "metadata": {},
   "outputs": [
    {
     "name": "stdout",
     "output_type": "stream",
     "text": [
      "<class 'pandas.core.frame.DataFrame'>\n",
      "RangeIndex: 23860 entries, 0 to 23859\n",
      "Data columns (total 2 columns):\n",
      "Q24    18534 non-null object\n",
      "Q25    18492 non-null object\n",
      "dtypes: object(2)\n",
      "memory usage: 372.9+ KB\n"
     ]
    }
   ],
   "source": [
    "experiencDF.info()"
   ]
  },
  {
   "cell_type": "code",
   "execution_count": 51,
   "metadata": {},
   "outputs": [],
   "source": [
    "experiencDF.drop([0],inplace=True)\n",
    "experiencDF.reset_index(drop=True,inplace=True)"
   ]
  },
  {
   "cell_type": "code",
   "execution_count": 52,
   "metadata": {},
   "outputs": [
    {
     "data": {
      "text/html": [
       "<div>\n",
       "<style scoped>\n",
       "    .dataframe tbody tr th:only-of-type {\n",
       "        vertical-align: middle;\n",
       "    }\n",
       "\n",
       "    .dataframe tbody tr th {\n",
       "        vertical-align: top;\n",
       "    }\n",
       "\n",
       "    .dataframe thead th {\n",
       "        text-align: right;\n",
       "    }\n",
       "</style>\n",
       "<table border=\"1\" class=\"dataframe\">\n",
       "  <thead>\n",
       "    <tr style=\"text-align: right;\">\n",
       "      <th></th>\n",
       "      <th>Q24</th>\n",
       "      <th>Q25</th>\n",
       "    </tr>\n",
       "  </thead>\n",
       "  <tbody>\n",
       "    <tr>\n",
       "      <th>0</th>\n",
       "      <td>I have never written code but I want to learn</td>\n",
       "      <td>I have never studied machine learning but plan...</td>\n",
       "    </tr>\n",
       "    <tr>\n",
       "      <th>1</th>\n",
       "      <td>I have never written code but I want to learn</td>\n",
       "      <td>I have never studied machine learning but plan...</td>\n",
       "    </tr>\n",
       "    <tr>\n",
       "      <th>2</th>\n",
       "      <td>5-10 years</td>\n",
       "      <td>&lt; 1 year</td>\n",
       "    </tr>\n",
       "    <tr>\n",
       "      <th>3</th>\n",
       "      <td>5-10 years</td>\n",
       "      <td>4-5 years</td>\n",
       "    </tr>\n",
       "    <tr>\n",
       "      <th>4</th>\n",
       "      <td>5-10 years</td>\n",
       "      <td>2-3 years</td>\n",
       "    </tr>\n",
       "  </tbody>\n",
       "</table>\n",
       "</div>"
      ],
      "text/plain": [
       "                                             Q24  \\\n",
       "0  I have never written code but I want to learn   \n",
       "1  I have never written code but I want to learn   \n",
       "2                                     5-10 years   \n",
       "3                                     5-10 years   \n",
       "4                                     5-10 years   \n",
       "\n",
       "                                                 Q25  \n",
       "0  I have never studied machine learning but plan...  \n",
       "1  I have never studied machine learning but plan...  \n",
       "2                                           < 1 year  \n",
       "3                                          4-5 years  \n",
       "4                                          2-3 years  "
      ]
     },
     "execution_count": 52,
     "metadata": {},
     "output_type": "execute_result"
    }
   ],
   "source": [
    "experiencDF.head()"
   ]
  },
  {
   "cell_type": "code",
   "execution_count": 53,
   "metadata": {},
   "outputs": [],
   "source": [
    "experiencDF = pd.melt(experiencDF)"
   ]
  },
  {
   "cell_type": "code",
   "execution_count": 54,
   "metadata": {},
   "outputs": [
    {
     "data": {
      "text/html": [
       "<div>\n",
       "<style scoped>\n",
       "    .dataframe tbody tr th:only-of-type {\n",
       "        vertical-align: middle;\n",
       "    }\n",
       "\n",
       "    .dataframe tbody tr th {\n",
       "        vertical-align: top;\n",
       "    }\n",
       "\n",
       "    .dataframe thead th {\n",
       "        text-align: right;\n",
       "    }\n",
       "</style>\n",
       "<table border=\"1\" class=\"dataframe\">\n",
       "  <thead>\n",
       "    <tr style=\"text-align: right;\">\n",
       "      <th></th>\n",
       "      <th>variable</th>\n",
       "      <th>value</th>\n",
       "    </tr>\n",
       "  </thead>\n",
       "  <tbody>\n",
       "    <tr>\n",
       "      <th>0</th>\n",
       "      <td>Q24</td>\n",
       "      <td>I have never written code but I want to learn</td>\n",
       "    </tr>\n",
       "    <tr>\n",
       "      <th>1</th>\n",
       "      <td>Q24</td>\n",
       "      <td>I have never written code but I want to learn</td>\n",
       "    </tr>\n",
       "    <tr>\n",
       "      <th>2</th>\n",
       "      <td>Q24</td>\n",
       "      <td>5-10 years</td>\n",
       "    </tr>\n",
       "    <tr>\n",
       "      <th>3</th>\n",
       "      <td>Q24</td>\n",
       "      <td>5-10 years</td>\n",
       "    </tr>\n",
       "    <tr>\n",
       "      <th>4</th>\n",
       "      <td>Q24</td>\n",
       "      <td>5-10 years</td>\n",
       "    </tr>\n",
       "  </tbody>\n",
       "</table>\n",
       "</div>"
      ],
      "text/plain": [
       "  variable                                          value\n",
       "0      Q24  I have never written code but I want to learn\n",
       "1      Q24  I have never written code but I want to learn\n",
       "2      Q24                                     5-10 years\n",
       "3      Q24                                     5-10 years\n",
       "4      Q24                                     5-10 years"
      ]
     },
     "execution_count": 54,
     "metadata": {},
     "output_type": "execute_result"
    }
   ],
   "source": [
    "experiencDF.head()"
   ]
  },
  {
   "cell_type": "code",
   "execution_count": 55,
   "metadata": {},
   "outputs": [],
   "source": [
    "experiencDF.variable.replace(to_replace='Q24',value='Coding Experience',inplace=True)\n",
    "experiencDF.variable.replace(to_replace='Q25',value='Machine Leaning Experience',inplace=True)"
   ]
  },
  {
   "cell_type": "code",
   "execution_count": 56,
   "metadata": {},
   "outputs": [
    {
     "data": {
      "text/html": [
       "<div>\n",
       "<style scoped>\n",
       "    .dataframe tbody tr th:only-of-type {\n",
       "        vertical-align: middle;\n",
       "    }\n",
       "\n",
       "    .dataframe tbody tr th {\n",
       "        vertical-align: top;\n",
       "    }\n",
       "\n",
       "    .dataframe thead th {\n",
       "        text-align: right;\n",
       "    }\n",
       "</style>\n",
       "<table border=\"1\" class=\"dataframe\">\n",
       "  <thead>\n",
       "    <tr style=\"text-align: right;\">\n",
       "      <th></th>\n",
       "      <th>variable</th>\n",
       "      <th>value</th>\n",
       "    </tr>\n",
       "  </thead>\n",
       "  <tbody>\n",
       "    <tr>\n",
       "      <th>0</th>\n",
       "      <td>Coding Experience</td>\n",
       "      <td>I have never written code but I want to learn</td>\n",
       "    </tr>\n",
       "    <tr>\n",
       "      <th>1</th>\n",
       "      <td>Coding Experience</td>\n",
       "      <td>I have never written code but I want to learn</td>\n",
       "    </tr>\n",
       "    <tr>\n",
       "      <th>2</th>\n",
       "      <td>Coding Experience</td>\n",
       "      <td>5-10 years</td>\n",
       "    </tr>\n",
       "    <tr>\n",
       "      <th>3</th>\n",
       "      <td>Coding Experience</td>\n",
       "      <td>5-10 years</td>\n",
       "    </tr>\n",
       "    <tr>\n",
       "      <th>4</th>\n",
       "      <td>Coding Experience</td>\n",
       "      <td>5-10 years</td>\n",
       "    </tr>\n",
       "  </tbody>\n",
       "</table>\n",
       "</div>"
      ],
      "text/plain": [
       "            variable                                          value\n",
       "0  Coding Experience  I have never written code but I want to learn\n",
       "1  Coding Experience  I have never written code but I want to learn\n",
       "2  Coding Experience                                     5-10 years\n",
       "3  Coding Experience                                     5-10 years\n",
       "4  Coding Experience                                     5-10 years"
      ]
     },
     "execution_count": 56,
     "metadata": {},
     "output_type": "execute_result"
    }
   ],
   "source": [
    "experiencDF.head()"
   ]
  },
  {
   "cell_type": "code",
   "execution_count": 57,
   "metadata": {},
   "outputs": [
    {
     "data": {
      "text/plain": [
       "< 1 year                                                                 10813\n",
       "1-2 years                                                                10267\n",
       "3-5 years                                                                 4023\n",
       "5-10 years                                                                3040\n",
       "2-3 years                                                                 2088\n",
       "I have never studied machine learning but plan to learn in the future     1828\n",
       "3-4 years                                                                 1140\n",
       "10-20 years                                                               1102\n",
       "I have never written code but I want to learn                              821\n",
       "4-5 years                                                                  810\n",
       "20-30 years                                                                321\n",
       "10-15 years                                                                298\n",
       "20+ years                                                                  167\n",
       "30-40 years                                                                117\n",
       "I have never studied machine learning and I do not plan to                  86\n",
       "40+ years                                                                   62\n",
       "I have never written code and I do not want to learn                        41\n",
       "Name: value, dtype: int64"
      ]
     },
     "execution_count": 57,
     "metadata": {},
     "output_type": "execute_result"
    }
   ],
   "source": [
    "experiencDF.value.value_counts()"
   ]
  },
  {
   "cell_type": "code",
   "execution_count": 58,
   "metadata": {},
   "outputs": [],
   "source": [
    "experiencDF.value.replace(to_replace='I have never studied machine learning but plan to learn in the future',\n",
    "                          value = 'I have never but I want to learn in the future',inplace = True)\n",
    "experiencDF.value.replace(to_replace='I have never written code but I want to learn',\n",
    "                          value = 'I have never but I want to learn in the future',inplace = True)\n",
    "experiencDF.value.replace(to_replace='I have never studied machine learning and I do not plan to',\n",
    "                          value = 'I have never and I do not plan to ',inplace = True)\n",
    "experiencDF.value.replace(to_replace='I have never written code and I do not want to learn',\n",
    "                          value = 'I have never and I do not plan to ',inplace = True)"
   ]
  },
  {
   "cell_type": "code",
   "execution_count": 59,
   "metadata": {},
   "outputs": [
    {
     "data": {
      "text/plain": [
       "< 1 year                                          10813\n",
       "1-2 years                                         10267\n",
       "3-5 years                                          4023\n",
       "5-10 years                                         3040\n",
       "I have never but I want to learn in the future     2649\n",
       "2-3 years                                          2088\n",
       "3-4 years                                          1140\n",
       "10-20 years                                        1102\n",
       "4-5 years                                           810\n",
       "20-30 years                                         321\n",
       "10-15 years                                         298\n",
       "20+ years                                           167\n",
       "I have never and I do not plan to                   127\n",
       "30-40 years                                         117\n",
       "40+ years                                            62\n",
       "Name: value, dtype: int64"
      ]
     },
     "execution_count": 59,
     "metadata": {},
     "output_type": "execute_result"
    }
   ],
   "source": [
    "experiencDF.value.value_counts()"
   ]
  },
  {
   "cell_type": "code",
   "execution_count": 60,
   "metadata": {},
   "outputs": [],
   "source": [
    "experiencDF.to_csv('experienc.csv',index=False)"
   ]
  },
  {
   "cell_type": "markdown",
   "metadata": {},
   "source": [
    "### Conclusion"
   ]
  },
  {
   "cell_type": "markdown",
   "metadata": {},
   "source": [
    "In this notebook, we have analyzed gender, age, geographic distributions of survey takers along with basic questions like do they consider themselves as Data Scientist or not? How long are they coding? How much machine learning experience they have."
   ]
  }
 ],
 "metadata": {
  "kernelspec": {
   "display_name": "Python 3",
   "language": "python",
   "name": "python3"
  },
  "language_info": {
   "codemirror_mode": {
    "name": "ipython",
    "version": 3
   },
   "file_extension": ".py",
   "mimetype": "text/x-python",
   "name": "python",
   "nbconvert_exporter": "python",
   "pygments_lexer": "ipython3",
   "version": "3.6.4"
  }
 },
 "nbformat": 4,
 "nbformat_minor": 2
}
