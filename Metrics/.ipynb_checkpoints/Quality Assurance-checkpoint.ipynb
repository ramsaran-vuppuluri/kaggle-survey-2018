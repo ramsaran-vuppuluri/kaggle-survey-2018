{
 "cells": [
  {
   "cell_type": "markdown",
   "metadata": {},
   "source": [
    "# Quality Assurance\n",
    "## Author: Ram Saran Vuppuluri"
   ]
  },
  {
   "cell_type": "markdown",
   "metadata": {},
   "source": [
    "In this notebook we are analyzing the data gathered regarding quality assurance metrics used by Data Scienctist and Machine Learning Engineers from survey takers.\n",
    "\n",
    "Instead of working on all the columns, we are going to extract the columns from multipleChoiceResponses.csv that are relevant to the analysis. (we are removing multipleChoiceResponses.csv data frame once the values are extracted from primary memory).\n",
    "\n",
    "Following questions in the survey are related to QA metrics:\n",
    "\n",
    "* Q40--Which better demonstrates expertise in data science: academic achievements or independent projects? - Your views:\n",
    "\n",
    "\n",
    "* Q41_Part_1--How do you perceive the importance of the following topics? - Fairness and bias in ML algorithms:\n",
    "* Q41_Part_2--How do you perceive the importance of the following topics? - Being able to explain ML model outputs and/or predictions\n",
    "* Q41_Part_3--How do you perceive the importance of the following topics? - Reproducibility in data science\n",
    "\n",
    "\n",
    "* Q42_Part_1--What metrics do you or your organization use to determine whether or not your models were successful? (Select all that apply) - Selected Choice - Revenue and/or business goals\n",
    "* Q42_Part_2--What metrics do you or your organization use to determine whether or not your models were successful? (Select all that apply) - Selected Choice - Metrics that consider accuracy\n",
    "* Q42_Part_3--What metrics do you or your organization use to determine whether or not your models were successful? (Select all that apply) - Selected Choice - Metrics that consider unfair bias\n",
    "* Q42_Part_4--What metrics do you or your organization use to determine whether or not your models were successful? (Select all that apply) - Selected Choice - Not applicable (I am not involved with an organization that builds ML models)\n",
    "* Q42_Part_5--What metrics do you or your organization use to determine whether or not your models were successful? (Select all that apply) - Selected Choice - Other\n",
    "* Q42_OTHER_TEXT--What metrics do you or your organization use to determine whether or not your models were successful? (Select all that apply) - Other - Text\n",
    "\n",
    "\n",
    "* Q43--Approximately what percent of your data projects involved exploring unfair bias in the dataset and/or algorithm?\n",
    "\n",
    "\n",
    "* Q44_Part_1--What do you find most difficult about ensuring that your algorithms are fair and unbiased? (Select all that apply) - Lack of communication between individuals who collect the data and individuals who analyze the data\n",
    "* Q44_Part_2--What do you find most difficult about ensuring that your algorithms are fair and unbiased? (Select all that apply) - Difficulty in identifying groups that are unfairly targeted\n",
    "* Q44_Part_3--What do you find most difficult about ensuring that your algorithms are fair and unbiased? (Select all that apply) - Difficulty in collecting enough data about groups that may be unfairly targeted\n",
    "* Q44_Part_4--What do you find most difficult about ensuring that your algorithms are fair and unbiased? (Select all that apply) - Difficulty in identifying and selecting the appropriate evaluation metrics\n",
    "* Q44_Part_5--What do you find most difficult about ensuring that your algorithms are fair and unbiased? (Select all that apply) - I have never found any difficulty in this task\n",
    "* Q44_Part_6--What do you find most difficult about ensuring that your algorithms are fair and unbiased? (Select all that apply) - I have never performed this task\n",
    "\n",
    "\n",
    "* Q45_Part_1--In what circumstances would you explore model insights and interpret your model's predictions? (Select all that apply) - Only for very important models that are already in production\n",
    "* Q45_Part_2--In what circumstances would you explore model insights and interpret your model's predictions? (Select all that apply) - For all models right before putting the model in production\n",
    "* Q45_Part_3--In what circumstances would you explore model insights and interpret your model's predictions? (Select all that apply) - When determining whether it is worth it to put the model into production\n",
    "* Q45_Part_4--In what circumstances would you explore model insights and interpret your model's predictions? (Select all that apply) - When building a model that was specifically designed to produce such insights\n",
    "* Q45_Part_5--In what circumstances would you explore model insights and interpret your model's predictions? (Select all that apply) - When first exploring a new ML model or dataset\n",
    "* Q45_Part_6--In what circumstances would you explore model insights and interpret your model's predictions? (Select all that apply) - I do not explore and interpret model insights and predictions\n",
    "\n",
    "\n",
    "* Q46--Approximately what percent of your data projects involve exploring model insights?\n",
    "\n",
    "\n",
    "* Q47_Part_1--What methods do you prefer for explaining and/or interpreting decisions that are made by ML models? (Select all that apply) - Selected Choice - Examine individual model coefficients\n",
    "* Q47_Part_2--What methods do you prefer for explaining and/or interpreting decisions that are made by ML models? (Select all that apply) - Selected Choice - Examine feature correlations\n",
    "* Q47_Part_3--What methods do you prefer for explaining and/or interpreting decisions that are made by ML models? (Select all that apply) - Selected Choice - Examine feature importances\n",
    "* Q47_Part_4--What methods do you prefer for explaining and/or interpreting decisions that are made by ML models? (Select all that apply) - Selected Choice - Plot decision boundaries\n",
    "* Q47_Part_5--What methods do you prefer for explaining and/or interpreting decisions that are made by ML models? (Select all that apply) - Selected Choice - Create partial dependence plots\n",
    "* Q47_Part_6--What methods do you prefer for explaining and/or interpreting decisions that are made by ML models? (Select all that apply) - Selected Choice - Dimensionality reduction techniques\n",
    "* Q47_Part_7--What methods do you prefer for explaining and/or interpreting decisions that are made by ML models? (Select all that apply) - Selected Choice - Attention mapping/saliency mapping\n",
    "* Q47_Part_8--What methods do you prefer for explaining and/or interpreting decisions that are made by ML models? (Select all that apply) - Selected Choice - Plot predicted vs. actual results\n",
    "* Q47_Part_9--What methods do you prefer for explaining and/or interpreting decisions that are made by ML models? (Select all that apply) - Selected Choice - Print out a decision tree\n",
    "* Q47_Part_10--What methods do you prefer for explaining and/or interpreting decisions that are made by ML models? (Select all that apply) - Selected Choice - Sensitivity analysis/perturbation importance\n",
    "* Q47_Part_11--What methods do you prefer for explaining and/or interpreting decisions that are made by ML models? (Select all that apply) - Selected Choice - LIME functions\n",
    "* Q47_Part_12--What methods do you prefer for explaining and/or interpreting decisions that are made by ML models? (Select all that apply) - Selected Choice - ELI5 functions\n",
    "* Q47_Part_13--What methods do you prefer for explaining and/or interpreting decisions that are made by ML models? (Select all that apply) - Selected Choice - SHAP functions\n",
    "* Q47_Part_14--What methods do you prefer for explaining and/or interpreting decisions that are made by ML models? (Select all that apply) - Selected Choice - None/I do not use these model explanation techniques\n",
    "* Q47_Part_15--What methods do you prefer for explaining and/or interpreting decisions that are made by ML models? (Select all that apply) - Selected Choice - Other\n",
    "* Q47_Part_16--What methods do you prefer for explaining and/or interpreting decisions that are made by ML models? (Select all that apply) - Other - Text\n",
    "\n",
    "\n",
    "* Q48--Do you consider ML models to be \"black boxes\" with outputs that are difficult or impossible to explain?\n",
    "\n",
    "\n",
    "* Q49_Part_1--What tools and methods do you use to make your work easy to reproduce? (Select all that apply) - Selected Choice - Share code on Github or a similar code-sharing repository\n",
    "* Q49_Part_2--What tools and methods do you use to make your work easy to reproduce? (Select all that apply) - Selected Choice - Share both data and code on Github or a similar code-sharing repository\n",
    "* Q49_Part_3--What tools and methods do you use to make your work easy to reproduce? (Select all that apply) - Selected Choice - Share data, code, and environment using a hosted service (Kaggle Kernels, Google Colaboratory, Amazon SageMaker, etc.)\n",
    "* Q49_Part_4--What tools and methods do you use to make your work easy to reproduce? (Select all that apply) - Selected Choice - Share data, code, and environment using containers (Docker, etc.)\n",
    "* Q49_Part_5--What tools and methods do you use to make your work easy to reproduce? (Select all that apply) - Selected Choice - Share code, data, and environment using virtual machines (VirtualBox, etc.)\n",
    "* Q49_Part_6--What tools and methods do you use to make your work easy to reproduce? (Select all that apply) - Selected Choice - Make sure the code is well documented\n",
    "* Q49_Part_7--What tools and methods do you use to make your work easy to reproduce? (Select all that apply) - Selected Choice - Make sure the code is human-readable\n",
    "* Q49_Part_8--What tools and methods do you use to make your work easy to reproduce? (Select all that apply) - Selected Choice - Define all random seeds\n",
    "* Q49_Part_9--What tools and methods do you use to make your work easy to reproduce? (Select all that apply) - Selected Choice - Define relative rather than absolute file paths\n",
    "* Q49_Part_10--What tools and methods do you use to make your work easy to reproduce? (Select all that apply) - Selected Choice - Include a text file describing all dependencies\n",
    "* Q49_Part_11--What tools and methods do you use to make your work easy to reproduce? (Select all that apply) - Selected Choice - None/I do not make my work easy for others to reproduce\n",
    "* Q49_Part_12--What tools and methods do you use to make your work easy to reproduce? (Select all that apply) - Selected Choice - Other\n",
    "* Q49_OTHER_TEXT--What tools and methods do you use to make your work easy to reproduce? (Select all that apply) - Other - Text\n",
    "\n",
    "\n",
    "* Q50_Part_1--What barriers prevent you from making your work even easier to reuse and reproduce? (Select all that apply) - Selected Choice - Too expensive\n",
    "* Q50_Part_2--What barriers prevent you from making your work even easier to reuse and reproduce? (Select all that apply) - Selected Choice - Too time-consuming\n",
    "* Q50_Part_3--What barriers prevent you from making your work even easier to reuse and reproduce? (Select all that apply) - Selected Choice - Requires too much technical knowledge\n",
    "* Q50_Part_4--What barriers prevent you from making your work even easier to reuse and reproduce? (Select all that apply) - Selected Choice - Afraid that others will use my work without giving proper credit\n",
    "* Q50_Part_5--What barriers prevent you from making your work even easier to reuse and reproduce? (Select all that apply) - Selected Choice - Not enough incentives to share my work\n",
    "* Q50_Part_6--What barriers prevent you from making your work even easier to reuse and reproduce? (Select all that apply) - Selected Choice - I had never considered making my work easier for others to reproduce\n",
    "* Q50_Part_7--What barriers prevent you from making your work even easier to reuse and reproduce? (Select all that apply) - Selected Choice - None of these reasons apply to me\n",
    "* Q50_Part_8--What barriers prevent you from making your work even easier to reuse and reproduce? (Select all that apply) - Selected Choice - Other\n",
    "* Q50_OTHER_TEXT--What barriers prevent you from making your work even easier to reuse and reproduce? (Select all that apply) - Other - Text\n"
   ]
  },
  {
   "cell_type": "code",
   "execution_count": 1,
   "metadata": {},
   "outputs": [],
   "source": [
    "import gc\n",
    "\n",
    "import pandas as pd\n",
    "import matplotlib.pyplot as plt\n",
    "import seaborn as sns\n",
    "%matplotlib inline\n",
    "\n",
    "import warnings\n",
    "warnings.filterwarnings('ignore')"
   ]
  },
  {
   "cell_type": "code",
   "execution_count": 2,
   "metadata": {},
   "outputs": [],
   "source": [
    "multipleChoiceDF = pd.read_csv('../multipleChoiceResponses.csv',low_memory=False)"
   ]
  },
  {
   "cell_type": "code",
   "execution_count": 3,
   "metadata": {},
   "outputs": [],
   "source": [
    "independentAcademicDF = pd.DataFrame(multipleChoiceDF.Q40)"
   ]
  },
  {
   "cell_type": "code",
   "execution_count": 4,
   "metadata": {},
   "outputs": [
    {
     "data": {
      "text/html": [
       "<div>\n",
       "<style scoped>\n",
       "    .dataframe tbody tr th:only-of-type {\n",
       "        vertical-align: middle;\n",
       "    }\n",
       "\n",
       "    .dataframe tbody tr th {\n",
       "        vertical-align: top;\n",
       "    }\n",
       "\n",
       "    .dataframe thead th {\n",
       "        text-align: right;\n",
       "    }\n",
       "</style>\n",
       "<table border=\"1\" class=\"dataframe\">\n",
       "  <thead>\n",
       "    <tr style=\"text-align: right;\">\n",
       "      <th></th>\n",
       "      <th>Q40</th>\n",
       "    </tr>\n",
       "  </thead>\n",
       "  <tbody>\n",
       "    <tr>\n",
       "      <th>0</th>\n",
       "      <td>Which better demonstrates expertise in data sc...</td>\n",
       "    </tr>\n",
       "    <tr>\n",
       "      <th>1</th>\n",
       "      <td>Independent projects are equally important as ...</td>\n",
       "    </tr>\n",
       "    <tr>\n",
       "      <th>2</th>\n",
       "      <td>Independent projects are equally important as ...</td>\n",
       "    </tr>\n",
       "    <tr>\n",
       "      <th>3</th>\n",
       "      <td>Independent projects are equally important as ...</td>\n",
       "    </tr>\n",
       "    <tr>\n",
       "      <th>4</th>\n",
       "      <td>Independent projects are much more important t...</td>\n",
       "    </tr>\n",
       "  </tbody>\n",
       "</table>\n",
       "</div>"
      ],
      "text/plain": [
       "                                                 Q40\n",
       "0  Which better demonstrates expertise in data sc...\n",
       "1  Independent projects are equally important as ...\n",
       "2  Independent projects are equally important as ...\n",
       "3  Independent projects are equally important as ...\n",
       "4  Independent projects are much more important t..."
      ]
     },
     "execution_count": 4,
     "metadata": {},
     "output_type": "execute_result"
    }
   ],
   "source": [
    "independentAcademicDF.head()"
   ]
  },
  {
   "cell_type": "code",
   "execution_count": 5,
   "metadata": {},
   "outputs": [
    {
     "data": {
      "text/plain": [
       "18"
      ]
     },
     "execution_count": 5,
     "metadata": {},
     "output_type": "execute_result"
    }
   ],
   "source": [
    "del multipleChoiceDF\n",
    "gc.collect()"
   ]
  },
  {
   "cell_type": "code",
   "execution_count": 6,
   "metadata": {},
   "outputs": [
    {
     "data": {
      "text/plain": [
       "'Which better demonstrates expertise in data science: academic achievements or independent projects? - Your views:'"
      ]
     },
     "execution_count": 6,
     "metadata": {},
     "output_type": "execute_result"
    }
   ],
   "source": [
    "independentAcademicDF.Q40[0]"
   ]
  },
  {
   "cell_type": "code",
   "execution_count": 7,
   "metadata": {},
   "outputs": [],
   "source": [
    "independentAcademicDF.drop([0],inplace=True)"
   ]
  },
  {
   "cell_type": "code",
   "execution_count": 8,
   "metadata": {},
   "outputs": [],
   "source": [
    "independentAcademicDF.reset_index(drop=True,inplace=True)"
   ]
  },
  {
   "cell_type": "code",
   "execution_count": 9,
   "metadata": {},
   "outputs": [],
   "source": [
    "independentAcademicDF.rename(columns={\"Q40\":\"independentAcademic\"},inplace=True)"
   ]
  },
  {
   "cell_type": "code",
   "execution_count": 10,
   "metadata": {},
   "outputs": [
    {
     "data": {
      "image/png": "[encoded data removed]",
      "text/plain": [
       "<matplotlib.figure.Figure at 0x1a16bc4780>"
      ]
     },
     "metadata": {},
     "output_type": "display_data"
    }
   ],
   "source": [
    "sns.set(rc={'figure.figsize':(10,8)})\n",
    "ax = sns.countplot(y = independentAcademicDF.independentAcademic)\n",
    "plt.ylabel(\"Academic Vs Independent\")\n",
    "ax.get_figure().savefig(\"independentAcademic.jpeg\")\n",
    "plt.show(ax);"
   ]
  },
  {
   "cell_type": "code",
   "execution_count": 11,
   "metadata": {},
   "outputs": [],
   "source": [
    "independentAcademicDF.to_csv('independentAcademic.csv',index=False)"
   ]
  },
  {
   "cell_type": "code",
   "execution_count": 12,
   "metadata": {},
   "outputs": [
    {
     "data": {
      "text/plain": [
       "45"
      ]
     },
     "execution_count": 12,
     "metadata": {},
     "output_type": "execute_result"
    }
   ],
   "source": [
    "del independentAcademicDF\n",
    "gc.collect()"
   ]
  },
  {
   "cell_type": "code",
   "execution_count": 13,
   "metadata": {},
   "outputs": [],
   "source": [
    "multipleChoiceDF = pd.read_csv('../multipleChoiceResponses.csv',low_memory=False)"
   ]
  },
  {
   "cell_type": "code",
   "execution_count": 14,
   "metadata": {},
   "outputs": [],
   "source": [
    "importantTopicsDF = multipleChoiceDF[['Q41_Part_1', 'Q41_Part_2','Q41_Part_3']]"
   ]
  },
  {
   "cell_type": "code",
   "execution_count": 15,
   "metadata": {},
   "outputs": [
    {
     "data": {
      "text/html": [
       "<div>\n",
       "<style scoped>\n",
       "    .dataframe tbody tr th:only-of-type {\n",
       "        vertical-align: middle;\n",
       "    }\n",
       "\n",
       "    .dataframe tbody tr th {\n",
       "        vertical-align: top;\n",
       "    }\n",
       "\n",
       "    .dataframe thead th {\n",
       "        text-align: right;\n",
       "    }\n",
       "</style>\n",
       "<table border=\"1\" class=\"dataframe\">\n",
       "  <thead>\n",
       "    <tr style=\"text-align: right;\">\n",
       "      <th></th>\n",
       "      <th>Q41_Part_1</th>\n",
       "      <th>Q41_Part_2</th>\n",
       "      <th>Q41_Part_3</th>\n",
       "    </tr>\n",
       "  </thead>\n",
       "  <tbody>\n",
       "    <tr>\n",
       "      <th>0</th>\n",
       "      <td>How do you perceive the importance of the foll...</td>\n",
       "      <td>How do you perceive the importance of the foll...</td>\n",
       "      <td>How do you perceive the importance of the foll...</td>\n",
       "    </tr>\n",
       "    <tr>\n",
       "      <th>1</th>\n",
       "      <td>NaN</td>\n",
       "      <td>NaN</td>\n",
       "      <td>NaN</td>\n",
       "    </tr>\n",
       "    <tr>\n",
       "      <th>2</th>\n",
       "      <td>NaN</td>\n",
       "      <td>NaN</td>\n",
       "      <td>NaN</td>\n",
       "    </tr>\n",
       "    <tr>\n",
       "      <th>3</th>\n",
       "      <td>Very important</td>\n",
       "      <td>Very important</td>\n",
       "      <td>Very important</td>\n",
       "    </tr>\n",
       "    <tr>\n",
       "      <th>4</th>\n",
       "      <td>Very important</td>\n",
       "      <td>Very important</td>\n",
       "      <td>Very important</td>\n",
       "    </tr>\n",
       "  </tbody>\n",
       "</table>\n",
       "</div>"
      ],
      "text/plain": [
       "                                          Q41_Part_1  \\\n",
       "0  How do you perceive the importance of the foll...   \n",
       "1                                                NaN   \n",
       "2                                                NaN   \n",
       "3                                     Very important   \n",
       "4                                     Very important   \n",
       "\n",
       "                                          Q41_Part_2  \\\n",
       "0  How do you perceive the importance of the foll...   \n",
       "1                                                NaN   \n",
       "2                                                NaN   \n",
       "3                                     Very important   \n",
       "4                                     Very important   \n",
       "\n",
       "                                          Q41_Part_3  \n",
       "0  How do you perceive the importance of the foll...  \n",
       "1                                                NaN  \n",
       "2                                                NaN  \n",
       "3                                     Very important  \n",
       "4                                     Very important  "
      ]
     },
     "execution_count": 15,
     "metadata": {},
     "output_type": "execute_result"
    }
   ],
   "source": [
    "importantTopicsDF.head()"
   ]
  },
  {
   "cell_type": "code",
   "execution_count": 16,
   "metadata": {},
   "outputs": [
    {
     "data": {
      "text/plain": [
       "17"
      ]
     },
     "execution_count": 16,
     "metadata": {},
     "output_type": "execute_result"
    }
   ],
   "source": [
    "del multipleChoiceDF\n",
    "gc.collect()"
   ]
  },
  {
   "cell_type": "code",
   "execution_count": 17,
   "metadata": {},
   "outputs": [],
   "source": [
    "importantTopicsDF.drop([0],inplace=True)\n",
    "importantTopicsDF.reset_index(drop=True,inplace=True)"
   ]
  },
  {
   "cell_type": "code",
   "execution_count": 18,
   "metadata": {},
   "outputs": [
    {
     "data": {
      "text/html": [
       "<div>\n",
       "<style scoped>\n",
       "    .dataframe tbody tr th:only-of-type {\n",
       "        vertical-align: middle;\n",
       "    }\n",
       "\n",
       "    .dataframe tbody tr th {\n",
       "        vertical-align: top;\n",
       "    }\n",
       "\n",
       "    .dataframe thead th {\n",
       "        text-align: right;\n",
       "    }\n",
       "</style>\n",
       "<table border=\"1\" class=\"dataframe\">\n",
       "  <thead>\n",
       "    <tr style=\"text-align: right;\">\n",
       "      <th></th>\n",
       "      <th>Q41_Part_1</th>\n",
       "      <th>Q41_Part_2</th>\n",
       "      <th>Q41_Part_3</th>\n",
       "    </tr>\n",
       "  </thead>\n",
       "  <tbody>\n",
       "    <tr>\n",
       "      <th>0</th>\n",
       "      <td>NaN</td>\n",
       "      <td>NaN</td>\n",
       "      <td>NaN</td>\n",
       "    </tr>\n",
       "    <tr>\n",
       "      <th>1</th>\n",
       "      <td>NaN</td>\n",
       "      <td>NaN</td>\n",
       "      <td>NaN</td>\n",
       "    </tr>\n",
       "    <tr>\n",
       "      <th>2</th>\n",
       "      <td>Very important</td>\n",
       "      <td>Very important</td>\n",
       "      <td>Very important</td>\n",
       "    </tr>\n",
       "    <tr>\n",
       "      <th>3</th>\n",
       "      <td>Very important</td>\n",
       "      <td>Very important</td>\n",
       "      <td>Very important</td>\n",
       "    </tr>\n",
       "    <tr>\n",
       "      <th>4</th>\n",
       "      <td>Not at all important</td>\n",
       "      <td>Slightly important</td>\n",
       "      <td>Very important</td>\n",
       "    </tr>\n",
       "  </tbody>\n",
       "</table>\n",
       "</div>"
      ],
      "text/plain": [
       "             Q41_Part_1          Q41_Part_2      Q41_Part_3\n",
       "0                   NaN                 NaN             NaN\n",
       "1                   NaN                 NaN             NaN\n",
       "2        Very important      Very important  Very important\n",
       "3        Very important      Very important  Very important\n",
       "4  Not at all important  Slightly important  Very important"
      ]
     },
     "execution_count": 18,
     "metadata": {},
     "output_type": "execute_result"
    }
   ],
   "source": [
    "importantTopicsDF.head()"
   ]
  },
  {
   "cell_type": "code",
   "execution_count": 19,
   "metadata": {},
   "outputs": [],
   "source": [
    "importantTopicsDF.rename(columns={\"Q41_Part_1\":\"Fairness_Bias\",\n",
    "                                  \"Q41_Part_2\":\"Explain_Model\",\n",
    "                                  \"Q41_Part_3\":\"Reproducibility\"},inplace=True)"
   ]
  },
  {
   "cell_type": "code",
   "execution_count": 20,
   "metadata": {},
   "outputs": [
    {
     "data": {
      "text/html": [
       "<div>\n",
       "<style scoped>\n",
       "    .dataframe tbody tr th:only-of-type {\n",
       "        vertical-align: middle;\n",
       "    }\n",
       "\n",
       "    .dataframe tbody tr th {\n",
       "        vertical-align: top;\n",
       "    }\n",
       "\n",
       "    .dataframe thead th {\n",
       "        text-align: right;\n",
       "    }\n",
       "</style>\n",
       "<table border=\"1\" class=\"dataframe\">\n",
       "  <thead>\n",
       "    <tr style=\"text-align: right;\">\n",
       "      <th></th>\n",
       "      <th>Fairness_Bias</th>\n",
       "      <th>Explain_Model</th>\n",
       "      <th>Reproducibility</th>\n",
       "    </tr>\n",
       "  </thead>\n",
       "  <tbody>\n",
       "    <tr>\n",
       "      <th>0</th>\n",
       "      <td>NaN</td>\n",
       "      <td>NaN</td>\n",
       "      <td>NaN</td>\n",
       "    </tr>\n",
       "    <tr>\n",
       "      <th>1</th>\n",
       "      <td>NaN</td>\n",
       "      <td>NaN</td>\n",
       "      <td>NaN</td>\n",
       "    </tr>\n",
       "    <tr>\n",
       "      <th>2</th>\n",
       "      <td>Very important</td>\n",
       "      <td>Very important</td>\n",
       "      <td>Very important</td>\n",
       "    </tr>\n",
       "    <tr>\n",
       "      <th>3</th>\n",
       "      <td>Very important</td>\n",
       "      <td>Very important</td>\n",
       "      <td>Very important</td>\n",
       "    </tr>\n",
       "    <tr>\n",
       "      <th>4</th>\n",
       "      <td>Not at all important</td>\n",
       "      <td>Slightly important</td>\n",
       "      <td>Very important</td>\n",
       "    </tr>\n",
       "  </tbody>\n",
       "</table>\n",
       "</div>"
      ],
      "text/plain": [
       "          Fairness_Bias       Explain_Model Reproducibility\n",
       "0                   NaN                 NaN             NaN\n",
       "1                   NaN                 NaN             NaN\n",
       "2        Very important      Very important  Very important\n",
       "3        Very important      Very important  Very important\n",
       "4  Not at all important  Slightly important  Very important"
      ]
     },
     "execution_count": 20,
     "metadata": {},
     "output_type": "execute_result"
    }
   ],
   "source": [
    "importantTopicsDF.head()"
   ]
  },
  {
   "cell_type": "code",
   "execution_count": 21,
   "metadata": {},
   "outputs": [
    {
     "data": {
      "image/png": "[encoded data removed]",
      "text/plain": [
       "<matplotlib.figure.Figure at 0x10f219d30>"
      ]
     },
     "metadata": {},
     "output_type": "display_data"
    }
   ],
   "source": [
    "sns.set(rc={'figure.figsize':(10,8)})\n",
    "ax = sns.countplot(y = importantTopicsDF.Fairness_Bias)\n",
    "plt.ylabel(\"Fairness Bias\")\n",
    "ax.get_figure().savefig(\"Fairness_Bias.jpeg\")\n",
    "plt.show(ax);"
   ]
  },
  {
   "cell_type": "code",
   "execution_count": 22,
   "metadata": {},
   "outputs": [
    {
     "data": {
      "image/png": "[encoded data removed]",
      "text/plain": [
       "<matplotlib.figure.Figure at 0x1a16bc30b8>"
      ]
     },
     "metadata": {},
     "output_type": "display_data"
    }
   ],
   "source": [
    "ax = sns.countplot(y = importantTopicsDF.Explain_Model)\n",
    "plt.ylabel(\"Explain Model\")\n",
    "ax.get_figure().savefig(\"Explain_Model.jpeg\")\n",
    "plt.show(ax);"
   ]
  },
  {
   "cell_type": "code",
   "execution_count": 23,
   "metadata": {},
   "outputs": [
    {
     "data": {
      "image/png": "[encoded data removed]",
      "text/plain": [
       "<matplotlib.figure.Figure at 0x1a1d3afc50>"
      ]
     },
     "metadata": {},
     "output_type": "display_data"
    }
   ],
   "source": [
    "ax = sns.countplot(y = importantTopicsDF.Reproducibility)\n",
    "plt.ylabel(\"Reproducibility\")\n",
    "ax.get_figure().savefig(\"Reproducibility.jpeg\")\n",
    "plt.show(ax);"
   ]
  },
  {
   "cell_type": "code",
   "execution_count": 24,
   "metadata": {},
   "outputs": [],
   "source": [
    "importantTopicsDF.to_csv('importantTopics.csv',index=False)"
   ]
  },
  {
   "cell_type": "code",
   "execution_count": 25,
   "metadata": {},
   "outputs": [
    {
     "data": {
      "text/plain": [
       "6856"
      ]
     },
     "execution_count": 25,
     "metadata": {},
     "output_type": "execute_result"
    }
   ],
   "source": [
    "del importantTopicsDF\n",
    "gc.collect()"
   ]
  },
  {
   "cell_type": "code",
   "execution_count": 26,
   "metadata": {},
   "outputs": [],
   "source": [
    "multipleChoiceDF = pd.read_csv('../multipleChoiceResponses.csv',low_memory=False)"
   ]
  },
  {
   "cell_type": "code",
   "execution_count": 27,
   "metadata": {},
   "outputs": [],
   "source": [
    "businessValueDF = multipleChoiceDF[['Q42_Part_1', 'Q42_Part_2','Q42_Part_3', 'Q42_Part_4','Q42_Part_5']]"
   ]
  },
  {
   "cell_type": "code",
   "execution_count": 28,
   "metadata": {},
   "outputs": [
    {
     "data": {
      "text/html": [
       "<div>\n",
       "<style scoped>\n",
       "    .dataframe tbody tr th:only-of-type {\n",
       "        vertical-align: middle;\n",
       "    }\n",
       "\n",
       "    .dataframe tbody tr th {\n",
       "        vertical-align: top;\n",
       "    }\n",
       "\n",
       "    .dataframe thead th {\n",
       "        text-align: right;\n",
       "    }\n",
       "</style>\n",
       "<table border=\"1\" class=\"dataframe\">\n",
       "  <thead>\n",
       "    <tr style=\"text-align: right;\">\n",
       "      <th></th>\n",
       "      <th>Q42_Part_1</th>\n",
       "      <th>Q42_Part_2</th>\n",
       "      <th>Q42_Part_3</th>\n",
       "      <th>Q42_Part_4</th>\n",
       "      <th>Q42_Part_5</th>\n",
       "    </tr>\n",
       "  </thead>\n",
       "  <tbody>\n",
       "    <tr>\n",
       "      <th>0</th>\n",
       "      <td>What metrics do you or your organization use t...</td>\n",
       "      <td>What metrics do you or your organization use t...</td>\n",
       "      <td>What metrics do you or your organization use t...</td>\n",
       "      <td>What metrics do you or your organization use t...</td>\n",
       "      <td>What metrics do you or your organization use t...</td>\n",
       "    </tr>\n",
       "    <tr>\n",
       "      <th>1</th>\n",
       "      <td>NaN</td>\n",
       "      <td>NaN</td>\n",
       "      <td>NaN</td>\n",
       "      <td>NaN</td>\n",
       "      <td>NaN</td>\n",
       "    </tr>\n",
       "    <tr>\n",
       "      <th>2</th>\n",
       "      <td>NaN</td>\n",
       "      <td>NaN</td>\n",
       "      <td>NaN</td>\n",
       "      <td>NaN</td>\n",
       "      <td>NaN</td>\n",
       "    </tr>\n",
       "    <tr>\n",
       "      <th>3</th>\n",
       "      <td>NaN</td>\n",
       "      <td>Metrics that consider accuracy</td>\n",
       "      <td>NaN</td>\n",
       "      <td>NaN</td>\n",
       "      <td>NaN</td>\n",
       "    </tr>\n",
       "    <tr>\n",
       "      <th>4</th>\n",
       "      <td>Revenue and/or business goals</td>\n",
       "      <td>Metrics that consider accuracy</td>\n",
       "      <td>NaN</td>\n",
       "      <td>NaN</td>\n",
       "      <td>NaN</td>\n",
       "    </tr>\n",
       "  </tbody>\n",
       "</table>\n",
       "</div>"
      ],
      "text/plain": [
       "                                          Q42_Part_1  \\\n",
       "0  What metrics do you or your organization use t...   \n",
       "1                                                NaN   \n",
       "2                                                NaN   \n",
       "3                                                NaN   \n",
       "4                      Revenue and/or business goals   \n",
       "\n",
       "                                          Q42_Part_2  \\\n",
       "0  What metrics do you or your organization use t...   \n",
       "1                                                NaN   \n",
       "2                                                NaN   \n",
       "3                     Metrics that consider accuracy   \n",
       "4                     Metrics that consider accuracy   \n",
       "\n",
       "                                          Q42_Part_3  \\\n",
       "0  What metrics do you or your organization use t...   \n",
       "1                                                NaN   \n",
       "2                                                NaN   \n",
       "3                                                NaN   \n",
       "4                                                NaN   \n",
       "\n",
       "                                          Q42_Part_4  \\\n",
       "0  What metrics do you or your organization use t...   \n",
       "1                                                NaN   \n",
       "2                                                NaN   \n",
       "3                                                NaN   \n",
       "4                                                NaN   \n",
       "\n",
       "                                          Q42_Part_5  \n",
       "0  What metrics do you or your organization use t...  \n",
       "1                                                NaN  \n",
       "2                                                NaN  \n",
       "3                                                NaN  \n",
       "4                                                NaN  "
      ]
     },
     "execution_count": 28,
     "metadata": {},
     "output_type": "execute_result"
    }
   ],
   "source": [
    "businessValueDF.head()"
   ]
  },
  {
   "cell_type": "code",
   "execution_count": 29,
   "metadata": {},
   "outputs": [
    {
     "data": {
      "text/plain": [
       "17"
      ]
     },
     "execution_count": 29,
     "metadata": {},
     "output_type": "execute_result"
    }
   ],
   "source": [
    "del multipleChoiceDF\n",
    "gc.collect()"
   ]
  },
  {
   "cell_type": "code",
   "execution_count": 30,
   "metadata": {},
   "outputs": [],
   "source": [
    "businessValueDF.drop([0],inplace=True)\n",
    "businessValueDF.reset_index(drop = True,inplace=True)"
   ]
  },
  {
   "cell_type": "code",
   "execution_count": 31,
   "metadata": {},
   "outputs": [],
   "source": [
    "businessValueDF = pd.melt(businessValueDF)"
   ]
  },
  {
   "cell_type": "code",
   "execution_count": 32,
   "metadata": {},
   "outputs": [
    {
     "data": {
      "text/html": [
       "<div>\n",
       "<style scoped>\n",
       "    .dataframe tbody tr th:only-of-type {\n",
       "        vertical-align: middle;\n",
       "    }\n",
       "\n",
       "    .dataframe tbody tr th {\n",
       "        vertical-align: top;\n",
       "    }\n",
       "\n",
       "    .dataframe thead th {\n",
       "        text-align: right;\n",
       "    }\n",
       "</style>\n",
       "<table border=\"1\" class=\"dataframe\">\n",
       "  <thead>\n",
       "    <tr style=\"text-align: right;\">\n",
       "      <th></th>\n",
       "      <th>variable</th>\n",
       "      <th>value</th>\n",
       "    </tr>\n",
       "  </thead>\n",
       "  <tbody>\n",
       "    <tr>\n",
       "      <th>0</th>\n",
       "      <td>Q42_Part_1</td>\n",
       "      <td>NaN</td>\n",
       "    </tr>\n",
       "    <tr>\n",
       "      <th>1</th>\n",
       "      <td>Q42_Part_1</td>\n",
       "      <td>NaN</td>\n",
       "    </tr>\n",
       "    <tr>\n",
       "      <th>2</th>\n",
       "      <td>Q42_Part_1</td>\n",
       "      <td>NaN</td>\n",
       "    </tr>\n",
       "    <tr>\n",
       "      <th>3</th>\n",
       "      <td>Q42_Part_1</td>\n",
       "      <td>Revenue and/or business goals</td>\n",
       "    </tr>\n",
       "    <tr>\n",
       "      <th>4</th>\n",
       "      <td>Q42_Part_1</td>\n",
       "      <td>NaN</td>\n",
       "    </tr>\n",
       "  </tbody>\n",
       "</table>\n",
       "</div>"
      ],
      "text/plain": [
       "     variable                          value\n",
       "0  Q42_Part_1                            NaN\n",
       "1  Q42_Part_1                            NaN\n",
       "2  Q42_Part_1                            NaN\n",
       "3  Q42_Part_1  Revenue and/or business goals\n",
       "4  Q42_Part_1                            NaN"
      ]
     },
     "execution_count": 32,
     "metadata": {},
     "output_type": "execute_result"
    }
   ],
   "source": [
    "businessValueDF.head()"
   ]
  },
  {
   "cell_type": "code",
   "execution_count": 33,
   "metadata": {},
   "outputs": [],
   "source": [
    "businessValueDF.drop(columns=['variable'],inplace=True)\n",
    "businessValueDF.dropna(inplace=True)\n",
    "businessValueDF.reset_index(drop=True,inplace=True)"
   ]
  },
  {
   "cell_type": "code",
   "execution_count": 34,
   "metadata": {},
   "outputs": [],
   "source": [
    "businessValueDF.rename(columns={'value':'business_value'},inplace=True)"
   ]
  },
  {
   "cell_type": "code",
   "execution_count": 35,
   "metadata": {},
   "outputs": [
    {
     "data": {
      "image/png": "[encoded data removed]",
      "text/plain": [
       "<matplotlib.figure.Figure at 0x1a1ee8c048>"
      ]
     },
     "metadata": {},
     "output_type": "display_data"
    }
   ],
   "source": [
    "ax = sns.countplot(y = businessValueDF.business_value)\n",
    "plt.ylabel(\"Business Value\")\n",
    "ax.get_figure().savefig(\"business_value.jpeg\")\n",
    "plt.show(ax);"
   ]
  },
  {
   "cell_type": "code",
   "execution_count": 36,
   "metadata": {},
   "outputs": [],
   "source": [
    "businessValueDF.to_csv('businessValue.csv',index=False)"
   ]
  },
  {
   "cell_type": "code",
   "execution_count": 37,
   "metadata": {},
   "outputs": [
    {
     "data": {
      "text/plain": [
       "2266"
      ]
     },
     "execution_count": 37,
     "metadata": {},
     "output_type": "execute_result"
    }
   ],
   "source": [
    "del businessValueDF\n",
    "gc.collect()"
   ]
  },
  {
   "cell_type": "code",
   "execution_count": 38,
   "metadata": {},
   "outputs": [],
   "source": [
    "multipleChoiceDF = pd.read_csv('../multipleChoiceResponses.csv',low_memory=False)"
   ]
  },
  {
   "cell_type": "code",
   "execution_count": 39,
   "metadata": {},
   "outputs": [],
   "source": [
    "exploringUnbiasDF = pd.DataFrame(multipleChoiceDF.Q43)"
   ]
  },
  {
   "cell_type": "code",
   "execution_count": 40,
   "metadata": {},
   "outputs": [
    {
     "data": {
      "text/html": [
       "<div>\n",
       "<style scoped>\n",
       "    .dataframe tbody tr th:only-of-type {\n",
       "        vertical-align: middle;\n",
       "    }\n",
       "\n",
       "    .dataframe tbody tr th {\n",
       "        vertical-align: top;\n",
       "    }\n",
       "\n",
       "    .dataframe thead th {\n",
       "        text-align: right;\n",
       "    }\n",
       "</style>\n",
       "<table border=\"1\" class=\"dataframe\">\n",
       "  <thead>\n",
       "    <tr style=\"text-align: right;\">\n",
       "      <th></th>\n",
       "      <th>Q43</th>\n",
       "    </tr>\n",
       "  </thead>\n",
       "  <tbody>\n",
       "    <tr>\n",
       "      <th>0</th>\n",
       "      <td>Approximately what percent of your data projec...</td>\n",
       "    </tr>\n",
       "    <tr>\n",
       "      <th>1</th>\n",
       "      <td>NaN</td>\n",
       "    </tr>\n",
       "    <tr>\n",
       "      <th>2</th>\n",
       "      <td>NaN</td>\n",
       "    </tr>\n",
       "    <tr>\n",
       "      <th>3</th>\n",
       "      <td>0-10</td>\n",
       "    </tr>\n",
       "    <tr>\n",
       "      <th>4</th>\n",
       "      <td>0-10</td>\n",
       "    </tr>\n",
       "  </tbody>\n",
       "</table>\n",
       "</div>"
      ],
      "text/plain": [
       "                                                 Q43\n",
       "0  Approximately what percent of your data projec...\n",
       "1                                                NaN\n",
       "2                                                NaN\n",
       "3                                               0-10\n",
       "4                                               0-10"
      ]
     },
     "execution_count": 40,
     "metadata": {},
     "output_type": "execute_result"
    }
   ],
   "source": [
    "exploringUnbiasDF.head()"
   ]
  },
  {
   "cell_type": "code",
   "execution_count": 41,
   "metadata": {},
   "outputs": [],
   "source": [
    "exploringUnbiasDF.drop([0],inplace=True)\n",
    "exploringUnbiasDF.dropna(inplace=True)\n",
    "exploringUnbiasDF.reset_index(drop=True,inplace=True)"
   ]
  },
  {
   "cell_type": "code",
   "execution_count": 42,
   "metadata": {},
   "outputs": [],
   "source": [
    "exploringUnbiasDF.rename(columns={\"Q43\":\"exploringUnbias\"},inplace=True)"
   ]
  },
  {
   "cell_type": "code",
   "execution_count": 43,
   "metadata": {},
   "outputs": [
    {
     "data": {
      "image/png": "[encoded data removed]",
      "text/plain": [
       "<matplotlib.figure.Figure at 0x1a1df27f60>"
      ]
     },
     "metadata": {},
     "output_type": "display_data"
    }
   ],
   "source": [
    "ax = sns.countplot(y = exploringUnbiasDF.exploringUnbias)\n",
    "plt.ylabel(\"Exploring Unbias\")\n",
    "ax.get_figure().savefig(\"exploringUnbias.jpeg\")\n",
    "plt.show(ax);"
   ]
  },
  {
   "cell_type": "code",
   "execution_count": 44,
   "metadata": {},
   "outputs": [],
   "source": [
    "exploringUnbiasDF.to_csv('exploringUnbias.csv',index=False)"
   ]
  },
  {
   "cell_type": "code",
   "execution_count": 45,
   "metadata": {},
   "outputs": [
    {
     "data": {
      "text/plain": [
       "2564"
      ]
     },
     "execution_count": 45,
     "metadata": {},
     "output_type": "execute_result"
    }
   ],
   "source": [
    "del exploringUnbiasDF\n",
    "gc.collect()"
   ]
  },
  {
   "cell_type": "code",
   "execution_count": 46,
   "metadata": {},
   "outputs": [],
   "source": [
    "multipleChoiceDF = pd.read_csv('../multipleChoiceResponses.csv',low_memory=False)"
   ]
  },
  {
   "cell_type": "code",
   "execution_count": 47,
   "metadata": {},
   "outputs": [],
   "source": [
    "reasonForBiasDF = multipleChoiceDF[['Q44_Part_1', 'Q44_Part_2','Q44_Part_3', 'Q44_Part_4','Q44_Part_5', 'Q44_Part_6']]"
   ]
  },
  {
   "cell_type": "code",
   "execution_count": 48,
   "metadata": {},
   "outputs": [
    {
     "data": {
      "text/html": [
       "<div>\n",
       "<style scoped>\n",
       "    .dataframe tbody tr th:only-of-type {\n",
       "        vertical-align: middle;\n",
       "    }\n",
       "\n",
       "    .dataframe tbody tr th {\n",
       "        vertical-align: top;\n",
       "    }\n",
       "\n",
       "    .dataframe thead th {\n",
       "        text-align: right;\n",
       "    }\n",
       "</style>\n",
       "<table border=\"1\" class=\"dataframe\">\n",
       "  <thead>\n",
       "    <tr style=\"text-align: right;\">\n",
       "      <th></th>\n",
       "      <th>Q44_Part_1</th>\n",
       "      <th>Q44_Part_2</th>\n",
       "      <th>Q44_Part_3</th>\n",
       "      <th>Q44_Part_4</th>\n",
       "      <th>Q44_Part_5</th>\n",
       "      <th>Q44_Part_6</th>\n",
       "    </tr>\n",
       "  </thead>\n",
       "  <tbody>\n",
       "    <tr>\n",
       "      <th>0</th>\n",
       "      <td>What do you find most difficult about ensuring...</td>\n",
       "      <td>What do you find most difficult about ensuring...</td>\n",
       "      <td>What do you find most difficult about ensuring...</td>\n",
       "      <td>What do you find most difficult about ensuring...</td>\n",
       "      <td>What do you find most difficult about ensuring...</td>\n",
       "      <td>What do you find most difficult about ensuring...</td>\n",
       "    </tr>\n",
       "    <tr>\n",
       "      <th>1</th>\n",
       "      <td>NaN</td>\n",
       "      <td>NaN</td>\n",
       "      <td>NaN</td>\n",
       "      <td>NaN</td>\n",
       "      <td>NaN</td>\n",
       "      <td>NaN</td>\n",
       "    </tr>\n",
       "    <tr>\n",
       "      <th>2</th>\n",
       "      <td>NaN</td>\n",
       "      <td>NaN</td>\n",
       "      <td>NaN</td>\n",
       "      <td>NaN</td>\n",
       "      <td>NaN</td>\n",
       "      <td>NaN</td>\n",
       "    </tr>\n",
       "    <tr>\n",
       "      <th>3</th>\n",
       "      <td>Lack of communication between individuals who ...</td>\n",
       "      <td>NaN</td>\n",
       "      <td>NaN</td>\n",
       "      <td>NaN</td>\n",
       "      <td>NaN</td>\n",
       "      <td>NaN</td>\n",
       "    </tr>\n",
       "    <tr>\n",
       "      <th>4</th>\n",
       "      <td>NaN</td>\n",
       "      <td>NaN</td>\n",
       "      <td>Difficulty in collecting enough data about gro...</td>\n",
       "      <td>NaN</td>\n",
       "      <td>NaN</td>\n",
       "      <td>NaN</td>\n",
       "    </tr>\n",
       "  </tbody>\n",
       "</table>\n",
       "</div>"
      ],
      "text/plain": [
       "                                          Q44_Part_1  \\\n",
       "0  What do you find most difficult about ensuring...   \n",
       "1                                                NaN   \n",
       "2                                                NaN   \n",
       "3  Lack of communication between individuals who ...   \n",
       "4                                                NaN   \n",
       "\n",
       "                                          Q44_Part_2  \\\n",
       "0  What do you find most difficult about ensuring...   \n",
       "1                                                NaN   \n",
       "2                                                NaN   \n",
       "3                                                NaN   \n",
       "4                                                NaN   \n",
       "\n",
       "                                          Q44_Part_3  \\\n",
       "0  What do you find most difficult about ensuring...   \n",
       "1                                                NaN   \n",
       "2                                                NaN   \n",
       "3                                                NaN   \n",
       "4  Difficulty in collecting enough data about gro...   \n",
       "\n",
       "                                          Q44_Part_4  \\\n",
       "0  What do you find most difficult about ensuring...   \n",
       "1                                                NaN   \n",
       "2                                                NaN   \n",
       "3                                                NaN   \n",
       "4                                                NaN   \n",
       "\n",
       "                                          Q44_Part_5  \\\n",
       "0  What do you find most difficult about ensuring...   \n",
       "1                                                NaN   \n",
       "2                                                NaN   \n",
       "3                                                NaN   \n",
       "4                                                NaN   \n",
       "\n",
       "                                          Q44_Part_6  \n",
       "0  What do you find most difficult about ensuring...  \n",
       "1                                                NaN  \n",
       "2                                                NaN  \n",
       "3                                                NaN  \n",
       "4                                                NaN  "
      ]
     },
     "execution_count": 48,
     "metadata": {},
     "output_type": "execute_result"
    }
   ],
   "source": [
    "reasonForBiasDF.head()"
   ]
  },
  {
   "cell_type": "code",
   "execution_count": 49,
   "metadata": {},
   "outputs": [],
   "source": [
    "reasonForBiasDF.drop([0],inplace=True)\n",
    "reasonForBiasDF.reset_index(drop=True,inplace=True)"
   ]
  },
  {
   "cell_type": "code",
   "execution_count": 50,
   "metadata": {},
   "outputs": [],
   "source": [
    "reasonForBiasDF = pd.melt(reasonForBiasDF)"
   ]
  },
  {
   "cell_type": "code",
   "execution_count": 51,
   "metadata": {},
   "outputs": [
    {
     "data": {
      "text/html": [
       "<div>\n",
       "<style scoped>\n",
       "    .dataframe tbody tr th:only-of-type {\n",
       "        vertical-align: middle;\n",
       "    }\n",
       "\n",
       "    .dataframe tbody tr th {\n",
       "        vertical-align: top;\n",
       "    }\n",
       "\n",
       "    .dataframe thead th {\n",
       "        text-align: right;\n",
       "    }\n",
       "</style>\n",
       "<table border=\"1\" class=\"dataframe\">\n",
       "  <thead>\n",
       "    <tr style=\"text-align: right;\">\n",
       "      <th></th>\n",
       "      <th>variable</th>\n",
       "      <th>value</th>\n",
       "    </tr>\n",
       "  </thead>\n",
       "  <tbody>\n",
       "    <tr>\n",
       "      <th>0</th>\n",
       "      <td>Q44_Part_1</td>\n",
       "      <td>NaN</td>\n",
       "    </tr>\n",
       "    <tr>\n",
       "      <th>1</th>\n",
       "      <td>Q44_Part_1</td>\n",
       "      <td>NaN</td>\n",
       "    </tr>\n",
       "    <tr>\n",
       "      <th>2</th>\n",
       "      <td>Q44_Part_1</td>\n",
       "      <td>Lack of communication between individuals who ...</td>\n",
       "    </tr>\n",
       "    <tr>\n",
       "      <th>3</th>\n",
       "      <td>Q44_Part_1</td>\n",
       "      <td>NaN</td>\n",
       "    </tr>\n",
       "    <tr>\n",
       "      <th>4</th>\n",
       "      <td>Q44_Part_1</td>\n",
       "      <td>NaN</td>\n",
       "    </tr>\n",
       "  </tbody>\n",
       "</table>\n",
       "</div>"
      ],
      "text/plain": [
       "     variable                                              value\n",
       "0  Q44_Part_1                                                NaN\n",
       "1  Q44_Part_1                                                NaN\n",
       "2  Q44_Part_1  Lack of communication between individuals who ...\n",
       "3  Q44_Part_1                                                NaN\n",
       "4  Q44_Part_1                                                NaN"
      ]
     },
     "execution_count": 51,
     "metadata": {},
     "output_type": "execute_result"
    }
   ],
   "source": [
    "reasonForBiasDF.head()"
   ]
  },
  {
   "cell_type": "code",
   "execution_count": 52,
   "metadata": {},
   "outputs": [],
   "source": [
    "reasonForBiasDF.drop(columns=['variable'],inplace=True)\n",
    "reasonForBiasDF.rename(columns={'value':'reasonForBias'},inplace=True)\n",
    "reasonForBiasDF.dropna(inplace=True)\n",
    "reasonForBiasDF.reset_index(drop=True,inplace=True)"
   ]
  },
  {
   "cell_type": "code",
   "execution_count": 53,
   "metadata": {},
   "outputs": [
    {
     "data": {
      "image/png": "[encoded data removed]",
      "text/plain": [
       "<matplotlib.figure.Figure at 0x1a16ba62e8>"
      ]
     },
     "metadata": {},
     "output_type": "display_data"
    }
   ],
   "source": [
    "ax = sns.countplot(y = reasonForBiasDF.reasonForBias)\n",
    "plt.ylabel(\"Reason For Bias\")\n",
    "ax.get_figure().savefig(\"reasonForBias.jpeg\")\n",
    "plt.show(ax);"
   ]
  },
  {
   "cell_type": "code",
   "execution_count": 54,
   "metadata": {},
   "outputs": [],
   "source": [
    "reasonForBiasDF.to_csv('reasonForBias.csv',index=False)"
   ]
  },
  {
   "cell_type": "code",
   "execution_count": 55,
   "metadata": {},
   "outputs": [
    {
     "data": {
      "text/plain": [
       "3170"
      ]
     },
     "execution_count": 55,
     "metadata": {},
     "output_type": "execute_result"
    }
   ],
   "source": [
    "del reasonForBiasDF\n",
    "gc.collect()"
   ]
  },
  {
   "cell_type": "code",
   "execution_count": 56,
   "metadata": {},
   "outputs": [],
   "source": [
    "multipleChoiceDF = pd.read_csv('../multipleChoiceResponses.csv',low_memory=False)"
   ]
  },
  {
   "cell_type": "code",
   "execution_count": 57,
   "metadata": {},
   "outputs": [],
   "source": [
    "modelInsightsDF = multipleChoiceDF[['Q45_Part_1', 'Q45_Part_2','Q45_Part_3', 'Q45_Part_4','Q45_Part_5', 'Q45_Part_6']]"
   ]
  },
  {
   "cell_type": "code",
   "execution_count": 58,
   "metadata": {},
   "outputs": [
    {
     "data": {
      "text/html": [
       "<div>\n",
       "<style scoped>\n",
       "    .dataframe tbody tr th:only-of-type {\n",
       "        vertical-align: middle;\n",
       "    }\n",
       "\n",
       "    .dataframe tbody tr th {\n",
       "        vertical-align: top;\n",
       "    }\n",
       "\n",
       "    .dataframe thead th {\n",
       "        text-align: right;\n",
       "    }\n",
       "</style>\n",
       "<table border=\"1\" class=\"dataframe\">\n",
       "  <thead>\n",
       "    <tr style=\"text-align: right;\">\n",
       "      <th></th>\n",
       "      <th>Q45_Part_1</th>\n",
       "      <th>Q45_Part_2</th>\n",
       "      <th>Q45_Part_3</th>\n",
       "      <th>Q45_Part_4</th>\n",
       "      <th>Q45_Part_5</th>\n",
       "      <th>Q45_Part_6</th>\n",
       "    </tr>\n",
       "  </thead>\n",
       "  <tbody>\n",
       "    <tr>\n",
       "      <th>0</th>\n",
       "      <td>In what circumstances would you explore model ...</td>\n",
       "      <td>In what circumstances would you explore model ...</td>\n",
       "      <td>In what circumstances would you explore model ...</td>\n",
       "      <td>In what circumstances would you explore model ...</td>\n",
       "      <td>In what circumstances would you explore model ...</td>\n",
       "      <td>In what circumstances would you explore model ...</td>\n",
       "    </tr>\n",
       "    <tr>\n",
       "      <th>1</th>\n",
       "      <td>NaN</td>\n",
       "      <td>NaN</td>\n",
       "      <td>NaN</td>\n",
       "      <td>NaN</td>\n",
       "      <td>NaN</td>\n",
       "      <td>NaN</td>\n",
       "    </tr>\n",
       "    <tr>\n",
       "      <th>2</th>\n",
       "      <td>NaN</td>\n",
       "      <td>NaN</td>\n",
       "      <td>NaN</td>\n",
       "      <td>NaN</td>\n",
       "      <td>NaN</td>\n",
       "      <td>NaN</td>\n",
       "    </tr>\n",
       "    <tr>\n",
       "      <th>3</th>\n",
       "      <td>NaN</td>\n",
       "      <td>NaN</td>\n",
       "      <td>When determining whether it is worth it to put...</td>\n",
       "      <td>NaN</td>\n",
       "      <td>NaN</td>\n",
       "      <td>NaN</td>\n",
       "    </tr>\n",
       "    <tr>\n",
       "      <th>4</th>\n",
       "      <td>NaN</td>\n",
       "      <td>NaN</td>\n",
       "      <td>NaN</td>\n",
       "      <td>When building a model that was specifically de...</td>\n",
       "      <td>NaN</td>\n",
       "      <td>NaN</td>\n",
       "    </tr>\n",
       "  </tbody>\n",
       "</table>\n",
       "</div>"
      ],
      "text/plain": [
       "                                          Q45_Part_1  \\\n",
       "0  In what circumstances would you explore model ...   \n",
       "1                                                NaN   \n",
       "2                                                NaN   \n",
       "3                                                NaN   \n",
       "4                                                NaN   \n",
       "\n",
       "                                          Q45_Part_2  \\\n",
       "0  In what circumstances would you explore model ...   \n",
       "1                                                NaN   \n",
       "2                                                NaN   \n",
       "3                                                NaN   \n",
       "4                                                NaN   \n",
       "\n",
       "                                          Q45_Part_3  \\\n",
       "0  In what circumstances would you explore model ...   \n",
       "1                                                NaN   \n",
       "2                                                NaN   \n",
       "3  When determining whether it is worth it to put...   \n",
       "4                                                NaN   \n",
       "\n",
       "                                          Q45_Part_4  \\\n",
       "0  In what circumstances would you explore model ...   \n",
       "1                                                NaN   \n",
       "2                                                NaN   \n",
       "3                                                NaN   \n",
       "4  When building a model that was specifically de...   \n",
       "\n",
       "                                          Q45_Part_5  \\\n",
       "0  In what circumstances would you explore model ...   \n",
       "1                                                NaN   \n",
       "2                                                NaN   \n",
       "3                                                NaN   \n",
       "4                                                NaN   \n",
       "\n",
       "                                          Q45_Part_6  \n",
       "0  In what circumstances would you explore model ...  \n",
       "1                                                NaN  \n",
       "2                                                NaN  \n",
       "3                                                NaN  \n",
       "4                                                NaN  "
      ]
     },
     "execution_count": 58,
     "metadata": {},
     "output_type": "execute_result"
    }
   ],
   "source": [
    "modelInsightsDF.head()"
   ]
  },
  {
   "cell_type": "code",
   "execution_count": 59,
   "metadata": {},
   "outputs": [],
   "source": [
    "modelInsightsDF.drop([0],inplace=True)\n",
    "modelInsightsDF.reset_index(drop=True,inplace=True)"
   ]
  },
  {
   "cell_type": "code",
   "execution_count": 60,
   "metadata": {},
   "outputs": [],
   "source": [
    "modelInsightsDF = pd.melt(modelInsightsDF)"
   ]
  },
  {
   "cell_type": "code",
   "execution_count": 61,
   "metadata": {},
   "outputs": [
    {
     "data": {
      "text/html": [
       "<div>\n",
       "<style scoped>\n",
       "    .dataframe tbody tr th:only-of-type {\n",
       "        vertical-align: middle;\n",
       "    }\n",
       "\n",
       "    .dataframe tbody tr th {\n",
       "        vertical-align: top;\n",
       "    }\n",
       "\n",
       "    .dataframe thead th {\n",
       "        text-align: right;\n",
       "    }\n",
       "</style>\n",
       "<table border=\"1\" class=\"dataframe\">\n",
       "  <thead>\n",
       "    <tr style=\"text-align: right;\">\n",
       "      <th></th>\n",
       "      <th>variable</th>\n",
       "      <th>value</th>\n",
       "    </tr>\n",
       "  </thead>\n",
       "  <tbody>\n",
       "    <tr>\n",
       "      <th>0</th>\n",
       "      <td>Q45_Part_1</td>\n",
       "      <td>NaN</td>\n",
       "    </tr>\n",
       "    <tr>\n",
       "      <th>1</th>\n",
       "      <td>Q45_Part_1</td>\n",
       "      <td>NaN</td>\n",
       "    </tr>\n",
       "    <tr>\n",
       "      <th>2</th>\n",
       "      <td>Q45_Part_1</td>\n",
       "      <td>NaN</td>\n",
       "    </tr>\n",
       "    <tr>\n",
       "      <th>3</th>\n",
       "      <td>Q45_Part_1</td>\n",
       "      <td>NaN</td>\n",
       "    </tr>\n",
       "    <tr>\n",
       "      <th>4</th>\n",
       "      <td>Q45_Part_1</td>\n",
       "      <td>NaN</td>\n",
       "    </tr>\n",
       "  </tbody>\n",
       "</table>\n",
       "</div>"
      ],
      "text/plain": [
       "     variable value\n",
       "0  Q45_Part_1   NaN\n",
       "1  Q45_Part_1   NaN\n",
       "2  Q45_Part_1   NaN\n",
       "3  Q45_Part_1   NaN\n",
       "4  Q45_Part_1   NaN"
      ]
     },
     "execution_count": 61,
     "metadata": {},
     "output_type": "execute_result"
    }
   ],
   "source": [
    "modelInsightsDF.head()"
   ]
  },
  {
   "cell_type": "code",
   "execution_count": 62,
   "metadata": {},
   "outputs": [],
   "source": [
    "modelInsightsDF.drop(columns=['variable'],inplace=True)\n",
    "modelInsightsDF.dropna(inplace=True)\n",
    "modelInsightsDF.reset_index(drop=True,inplace=True)"
   ]
  },
  {
   "cell_type": "code",
   "execution_count": 63,
   "metadata": {},
   "outputs": [],
   "source": [
    "modelInsightsDF.rename(columns={'value':'modelInsights'},inplace=True)"
   ]
  },
  {
   "cell_type": "code",
   "execution_count": 64,
   "metadata": {},
   "outputs": [
    {
     "data": {
      "image/png": "[encoded data removed]",
      "text/plain": [
       "<matplotlib.figure.Figure at 0x1a1ee8cef0>"
      ]
     },
     "metadata": {},
     "output_type": "display_data"
    }
   ],
   "source": [
    "ax = sns.countplot(y = modelInsightsDF.modelInsights)\n",
    "plt.ylabel(\"Model Insights\")\n",
    "ax.get_figure().savefig(\"modelInsights.jpeg\")\n",
    "plt.show(ax);"
   ]
  },
  {
   "cell_type": "code",
   "execution_count": 65,
   "metadata": {},
   "outputs": [],
   "source": [
    "modelInsightsDF.to_csv('modelInsights.csv',index=False)"
   ]
  },
  {
   "cell_type": "code",
   "execution_count": 66,
   "metadata": {},
   "outputs": [
    {
     "data": {
      "text/plain": [
       "2487"
      ]
     },
     "execution_count": 66,
     "metadata": {},
     "output_type": "execute_result"
    }
   ],
   "source": [
    "del modelInsightsDF\n",
    "gc.collect()"
   ]
  },
  {
   "cell_type": "code",
   "execution_count": 67,
   "metadata": {},
   "outputs": [],
   "source": [
    "multipleChoiceDF = pd.read_csv('../multipleChoiceResponses.csv',low_memory=False)"
   ]
  },
  {
   "cell_type": "code",
   "execution_count": 68,
   "metadata": {},
   "outputs": [],
   "source": [
    "exploringModelInsightsDF = pd.DataFrame(multipleChoiceDF.Q46)"
   ]
  },
  {
   "cell_type": "code",
   "execution_count": 69,
   "metadata": {},
   "outputs": [
    {
     "data": {
      "text/html": [
       "<div>\n",
       "<style scoped>\n",
       "    .dataframe tbody tr th:only-of-type {\n",
       "        vertical-align: middle;\n",
       "    }\n",
       "\n",
       "    .dataframe tbody tr th {\n",
       "        vertical-align: top;\n",
       "    }\n",
       "\n",
       "    .dataframe thead th {\n",
       "        text-align: right;\n",
       "    }\n",
       "</style>\n",
       "<table border=\"1\" class=\"dataframe\">\n",
       "  <thead>\n",
       "    <tr style=\"text-align: right;\">\n",
       "      <th></th>\n",
       "      <th>Q46</th>\n",
       "    </tr>\n",
       "  </thead>\n",
       "  <tbody>\n",
       "    <tr>\n",
       "      <th>0</th>\n",
       "      <td>Approximately what percent of your data projec...</td>\n",
       "    </tr>\n",
       "    <tr>\n",
       "      <th>1</th>\n",
       "      <td>NaN</td>\n",
       "    </tr>\n",
       "    <tr>\n",
       "      <th>2</th>\n",
       "      <td>NaN</td>\n",
       "    </tr>\n",
       "    <tr>\n",
       "      <th>3</th>\n",
       "      <td>10-20</td>\n",
       "    </tr>\n",
       "    <tr>\n",
       "      <th>4</th>\n",
       "      <td>20-30</td>\n",
       "    </tr>\n",
       "  </tbody>\n",
       "</table>\n",
       "</div>"
      ],
      "text/plain": [
       "                                                 Q46\n",
       "0  Approximately what percent of your data projec...\n",
       "1                                                NaN\n",
       "2                                                NaN\n",
       "3                                              10-20\n",
       "4                                              20-30"
      ]
     },
     "execution_count": 69,
     "metadata": {},
     "output_type": "execute_result"
    }
   ],
   "source": [
    "exploringModelInsightsDF.head()"
   ]
  },
  {
   "cell_type": "code",
   "execution_count": 70,
   "metadata": {},
   "outputs": [],
   "source": [
    "exploringModelInsightsDF.drop([0],inplace=True)\n",
    "exploringModelInsightsDF.dropna(inplace=True)\n",
    "exploringModelInsightsDF.rename(columns={\"Q46\":\"exploringModelInsights\"},inplace=True)"
   ]
  },
  {
   "cell_type": "code",
   "execution_count": 71,
   "metadata": {},
   "outputs": [],
   "source": [
    "exploringModelInsightsDF.reset_index(drop=True,inplace=True)"
   ]
  },
  {
   "cell_type": "code",
   "execution_count": 72,
   "metadata": {},
   "outputs": [
    {
     "data": {
      "image/png": "[encoded data removed]",
      "text/plain": [
       "<matplotlib.figure.Figure at 0x1a1bb788d0>"
      ]
     },
     "metadata": {},
     "output_type": "display_data"
    }
   ],
   "source": [
    "ax = sns.countplot(y = exploringModelInsightsDF.exploringModelInsights)\n",
    "plt.ylabel(\"Exploring Model Insights\")\n",
    "ax.get_figure().savefig(\"exploringModelInsights.jpeg\")\n",
    "plt.show(ax);"
   ]
  },
  {
   "cell_type": "code",
   "execution_count": 73,
   "metadata": {},
   "outputs": [],
   "source": [
    "exploringModelInsightsDF.to_csv('exploringModelInsights.csv',index=False)"
   ]
  },
  {
   "cell_type": "code",
   "execution_count": 74,
   "metadata": {},
   "outputs": [
    {
     "data": {
      "text/plain": [
       "2566"
      ]
     },
     "execution_count": 74,
     "metadata": {},
     "output_type": "execute_result"
    }
   ],
   "source": [
    "del exploringModelInsightsDF\n",
    "gc.collect()"
   ]
  },
  {
   "cell_type": "code",
   "execution_count": 75,
   "metadata": {},
   "outputs": [],
   "source": [
    "multipleChoiceDF = pd.read_csv('../multipleChoiceResponses.csv',low_memory=False)"
   ]
  },
  {
   "cell_type": "code",
   "execution_count": 76,
   "metadata": {},
   "outputs": [],
   "source": [
    "interpretingMLDF = multipleChoiceDF[['Q47_Part_1', 'Q47_Part_2','Q47_Part_3', 'Q47_Part_4','Q47_Part_5', 'Q47_Part_6',\n",
    "                                     'Q47_Part_7','Q47_Part_8','Q47_Part_9','Q47_Part_10','Q47_Part_11','Q47_Part_12',\n",
    "                                     'Q47_Part_13','Q47_Part_14','Q47_Part_15']]"
   ]
  },
  {
   "cell_type": "code",
   "execution_count": 77,
   "metadata": {},
   "outputs": [
    {
     "data": {
      "text/html": [
       "<div>\n",
       "<style scoped>\n",
       "    .dataframe tbody tr th:only-of-type {\n",
       "        vertical-align: middle;\n",
       "    }\n",
       "\n",
       "    .dataframe tbody tr th {\n",
       "        vertical-align: top;\n",
       "    }\n",
       "\n",
       "    .dataframe thead th {\n",
       "        text-align: right;\n",
       "    }\n",
       "</style>\n",
       "<table border=\"1\" class=\"dataframe\">\n",
       "  <thead>\n",
       "    <tr style=\"text-align: right;\">\n",
       "      <th></th>\n",
       "      <th>Q47_Part_1</th>\n",
       "      <th>Q47_Part_2</th>\n",
       "      <th>Q47_Part_3</th>\n",
       "      <th>Q47_Part_4</th>\n",
       "      <th>Q47_Part_5</th>\n",
       "      <th>Q47_Part_6</th>\n",
       "      <th>Q47_Part_7</th>\n",
       "      <th>Q47_Part_8</th>\n",
       "      <th>Q47_Part_9</th>\n",
       "      <th>Q47_Part_10</th>\n",
       "      <th>Q47_Part_11</th>\n",
       "      <th>Q47_Part_12</th>\n",
       "      <th>Q47_Part_13</th>\n",
       "      <th>Q47_Part_14</th>\n",
       "      <th>Q47_Part_15</th>\n",
       "    </tr>\n",
       "  </thead>\n",
       "  <tbody>\n",
       "    <tr>\n",
       "      <th>0</th>\n",
       "      <td>What methods do you prefer for explaining and/...</td>\n",
       "      <td>What methods do you prefer for explaining and/...</td>\n",
       "      <td>What methods do you prefer for explaining and/...</td>\n",
       "      <td>What methods do you prefer for explaining and/...</td>\n",
       "      <td>What methods do you prefer for explaining and/...</td>\n",
       "      <td>What methods do you prefer for explaining and/...</td>\n",
       "      <td>What methods do you prefer for explaining and/...</td>\n",
       "      <td>What methods do you prefer for explaining and/...</td>\n",
       "      <td>What methods do you prefer for explaining and/...</td>\n",
       "      <td>What methods do you prefer for explaining and/...</td>\n",
       "      <td>What methods do you prefer for explaining and/...</td>\n",
       "      <td>What methods do you prefer for explaining and/...</td>\n",
       "      <td>What methods do you prefer for explaining and/...</td>\n",
       "      <td>What methods do you prefer for explaining and/...</td>\n",
       "      <td>What methods do you prefer for explaining and/...</td>\n",
       "    </tr>\n",
       "    <tr>\n",
       "      <th>1</th>\n",
       "      <td>NaN</td>\n",
       "      <td>NaN</td>\n",
       "      <td>NaN</td>\n",
       "      <td>NaN</td>\n",
       "      <td>NaN</td>\n",
       "      <td>NaN</td>\n",
       "      <td>NaN</td>\n",
       "      <td>NaN</td>\n",
       "      <td>NaN</td>\n",
       "      <td>NaN</td>\n",
       "      <td>NaN</td>\n",
       "      <td>NaN</td>\n",
       "      <td>NaN</td>\n",
       "      <td>NaN</td>\n",
       "      <td>NaN</td>\n",
       "    </tr>\n",
       "    <tr>\n",
       "      <th>2</th>\n",
       "      <td>NaN</td>\n",
       "      <td>NaN</td>\n",
       "      <td>NaN</td>\n",
       "      <td>NaN</td>\n",
       "      <td>NaN</td>\n",
       "      <td>NaN</td>\n",
       "      <td>NaN</td>\n",
       "      <td>NaN</td>\n",
       "      <td>NaN</td>\n",
       "      <td>NaN</td>\n",
       "      <td>NaN</td>\n",
       "      <td>NaN</td>\n",
       "      <td>NaN</td>\n",
       "      <td>NaN</td>\n",
       "      <td>NaN</td>\n",
       "    </tr>\n",
       "    <tr>\n",
       "      <th>3</th>\n",
       "      <td>NaN</td>\n",
       "      <td>Examine feature correlations</td>\n",
       "      <td>Examine feature importances</td>\n",
       "      <td>NaN</td>\n",
       "      <td>NaN</td>\n",
       "      <td>NaN</td>\n",
       "      <td>NaN</td>\n",
       "      <td>Plot predicted vs. actual results</td>\n",
       "      <td>NaN</td>\n",
       "      <td>NaN</td>\n",
       "      <td>NaN</td>\n",
       "      <td>NaN</td>\n",
       "      <td>NaN</td>\n",
       "      <td>NaN</td>\n",
       "      <td>NaN</td>\n",
       "    </tr>\n",
       "    <tr>\n",
       "      <th>4</th>\n",
       "      <td>NaN</td>\n",
       "      <td>Examine feature correlations</td>\n",
       "      <td>Examine feature importances</td>\n",
       "      <td>Plot decision boundaries</td>\n",
       "      <td>NaN</td>\n",
       "      <td>NaN</td>\n",
       "      <td>NaN</td>\n",
       "      <td>Plot predicted vs. actual results</td>\n",
       "      <td>NaN</td>\n",
       "      <td>Sensitivity analysis/perturbation importance</td>\n",
       "      <td>NaN</td>\n",
       "      <td>NaN</td>\n",
       "      <td>NaN</td>\n",
       "      <td>NaN</td>\n",
       "      <td>NaN</td>\n",
       "    </tr>\n",
       "  </tbody>\n",
       "</table>\n",
       "</div>"
      ],
      "text/plain": [
       "                                          Q47_Part_1  \\\n",
       "0  What methods do you prefer for explaining and/...   \n",
       "1                                                NaN   \n",
       "2                                                NaN   \n",
       "3                                                NaN   \n",
       "4                                                NaN   \n",
       "\n",
       "                                          Q47_Part_2  \\\n",
       "0  What methods do you prefer for explaining and/...   \n",
       "1                                                NaN   \n",
       "2                                                NaN   \n",
       "3                       Examine feature correlations   \n",
       "4                       Examine feature correlations   \n",
       "\n",
       "                                          Q47_Part_3  \\\n",
       "0  What methods do you prefer for explaining and/...   \n",
       "1                                                NaN   \n",
       "2                                                NaN   \n",
       "3                        Examine feature importances   \n",
       "4                        Examine feature importances   \n",
       "\n",
       "                                          Q47_Part_4  \\\n",
       "0  What methods do you prefer for explaining and/...   \n",
       "1                                                NaN   \n",
       "2                                                NaN   \n",
       "3                                                NaN   \n",
       "4                           Plot decision boundaries   \n",
       "\n",
       "                                          Q47_Part_5  \\\n",
       "0  What methods do you prefer for explaining and/...   \n",
       "1                                                NaN   \n",
       "2                                                NaN   \n",
       "3                                                NaN   \n",
       "4                                                NaN   \n",
       "\n",
       "                                          Q47_Part_6  \\\n",
       "0  What methods do you prefer for explaining and/...   \n",
       "1                                                NaN   \n",
       "2                                                NaN   \n",
       "3                                                NaN   \n",
       "4                                                NaN   \n",
       "\n",
       "                                          Q47_Part_7  \\\n",
       "0  What methods do you prefer for explaining and/...   \n",
       "1                                                NaN   \n",
       "2                                                NaN   \n",
       "3                                                NaN   \n",
       "4                                                NaN   \n",
       "\n",
       "                                          Q47_Part_8  \\\n",
       "0  What methods do you prefer for explaining and/...   \n",
       "1                                                NaN   \n",
       "2                                                NaN   \n",
       "3                  Plot predicted vs. actual results   \n",
       "4                  Plot predicted vs. actual results   \n",
       "\n",
       "                                          Q47_Part_9  \\\n",
       "0  What methods do you prefer for explaining and/...   \n",
       "1                                                NaN   \n",
       "2                                                NaN   \n",
       "3                                                NaN   \n",
       "4                                                NaN   \n",
       "\n",
       "                                         Q47_Part_10  \\\n",
       "0  What methods do you prefer for explaining and/...   \n",
       "1                                                NaN   \n",
       "2                                                NaN   \n",
       "3                                                NaN   \n",
       "4       Sensitivity analysis/perturbation importance   \n",
       "\n",
       "                                         Q47_Part_11  \\\n",
       "0  What methods do you prefer for explaining and/...   \n",
       "1                                                NaN   \n",
       "2                                                NaN   \n",
       "3                                                NaN   \n",
       "4                                                NaN   \n",
       "\n",
       "                                         Q47_Part_12  \\\n",
       "0  What methods do you prefer for explaining and/...   \n",
       "1                                                NaN   \n",
       "2                                                NaN   \n",
       "3                                                NaN   \n",
       "4                                                NaN   \n",
       "\n",
       "                                         Q47_Part_13  \\\n",
       "0  What methods do you prefer for explaining and/...   \n",
       "1                                                NaN   \n",
       "2                                                NaN   \n",
       "3                                                NaN   \n",
       "4                                                NaN   \n",
       "\n",
       "                                         Q47_Part_14  \\\n",
       "0  What methods do you prefer for explaining and/...   \n",
       "1                                                NaN   \n",
       "2                                                NaN   \n",
       "3                                                NaN   \n",
       "4                                                NaN   \n",
       "\n",
       "                                         Q47_Part_15  \n",
       "0  What methods do you prefer for explaining and/...  \n",
       "1                                                NaN  \n",
       "2                                                NaN  \n",
       "3                                                NaN  \n",
       "4                                                NaN  "
      ]
     },
     "execution_count": 77,
     "metadata": {},
     "output_type": "execute_result"
    }
   ],
   "source": [
    "interpretingMLDF.head()"
   ]
  },
  {
   "cell_type": "code",
   "execution_count": 78,
   "metadata": {},
   "outputs": [],
   "source": [
    "interpretingMLDF.drop([0],inplace=True)\n",
    "interpretingMLDF.reset_index(drop = True, inplace=True)"
   ]
  },
  {
   "cell_type": "code",
   "execution_count": 79,
   "metadata": {},
   "outputs": [],
   "source": [
    "interpretingMLDF = pd.melt(interpretingMLDF)"
   ]
  },
  {
   "cell_type": "code",
   "execution_count": 80,
   "metadata": {},
   "outputs": [
    {
     "data": {
      "text/html": [
       "<div>\n",
       "<style scoped>\n",
       "    .dataframe tbody tr th:only-of-type {\n",
       "        vertical-align: middle;\n",
       "    }\n",
       "\n",
       "    .dataframe tbody tr th {\n",
       "        vertical-align: top;\n",
       "    }\n",
       "\n",
       "    .dataframe thead th {\n",
       "        text-align: right;\n",
       "    }\n",
       "</style>\n",
       "<table border=\"1\" class=\"dataframe\">\n",
       "  <thead>\n",
       "    <tr style=\"text-align: right;\">\n",
       "      <th></th>\n",
       "      <th>variable</th>\n",
       "      <th>value</th>\n",
       "    </tr>\n",
       "  </thead>\n",
       "  <tbody>\n",
       "    <tr>\n",
       "      <th>0</th>\n",
       "      <td>Q47_Part_1</td>\n",
       "      <td>NaN</td>\n",
       "    </tr>\n",
       "    <tr>\n",
       "      <th>1</th>\n",
       "      <td>Q47_Part_1</td>\n",
       "      <td>NaN</td>\n",
       "    </tr>\n",
       "    <tr>\n",
       "      <th>2</th>\n",
       "      <td>Q47_Part_1</td>\n",
       "      <td>NaN</td>\n",
       "    </tr>\n",
       "    <tr>\n",
       "      <th>3</th>\n",
       "      <td>Q47_Part_1</td>\n",
       "      <td>NaN</td>\n",
       "    </tr>\n",
       "    <tr>\n",
       "      <th>4</th>\n",
       "      <td>Q47_Part_1</td>\n",
       "      <td>NaN</td>\n",
       "    </tr>\n",
       "  </tbody>\n",
       "</table>\n",
       "</div>"
      ],
      "text/plain": [
       "     variable value\n",
       "0  Q47_Part_1   NaN\n",
       "1  Q47_Part_1   NaN\n",
       "2  Q47_Part_1   NaN\n",
       "3  Q47_Part_1   NaN\n",
       "4  Q47_Part_1   NaN"
      ]
     },
     "execution_count": 80,
     "metadata": {},
     "output_type": "execute_result"
    }
   ],
   "source": [
    "interpretingMLDF.head()"
   ]
  },
  {
   "cell_type": "code",
   "execution_count": 81,
   "metadata": {},
   "outputs": [],
   "source": [
    "interpretingMLDF.drop(columns=['variable'],inplace=True)\n",
    "interpretingMLDF.rename(columns={\"value\":\"interpretingML\"},inplace=True)\n",
    "interpretingMLDF.dropna(inplace=True)\n",
    "interpretingMLDF.reset_index(drop=True,inplace=True)"
   ]
  },
  {
   "cell_type": "code",
   "execution_count": 82,
   "metadata": {},
   "outputs": [
    {
     "data": {
      "text/html": [
       "<div>\n",
       "<style scoped>\n",
       "    .dataframe tbody tr th:only-of-type {\n",
       "        vertical-align: middle;\n",
       "    }\n",
       "\n",
       "    .dataframe tbody tr th {\n",
       "        vertical-align: top;\n",
       "    }\n",
       "\n",
       "    .dataframe thead th {\n",
       "        text-align: right;\n",
       "    }\n",
       "</style>\n",
       "<table border=\"1\" class=\"dataframe\">\n",
       "  <thead>\n",
       "    <tr style=\"text-align: right;\">\n",
       "      <th></th>\n",
       "      <th>interpretingML</th>\n",
       "    </tr>\n",
       "  </thead>\n",
       "  <tbody>\n",
       "    <tr>\n",
       "      <th>0</th>\n",
       "      <td>Examine individual model coefficients</td>\n",
       "    </tr>\n",
       "    <tr>\n",
       "      <th>1</th>\n",
       "      <td>Examine individual model coefficients</td>\n",
       "    </tr>\n",
       "    <tr>\n",
       "      <th>2</th>\n",
       "      <td>Examine individual model coefficients</td>\n",
       "    </tr>\n",
       "    <tr>\n",
       "      <th>3</th>\n",
       "      <td>Examine individual model coefficients</td>\n",
       "    </tr>\n",
       "    <tr>\n",
       "      <th>4</th>\n",
       "      <td>Examine individual model coefficients</td>\n",
       "    </tr>\n",
       "  </tbody>\n",
       "</table>\n",
       "</div>"
      ],
      "text/plain": [
       "                          interpretingML\n",
       "0  Examine individual model coefficients\n",
       "1  Examine individual model coefficients\n",
       "2  Examine individual model coefficients\n",
       "3  Examine individual model coefficients\n",
       "4  Examine individual model coefficients"
      ]
     },
     "execution_count": 82,
     "metadata": {},
     "output_type": "execute_result"
    }
   ],
   "source": [
    "interpretingMLDF.head()"
   ]
  },
  {
   "cell_type": "code",
   "execution_count": 83,
   "metadata": {
    "scrolled": false
   },
   "outputs": [
    {
     "data": {
      "image/png": "[encoded data removed]",
      "text/plain": [
       "<matplotlib.figure.Figure at 0x1a169975f8>"
      ]
     },
     "metadata": {},
     "output_type": "display_data"
    }
   ],
   "source": [
    "sns.set(rc={'figure.figsize':(20,15)})\n",
    "ax = sns.countplot(y = interpretingMLDF.interpretingML)\n",
    "plt.ylabel(\"Interpreting ML\")\n",
    "ax.get_figure().savefig(\"interpretingML.jpeg\")\n",
    "plt.show(ax);"
   ]
  },
  {
   "cell_type": "code",
   "execution_count": 84,
   "metadata": {},
   "outputs": [
    {
     "data": {
      "text/plain": [
       "Plot predicted vs. actual results                       7604\n",
       "Examine feature importances                             5999\n",
       "Examine feature correlations                            5417\n",
       "Dimensionality reduction techniques                     4354\n",
       "Print out a decision tree                               3639\n",
       "Examine individual model coefficients                   3608\n",
       "Plot decision boundaries                                3501\n",
       "Sensitivity analysis/perturbation importance            3101\n",
       "None/I do not use these model explanation techniques    2067\n",
       "Create partial dependence plots                         1871\n",
       "Attention mapping/saliency mapping                      1000\n",
       "LIME functions                                           925\n",
       "SHAP functions                                           736\n",
       "ELI5 functions                                           522\n",
       "Other                                                    244\n",
       "Name: interpretingML, dtype: int64"
      ]
     },
     "execution_count": 84,
     "metadata": {},
     "output_type": "execute_result"
    }
   ],
   "source": [
    "interpretingMLDF.interpretingML.value_counts()"
   ]
  },
  {
   "cell_type": "code",
   "execution_count": 85,
   "metadata": {},
   "outputs": [],
   "source": [
    "interpretingMLDF.to_csv('interpretingML.csv',index=False)"
   ]
  },
  {
   "cell_type": "code",
   "execution_count": 86,
   "metadata": {},
   "outputs": [
    {
     "data": {
      "text/plain": [
       "I am confident that I can understand and explain the outputs of many but not all ML models                 6411\n",
       "I view ML models as \"black boxes\" but I am confident that experts are able to explain model outputs        2936\n",
       "Yes, most ML models are \"black boxes\"                                                                      1635\n",
       "I am confident that I can explain the outputs of most if not all ML models                                 1213\n",
       "I do not know; I have no opinion on the matter                                                             1173\n",
       "Do you consider ML models to be \"black boxes\" with outputs that are difficult or impossible to explain?       1\n",
       "Name: Q48, dtype: int64"
      ]
     },
     "execution_count": 86,
     "metadata": {},
     "output_type": "execute_result"
    }
   ],
   "source": [
    "multipleChoiceDF.Q48.value_counts()"
   ]
  },
  {
   "cell_type": "code",
   "execution_count": 87,
   "metadata": {},
   "outputs": [],
   "source": [
    "mlBlackBoxDF = pd.DataFrame(multipleChoiceDF.Q48)"
   ]
  },
  {
   "cell_type": "code",
   "execution_count": 88,
   "metadata": {},
   "outputs": [
    {
     "data": {
      "text/html": [
       "<div>\n",
       "<style scoped>\n",
       "    .dataframe tbody tr th:only-of-type {\n",
       "        vertical-align: middle;\n",
       "    }\n",
       "\n",
       "    .dataframe tbody tr th {\n",
       "        vertical-align: top;\n",
       "    }\n",
       "\n",
       "    .dataframe thead th {\n",
       "        text-align: right;\n",
       "    }\n",
       "</style>\n",
       "<table border=\"1\" class=\"dataframe\">\n",
       "  <thead>\n",
       "    <tr style=\"text-align: right;\">\n",
       "      <th></th>\n",
       "      <th>Q48</th>\n",
       "    </tr>\n",
       "  </thead>\n",
       "  <tbody>\n",
       "    <tr>\n",
       "      <th>0</th>\n",
       "      <td>Do you consider ML models to be \"black boxes\" ...</td>\n",
       "    </tr>\n",
       "    <tr>\n",
       "      <th>1</th>\n",
       "      <td>NaN</td>\n",
       "    </tr>\n",
       "    <tr>\n",
       "      <th>2</th>\n",
       "      <td>NaN</td>\n",
       "    </tr>\n",
       "    <tr>\n",
       "      <th>3</th>\n",
       "      <td>I am confident that I can explain the outputs ...</td>\n",
       "    </tr>\n",
       "    <tr>\n",
       "      <th>4</th>\n",
       "      <td>Yes, most ML models are \"black boxes\"</td>\n",
       "    </tr>\n",
       "  </tbody>\n",
       "</table>\n",
       "</div>"
      ],
      "text/plain": [
       "                                                 Q48\n",
       "0  Do you consider ML models to be \"black boxes\" ...\n",
       "1                                                NaN\n",
       "2                                                NaN\n",
       "3  I am confident that I can explain the outputs ...\n",
       "4              Yes, most ML models are \"black boxes\""
      ]
     },
     "execution_count": 88,
     "metadata": {},
     "output_type": "execute_result"
    }
   ],
   "source": [
    "mlBlackBoxDF.head()"
   ]
  },
  {
   "cell_type": "code",
   "execution_count": 89,
   "metadata": {},
   "outputs": [],
   "source": [
    "mlBlackBoxDF.drop([0],inplace=True)\n",
    "mlBlackBoxDF.dropna(inplace=True)\n",
    "mlBlackBoxDF.rename(columns={'Q48':'mlBlackBox'},inplace=True)\n",
    "mlBlackBoxDF.reset_index(drop=True,inplace=True)"
   ]
  },
  {
   "cell_type": "code",
   "execution_count": 90,
   "metadata": {},
   "outputs": [
    {
     "data": {
      "image/png": "[encoded data removed]",
      "text/plain": [
       "<matplotlib.figure.Figure at 0x1a1d3a6f28>"
      ]
     },
     "metadata": {},
     "output_type": "display_data"
    }
   ],
   "source": [
    "sns.set(rc={'figure.figsize':(10,8)})\n",
    "ax = sns.countplot(y = mlBlackBoxDF.mlBlackBox)\n",
    "plt.ylabel(\"mlBlackBox\")\n",
    "ax.get_figure().savefig(\"mlBlackBox.jpeg\")\n",
    "plt.show(ax);"
   ]
  },
  {
   "cell_type": "code",
   "execution_count": 91,
   "metadata": {},
   "outputs": [],
   "source": [
    "mlBlackBoxDF.to_csv('mlBlackBox.csv',index=False)"
   ]
  },
  {
   "cell_type": "code",
   "execution_count": 92,
   "metadata": {},
   "outputs": [
    {
     "data": {
      "text/plain": [
       "6832"
      ]
     },
     "execution_count": 92,
     "metadata": {},
     "output_type": "execute_result"
    }
   ],
   "source": [
    "del mlBlackBoxDF\n",
    "gc.collect()"
   ]
  },
  {
   "cell_type": "code",
   "execution_count": 93,
   "metadata": {},
   "outputs": [],
   "source": [
    "reproducingResultsDF = multipleChoiceDF[['Q49_Part_1', 'Q49_Part_2','Q49_Part_3', 'Q49_Part_4','Q49_Part_5', \n",
    "                                         'Q49_Part_6','Q49_Part_7','Q49_Part_8','Q49_Part_9','Q49_Part_10',\n",
    "                                         'Q49_Part_11','Q49_Part_12']]"
   ]
  },
  {
   "cell_type": "code",
   "execution_count": 94,
   "metadata": {},
   "outputs": [
    {
     "data": {
      "text/html": [
       "<div>\n",
       "<style scoped>\n",
       "    .dataframe tbody tr th:only-of-type {\n",
       "        vertical-align: middle;\n",
       "    }\n",
       "\n",
       "    .dataframe tbody tr th {\n",
       "        vertical-align: top;\n",
       "    }\n",
       "\n",
       "    .dataframe thead th {\n",
       "        text-align: right;\n",
       "    }\n",
       "</style>\n",
       "<table border=\"1\" class=\"dataframe\">\n",
       "  <thead>\n",
       "    <tr style=\"text-align: right;\">\n",
       "      <th></th>\n",
       "      <th>Q49_Part_1</th>\n",
       "      <th>Q49_Part_2</th>\n",
       "      <th>Q49_Part_3</th>\n",
       "      <th>Q49_Part_4</th>\n",
       "      <th>Q49_Part_5</th>\n",
       "      <th>Q49_Part_6</th>\n",
       "      <th>Q49_Part_7</th>\n",
       "      <th>Q49_Part_8</th>\n",
       "      <th>Q49_Part_9</th>\n",
       "      <th>Q49_Part_10</th>\n",
       "      <th>Q49_Part_11</th>\n",
       "      <th>Q49_Part_12</th>\n",
       "    </tr>\n",
       "  </thead>\n",
       "  <tbody>\n",
       "    <tr>\n",
       "      <th>0</th>\n",
       "      <td>What tools and methods do you use to make your...</td>\n",
       "      <td>What tools and methods do you use to make your...</td>\n",
       "      <td>What tools and methods do you use to make your...</td>\n",
       "      <td>What tools and methods do you use to make your...</td>\n",
       "      <td>What tools and methods do you use to make your...</td>\n",
       "      <td>What tools and methods do you use to make your...</td>\n",
       "      <td>What tools and methods do you use to make your...</td>\n",
       "      <td>What tools and methods do you use to make your...</td>\n",
       "      <td>What tools and methods do you use to make your...</td>\n",
       "      <td>What tools and methods do you use to make your...</td>\n",
       "      <td>What tools and methods do you use to make your...</td>\n",
       "      <td>What tools and methods do you use to make your...</td>\n",
       "    </tr>\n",
       "    <tr>\n",
       "      <th>1</th>\n",
       "      <td>NaN</td>\n",
       "      <td>NaN</td>\n",
       "      <td>NaN</td>\n",
       "      <td>NaN</td>\n",
       "      <td>NaN</td>\n",
       "      <td>NaN</td>\n",
       "      <td>NaN</td>\n",
       "      <td>NaN</td>\n",
       "      <td>NaN</td>\n",
       "      <td>NaN</td>\n",
       "      <td>NaN</td>\n",
       "      <td>NaN</td>\n",
       "    </tr>\n",
       "    <tr>\n",
       "      <th>2</th>\n",
       "      <td>NaN</td>\n",
       "      <td>NaN</td>\n",
       "      <td>NaN</td>\n",
       "      <td>NaN</td>\n",
       "      <td>NaN</td>\n",
       "      <td>NaN</td>\n",
       "      <td>NaN</td>\n",
       "      <td>NaN</td>\n",
       "      <td>NaN</td>\n",
       "      <td>NaN</td>\n",
       "      <td>NaN</td>\n",
       "      <td>NaN</td>\n",
       "    </tr>\n",
       "    <tr>\n",
       "      <th>3</th>\n",
       "      <td>NaN</td>\n",
       "      <td>NaN</td>\n",
       "      <td>NaN</td>\n",
       "      <td>NaN</td>\n",
       "      <td>NaN</td>\n",
       "      <td>NaN</td>\n",
       "      <td>Make sure the code is human-readable</td>\n",
       "      <td>Define all random seeds</td>\n",
       "      <td>NaN</td>\n",
       "      <td>Include a text file describing all dependencies</td>\n",
       "      <td>NaN</td>\n",
       "      <td>NaN</td>\n",
       "    </tr>\n",
       "    <tr>\n",
       "      <th>4</th>\n",
       "      <td>NaN</td>\n",
       "      <td>NaN</td>\n",
       "      <td>Share data, code, and environment using a host...</td>\n",
       "      <td>NaN</td>\n",
       "      <td>NaN</td>\n",
       "      <td>NaN</td>\n",
       "      <td>Make sure the code is human-readable</td>\n",
       "      <td>NaN</td>\n",
       "      <td>Define relative rather than absolute file paths</td>\n",
       "      <td>NaN</td>\n",
       "      <td>NaN</td>\n",
       "      <td>NaN</td>\n",
       "    </tr>\n",
       "  </tbody>\n",
       "</table>\n",
       "</div>"
      ],
      "text/plain": [
       "                                          Q49_Part_1  \\\n",
       "0  What tools and methods do you use to make your...   \n",
       "1                                                NaN   \n",
       "2                                                NaN   \n",
       "3                                                NaN   \n",
       "4                                                NaN   \n",
       "\n",
       "                                          Q49_Part_2  \\\n",
       "0  What tools and methods do you use to make your...   \n",
       "1                                                NaN   \n",
       "2                                                NaN   \n",
       "3                                                NaN   \n",
       "4                                                NaN   \n",
       "\n",
       "                                          Q49_Part_3  \\\n",
       "0  What tools and methods do you use to make your...   \n",
       "1                                                NaN   \n",
       "2                                                NaN   \n",
       "3                                                NaN   \n",
       "4  Share data, code, and environment using a host...   \n",
       "\n",
       "                                          Q49_Part_4  \\\n",
       "0  What tools and methods do you use to make your...   \n",
       "1                                                NaN   \n",
       "2                                                NaN   \n",
       "3                                                NaN   \n",
       "4                                                NaN   \n",
       "\n",
       "                                          Q49_Part_5  \\\n",
       "0  What tools and methods do you use to make your...   \n",
       "1                                                NaN   \n",
       "2                                                NaN   \n",
       "3                                                NaN   \n",
       "4                                                NaN   \n",
       "\n",
       "                                          Q49_Part_6  \\\n",
       "0  What tools and methods do you use to make your...   \n",
       "1                                                NaN   \n",
       "2                                                NaN   \n",
       "3                                                NaN   \n",
       "4                                                NaN   \n",
       "\n",
       "                                          Q49_Part_7  \\\n",
       "0  What tools and methods do you use to make your...   \n",
       "1                                                NaN   \n",
       "2                                                NaN   \n",
       "3               Make sure the code is human-readable   \n",
       "4               Make sure the code is human-readable   \n",
       "\n",
       "                                          Q49_Part_8  \\\n",
       "0  What tools and methods do you use to make your...   \n",
       "1                                                NaN   \n",
       "2                                                NaN   \n",
       "3                            Define all random seeds   \n",
       "4                                                NaN   \n",
       "\n",
       "                                          Q49_Part_9  \\\n",
       "0  What tools and methods do you use to make your...   \n",
       "1                                                NaN   \n",
       "2                                                NaN   \n",
       "3                                                NaN   \n",
       "4    Define relative rather than absolute file paths   \n",
       "\n",
       "                                         Q49_Part_10  \\\n",
       "0  What tools and methods do you use to make your...   \n",
       "1                                                NaN   \n",
       "2                                                NaN   \n",
       "3    Include a text file describing all dependencies   \n",
       "4                                                NaN   \n",
       "\n",
       "                                         Q49_Part_11  \\\n",
       "0  What tools and methods do you use to make your...   \n",
       "1                                                NaN   \n",
       "2                                                NaN   \n",
       "3                                                NaN   \n",
       "4                                                NaN   \n",
       "\n",
       "                                         Q49_Part_12  \n",
       "0  What tools and methods do you use to make your...  \n",
       "1                                                NaN  \n",
       "2                                                NaN  \n",
       "3                                                NaN  \n",
       "4                                                NaN  "
      ]
     },
     "execution_count": 94,
     "metadata": {},
     "output_type": "execute_result"
    }
   ],
   "source": [
    "reproducingResultsDF.head()"
   ]
  },
  {
   "cell_type": "code",
   "execution_count": 95,
   "metadata": {},
   "outputs": [],
   "source": [
    "reproducingResultsDF.drop([0],inplace=True)\n",
    "reproducingResultsDF.reset_index(drop=True,inplace=True)"
   ]
  },
  {
   "cell_type": "code",
   "execution_count": 96,
   "metadata": {},
   "outputs": [
    {
     "data": {
      "text/html": [
       "<div>\n",
       "<style scoped>\n",
       "    .dataframe tbody tr th:only-of-type {\n",
       "        vertical-align: middle;\n",
       "    }\n",
       "\n",
       "    .dataframe tbody tr th {\n",
       "        vertical-align: top;\n",
       "    }\n",
       "\n",
       "    .dataframe thead th {\n",
       "        text-align: right;\n",
       "    }\n",
       "</style>\n",
       "<table border=\"1\" class=\"dataframe\">\n",
       "  <thead>\n",
       "    <tr style=\"text-align: right;\">\n",
       "      <th></th>\n",
       "      <th>Q49_Part_1</th>\n",
       "      <th>Q49_Part_2</th>\n",
       "      <th>Q49_Part_3</th>\n",
       "      <th>Q49_Part_4</th>\n",
       "      <th>Q49_Part_5</th>\n",
       "      <th>Q49_Part_6</th>\n",
       "      <th>Q49_Part_7</th>\n",
       "      <th>Q49_Part_8</th>\n",
       "      <th>Q49_Part_9</th>\n",
       "      <th>Q49_Part_10</th>\n",
       "      <th>Q49_Part_11</th>\n",
       "      <th>Q49_Part_12</th>\n",
       "    </tr>\n",
       "  </thead>\n",
       "  <tbody>\n",
       "    <tr>\n",
       "      <th>0</th>\n",
       "      <td>NaN</td>\n",
       "      <td>NaN</td>\n",
       "      <td>NaN</td>\n",
       "      <td>NaN</td>\n",
       "      <td>NaN</td>\n",
       "      <td>NaN</td>\n",
       "      <td>NaN</td>\n",
       "      <td>NaN</td>\n",
       "      <td>NaN</td>\n",
       "      <td>NaN</td>\n",
       "      <td>NaN</td>\n",
       "      <td>NaN</td>\n",
       "    </tr>\n",
       "    <tr>\n",
       "      <th>1</th>\n",
       "      <td>NaN</td>\n",
       "      <td>NaN</td>\n",
       "      <td>NaN</td>\n",
       "      <td>NaN</td>\n",
       "      <td>NaN</td>\n",
       "      <td>NaN</td>\n",
       "      <td>NaN</td>\n",
       "      <td>NaN</td>\n",
       "      <td>NaN</td>\n",
       "      <td>NaN</td>\n",
       "      <td>NaN</td>\n",
       "      <td>NaN</td>\n",
       "    </tr>\n",
       "    <tr>\n",
       "      <th>2</th>\n",
       "      <td>NaN</td>\n",
       "      <td>NaN</td>\n",
       "      <td>NaN</td>\n",
       "      <td>NaN</td>\n",
       "      <td>NaN</td>\n",
       "      <td>NaN</td>\n",
       "      <td>Make sure the code is human-readable</td>\n",
       "      <td>Define all random seeds</td>\n",
       "      <td>NaN</td>\n",
       "      <td>Include a text file describing all dependencies</td>\n",
       "      <td>NaN</td>\n",
       "      <td>NaN</td>\n",
       "    </tr>\n",
       "    <tr>\n",
       "      <th>3</th>\n",
       "      <td>NaN</td>\n",
       "      <td>NaN</td>\n",
       "      <td>Share data, code, and environment using a host...</td>\n",
       "      <td>NaN</td>\n",
       "      <td>NaN</td>\n",
       "      <td>NaN</td>\n",
       "      <td>Make sure the code is human-readable</td>\n",
       "      <td>NaN</td>\n",
       "      <td>Define relative rather than absolute file paths</td>\n",
       "      <td>NaN</td>\n",
       "      <td>NaN</td>\n",
       "      <td>NaN</td>\n",
       "    </tr>\n",
       "    <tr>\n",
       "      <th>4</th>\n",
       "      <td>NaN</td>\n",
       "      <td>NaN</td>\n",
       "      <td>NaN</td>\n",
       "      <td>NaN</td>\n",
       "      <td>NaN</td>\n",
       "      <td>NaN</td>\n",
       "      <td>NaN</td>\n",
       "      <td>NaN</td>\n",
       "      <td>Define relative rather than absolute file paths</td>\n",
       "      <td>NaN</td>\n",
       "      <td>NaN</td>\n",
       "      <td>NaN</td>\n",
       "    </tr>\n",
       "  </tbody>\n",
       "</table>\n",
       "</div>"
      ],
      "text/plain": [
       "  Q49_Part_1 Q49_Part_2                                         Q49_Part_3  \\\n",
       "0        NaN        NaN                                                NaN   \n",
       "1        NaN        NaN                                                NaN   \n",
       "2        NaN        NaN                                                NaN   \n",
       "3        NaN        NaN  Share data, code, and environment using a host...   \n",
       "4        NaN        NaN                                                NaN   \n",
       "\n",
       "  Q49_Part_4 Q49_Part_5 Q49_Part_6                            Q49_Part_7  \\\n",
       "0        NaN        NaN        NaN                                   NaN   \n",
       "1        NaN        NaN        NaN                                   NaN   \n",
       "2        NaN        NaN        NaN  Make sure the code is human-readable   \n",
       "3        NaN        NaN        NaN  Make sure the code is human-readable   \n",
       "4        NaN        NaN        NaN                                   NaN   \n",
       "\n",
       "                Q49_Part_8                                       Q49_Part_9  \\\n",
       "0                      NaN                                              NaN   \n",
       "1                      NaN                                              NaN   \n",
       "2  Define all random seeds                                              NaN   \n",
       "3                      NaN  Define relative rather than absolute file paths   \n",
       "4                      NaN  Define relative rather than absolute file paths   \n",
       "\n",
       "                                       Q49_Part_10 Q49_Part_11 Q49_Part_12  \n",
       "0                                              NaN         NaN         NaN  \n",
       "1                                              NaN         NaN         NaN  \n",
       "2  Include a text file describing all dependencies         NaN         NaN  \n",
       "3                                              NaN         NaN         NaN  \n",
       "4                                              NaN         NaN         NaN  "
      ]
     },
     "execution_count": 96,
     "metadata": {},
     "output_type": "execute_result"
    }
   ],
   "source": [
    "reproducingResultsDF.head()"
   ]
  },
  {
   "cell_type": "code",
   "execution_count": 97,
   "metadata": {},
   "outputs": [],
   "source": [
    "reproducingResultsDF = pd.melt(reproducingResultsDF)"
   ]
  },
  {
   "cell_type": "code",
   "execution_count": 98,
   "metadata": {},
   "outputs": [
    {
     "data": {
      "text/html": [
       "<div>\n",
       "<style scoped>\n",
       "    .dataframe tbody tr th:only-of-type {\n",
       "        vertical-align: middle;\n",
       "    }\n",
       "\n",
       "    .dataframe tbody tr th {\n",
       "        vertical-align: top;\n",
       "    }\n",
       "\n",
       "    .dataframe thead th {\n",
       "        text-align: right;\n",
       "    }\n",
       "</style>\n",
       "<table border=\"1\" class=\"dataframe\">\n",
       "  <thead>\n",
       "    <tr style=\"text-align: right;\">\n",
       "      <th></th>\n",
       "      <th>variable</th>\n",
       "      <th>value</th>\n",
       "    </tr>\n",
       "  </thead>\n",
       "  <tbody>\n",
       "    <tr>\n",
       "      <th>0</th>\n",
       "      <td>Q49_Part_1</td>\n",
       "      <td>NaN</td>\n",
       "    </tr>\n",
       "    <tr>\n",
       "      <th>1</th>\n",
       "      <td>Q49_Part_1</td>\n",
       "      <td>NaN</td>\n",
       "    </tr>\n",
       "    <tr>\n",
       "      <th>2</th>\n",
       "      <td>Q49_Part_1</td>\n",
       "      <td>NaN</td>\n",
       "    </tr>\n",
       "    <tr>\n",
       "      <th>3</th>\n",
       "      <td>Q49_Part_1</td>\n",
       "      <td>NaN</td>\n",
       "    </tr>\n",
       "    <tr>\n",
       "      <th>4</th>\n",
       "      <td>Q49_Part_1</td>\n",
       "      <td>NaN</td>\n",
       "    </tr>\n",
       "  </tbody>\n",
       "</table>\n",
       "</div>"
      ],
      "text/plain": [
       "     variable value\n",
       "0  Q49_Part_1   NaN\n",
       "1  Q49_Part_1   NaN\n",
       "2  Q49_Part_1   NaN\n",
       "3  Q49_Part_1   NaN\n",
       "4  Q49_Part_1   NaN"
      ]
     },
     "execution_count": 98,
     "metadata": {},
     "output_type": "execute_result"
    }
   ],
   "source": [
    "reproducingResultsDF.head()"
   ]
  },
  {
   "cell_type": "code",
   "execution_count": 99,
   "metadata": {},
   "outputs": [],
   "source": [
    "reproducingResultsDF.drop(columns=['variable'],inplace=True)\n",
    "reproducingResultsDF.rename(columns={'value':'reproducingResults'},inplace=True)\n",
    "reproducingResultsDF.dropna(inplace=True)\n",
    "reproducingResultsDF.reset_index(drop=True,inplace=True)"
   ]
  },
  {
   "cell_type": "code",
   "execution_count": 100,
   "metadata": {},
   "outputs": [
    {
     "data": {
      "image/png": "[encoded data removed]",
      "text/plain": [
       "<matplotlib.figure.Figure at 0x1a1d3a9828>"
      ]
     },
     "metadata": {},
     "output_type": "display_data"
    }
   ],
   "source": [
    "sns.set(rc={'figure.figsize':(15,12)})\n",
    "ax = sns.countplot(y = reproducingResultsDF.reproducingResults)\n",
    "plt.ylabel(\"reproducingResults\")\n",
    "ax.get_figure().savefig(\"reproducingResults.jpeg\")\n",
    "plt.show(ax);"
   ]
  },
  {
   "cell_type": "code",
   "execution_count": 101,
   "metadata": {},
   "outputs": [],
   "source": [
    "reproducingResultsDF.to_csv('reproducingResults.csv',index=False)"
   ]
  },
  {
   "cell_type": "code",
   "execution_count": 102,
   "metadata": {},
   "outputs": [
    {
     "data": {
      "text/plain": [
       "2439"
      ]
     },
     "execution_count": 102,
     "metadata": {},
     "output_type": "execute_result"
    }
   ],
   "source": [
    "del reproducingResultsDF\n",
    "gc.collect()"
   ]
  },
  {
   "cell_type": "code",
   "execution_count": 103,
   "metadata": {},
   "outputs": [],
   "source": [
    "barriersToReproduceDF = multipleChoiceDF[['Q50_Part_1', 'Q50_Part_2','Q50_Part_3', 'Q50_Part_4','Q50_Part_5', \n",
    "                                        'Q50_Part_6','Q50_Part_7','Q50_Part_8']]"
   ]
  },
  {
   "cell_type": "code",
   "execution_count": 104,
   "metadata": {},
   "outputs": [
    {
     "data": {
      "text/html": [
       "<div>\n",
       "<style scoped>\n",
       "    .dataframe tbody tr th:only-of-type {\n",
       "        vertical-align: middle;\n",
       "    }\n",
       "\n",
       "    .dataframe tbody tr th {\n",
       "        vertical-align: top;\n",
       "    }\n",
       "\n",
       "    .dataframe thead th {\n",
       "        text-align: right;\n",
       "    }\n",
       "</style>\n",
       "<table border=\"1\" class=\"dataframe\">\n",
       "  <thead>\n",
       "    <tr style=\"text-align: right;\">\n",
       "      <th></th>\n",
       "      <th>Q50_Part_1</th>\n",
       "      <th>Q50_Part_2</th>\n",
       "      <th>Q50_Part_3</th>\n",
       "      <th>Q50_Part_4</th>\n",
       "      <th>Q50_Part_5</th>\n",
       "      <th>Q50_Part_6</th>\n",
       "      <th>Q50_Part_7</th>\n",
       "      <th>Q50_Part_8</th>\n",
       "    </tr>\n",
       "  </thead>\n",
       "  <tbody>\n",
       "    <tr>\n",
       "      <th>0</th>\n",
       "      <td>What barriers prevent you from making your wor...</td>\n",
       "      <td>What barriers prevent you from making your wor...</td>\n",
       "      <td>What barriers prevent you from making your wor...</td>\n",
       "      <td>What barriers prevent you from making your wor...</td>\n",
       "      <td>What barriers prevent you from making your wor...</td>\n",
       "      <td>What barriers prevent you from making your wor...</td>\n",
       "      <td>What barriers prevent you from making your wor...</td>\n",
       "      <td>What barriers prevent you from making your wor...</td>\n",
       "    </tr>\n",
       "    <tr>\n",
       "      <th>1</th>\n",
       "      <td>NaN</td>\n",
       "      <td>NaN</td>\n",
       "      <td>NaN</td>\n",
       "      <td>NaN</td>\n",
       "      <td>NaN</td>\n",
       "      <td>NaN</td>\n",
       "      <td>NaN</td>\n",
       "      <td>NaN</td>\n",
       "    </tr>\n",
       "    <tr>\n",
       "      <th>2</th>\n",
       "      <td>NaN</td>\n",
       "      <td>NaN</td>\n",
       "      <td>NaN</td>\n",
       "      <td>NaN</td>\n",
       "      <td>NaN</td>\n",
       "      <td>NaN</td>\n",
       "      <td>NaN</td>\n",
       "      <td>NaN</td>\n",
       "    </tr>\n",
       "    <tr>\n",
       "      <th>3</th>\n",
       "      <td>NaN</td>\n",
       "      <td>Too time-consuming</td>\n",
       "      <td>NaN</td>\n",
       "      <td>NaN</td>\n",
       "      <td>NaN</td>\n",
       "      <td>NaN</td>\n",
       "      <td>NaN</td>\n",
       "      <td>NaN</td>\n",
       "    </tr>\n",
       "    <tr>\n",
       "      <th>4</th>\n",
       "      <td>NaN</td>\n",
       "      <td>NaN</td>\n",
       "      <td>Requires too much technical knowledge</td>\n",
       "      <td>NaN</td>\n",
       "      <td>Not enough incentives to share my work</td>\n",
       "      <td>NaN</td>\n",
       "      <td>NaN</td>\n",
       "      <td>NaN</td>\n",
       "    </tr>\n",
       "  </tbody>\n",
       "</table>\n",
       "</div>"
      ],
      "text/plain": [
       "                                          Q50_Part_1  \\\n",
       "0  What barriers prevent you from making your wor...   \n",
       "1                                                NaN   \n",
       "2                                                NaN   \n",
       "3                                                NaN   \n",
       "4                                                NaN   \n",
       "\n",
       "                                          Q50_Part_2  \\\n",
       "0  What barriers prevent you from making your wor...   \n",
       "1                                                NaN   \n",
       "2                                                NaN   \n",
       "3                                 Too time-consuming   \n",
       "4                                                NaN   \n",
       "\n",
       "                                          Q50_Part_3  \\\n",
       "0  What barriers prevent you from making your wor...   \n",
       "1                                                NaN   \n",
       "2                                                NaN   \n",
       "3                                                NaN   \n",
       "4              Requires too much technical knowledge   \n",
       "\n",
       "                                          Q50_Part_4  \\\n",
       "0  What barriers prevent you from making your wor...   \n",
       "1                                                NaN   \n",
       "2                                                NaN   \n",
       "3                                                NaN   \n",
       "4                                                NaN   \n",
       "\n",
       "                                          Q50_Part_5  \\\n",
       "0  What barriers prevent you from making your wor...   \n",
       "1                                                NaN   \n",
       "2                                                NaN   \n",
       "3                                                NaN   \n",
       "4             Not enough incentives to share my work   \n",
       "\n",
       "                                          Q50_Part_6  \\\n",
       "0  What barriers prevent you from making your wor...   \n",
       "1                                                NaN   \n",
       "2                                                NaN   \n",
       "3                                                NaN   \n",
       "4                                                NaN   \n",
       "\n",
       "                                          Q50_Part_7  \\\n",
       "0  What barriers prevent you from making your wor...   \n",
       "1                                                NaN   \n",
       "2                                                NaN   \n",
       "3                                                NaN   \n",
       "4                                                NaN   \n",
       "\n",
       "                                          Q50_Part_8  \n",
       "0  What barriers prevent you from making your wor...  \n",
       "1                                                NaN  \n",
       "2                                                NaN  \n",
       "3                                                NaN  \n",
       "4                                                NaN  "
      ]
     },
     "execution_count": 104,
     "metadata": {},
     "output_type": "execute_result"
    }
   ],
   "source": [
    "barriersToReproduceDF.head()"
   ]
  },
  {
   "cell_type": "code",
   "execution_count": 105,
   "metadata": {},
   "outputs": [],
   "source": [
    "barriersToReproduceDF.drop([0],inplace=True)\n",
    "barriersToReproduceDF.reset_index(drop=True,inplace=True)"
   ]
  },
  {
   "cell_type": "code",
   "execution_count": 106,
   "metadata": {},
   "outputs": [],
   "source": [
    "barriersToReproduceDF = pd.melt(barriersToReproduceDF)"
   ]
  },
  {
   "cell_type": "code",
   "execution_count": 107,
   "metadata": {},
   "outputs": [
    {
     "data": {
      "text/html": [
       "<div>\n",
       "<style scoped>\n",
       "    .dataframe tbody tr th:only-of-type {\n",
       "        vertical-align: middle;\n",
       "    }\n",
       "\n",
       "    .dataframe tbody tr th {\n",
       "        vertical-align: top;\n",
       "    }\n",
       "\n",
       "    .dataframe thead th {\n",
       "        text-align: right;\n",
       "    }\n",
       "</style>\n",
       "<table border=\"1\" class=\"dataframe\">\n",
       "  <thead>\n",
       "    <tr style=\"text-align: right;\">\n",
       "      <th></th>\n",
       "      <th>variable</th>\n",
       "      <th>value</th>\n",
       "    </tr>\n",
       "  </thead>\n",
       "  <tbody>\n",
       "    <tr>\n",
       "      <th>0</th>\n",
       "      <td>Q50_Part_1</td>\n",
       "      <td>NaN</td>\n",
       "    </tr>\n",
       "    <tr>\n",
       "      <th>1</th>\n",
       "      <td>Q50_Part_1</td>\n",
       "      <td>NaN</td>\n",
       "    </tr>\n",
       "    <tr>\n",
       "      <th>2</th>\n",
       "      <td>Q50_Part_1</td>\n",
       "      <td>NaN</td>\n",
       "    </tr>\n",
       "    <tr>\n",
       "      <th>3</th>\n",
       "      <td>Q50_Part_1</td>\n",
       "      <td>NaN</td>\n",
       "    </tr>\n",
       "    <tr>\n",
       "      <th>4</th>\n",
       "      <td>Q50_Part_1</td>\n",
       "      <td>NaN</td>\n",
       "    </tr>\n",
       "  </tbody>\n",
       "</table>\n",
       "</div>"
      ],
      "text/plain": [
       "     variable value\n",
       "0  Q50_Part_1   NaN\n",
       "1  Q50_Part_1   NaN\n",
       "2  Q50_Part_1   NaN\n",
       "3  Q50_Part_1   NaN\n",
       "4  Q50_Part_1   NaN"
      ]
     },
     "execution_count": 107,
     "metadata": {},
     "output_type": "execute_result"
    }
   ],
   "source": [
    "barriersToReproduceDF.head()"
   ]
  },
  {
   "cell_type": "code",
   "execution_count": 108,
   "metadata": {},
   "outputs": [],
   "source": [
    "barriersToReproduceDF.drop(columns=['variable'],inplace=True)\n",
    "barriersToReproduceDF.rename(columns={'value':'barriersToReproduce'},inplace = True)\n",
    "barriersToReproduceDF.dropna(inplace=True)\n",
    "barriersToReproduceDF.reset_index(drop=True,inplace=True)"
   ]
  },
  {
   "cell_type": "code",
   "execution_count": 109,
   "metadata": {},
   "outputs": [
    {
     "data": {
      "text/html": [
       "<div>\n",
       "<style scoped>\n",
       "    .dataframe tbody tr th:only-of-type {\n",
       "        vertical-align: middle;\n",
       "    }\n",
       "\n",
       "    .dataframe tbody tr th {\n",
       "        vertical-align: top;\n",
       "    }\n",
       "\n",
       "    .dataframe thead th {\n",
       "        text-align: right;\n",
       "    }\n",
       "</style>\n",
       "<table border=\"1\" class=\"dataframe\">\n",
       "  <thead>\n",
       "    <tr style=\"text-align: right;\">\n",
       "      <th></th>\n",
       "      <th>barriersToReproduce</th>\n",
       "    </tr>\n",
       "  </thead>\n",
       "  <tbody>\n",
       "    <tr>\n",
       "      <th>0</th>\n",
       "      <td>Too expensive</td>\n",
       "    </tr>\n",
       "    <tr>\n",
       "      <th>1</th>\n",
       "      <td>Too expensive</td>\n",
       "    </tr>\n",
       "    <tr>\n",
       "      <th>2</th>\n",
       "      <td>Too expensive</td>\n",
       "    </tr>\n",
       "    <tr>\n",
       "      <th>3</th>\n",
       "      <td>Too expensive</td>\n",
       "    </tr>\n",
       "    <tr>\n",
       "      <th>4</th>\n",
       "      <td>Too expensive</td>\n",
       "    </tr>\n",
       "  </tbody>\n",
       "</table>\n",
       "</div>"
      ],
      "text/plain": [
       "  barriersToReproduce\n",
       "0       Too expensive\n",
       "1       Too expensive\n",
       "2       Too expensive\n",
       "3       Too expensive\n",
       "4       Too expensive"
      ]
     },
     "execution_count": 109,
     "metadata": {},
     "output_type": "execute_result"
    }
   ],
   "source": [
    "barriersToReproduceDF.head()"
   ]
  },
  {
   "cell_type": "code",
   "execution_count": 110,
   "metadata": {},
   "outputs": [
    {
     "data": {
      "image/png": "[encoded data removed]",
      "text/plain": [
       "<matplotlib.figure.Figure at 0x1a1e580a20>"
      ]
     },
     "metadata": {},
     "output_type": "display_data"
    }
   ],
   "source": [
    "sns.set(rc={'figure.figsize':(15,12)})\n",
    "ax = sns.countplot(y = barriersToReproduceDF.barriersToReproduce)\n",
    "plt.ylabel(\"Barriers To Reproduce\")\n",
    "ax.get_figure().savefig(\"barriersToReproduce.jpeg\")\n",
    "plt.show(ax);"
   ]
  },
  {
   "cell_type": "code",
   "execution_count": 111,
   "metadata": {},
   "outputs": [],
   "source": [
    "barriersToReproduceDF.to_csv('barriersToReproduce.csv',index=False)"
   ]
  },
  {
   "cell_type": "code",
   "execution_count": null,
   "metadata": {},
   "outputs": [],
   "source": []
  }
 ],
 "metadata": {
  "kernelspec": {
   "display_name": "Python 3",
   "language": "python",
   "name": "python3"
  },
  "language_info": {
   "codemirror_mode": {
    "name": "ipython",
    "version": 3
   },
   "file_extension": ".py",
   "mimetype": "text/x-python",
   "name": "python",
   "nbconvert_exporter": "python",
   "pygments_lexer": "ipython3",
   "version": "3.6.4"
  }
 },
 "nbformat": 4,
 "nbformat_minor": 2
}
