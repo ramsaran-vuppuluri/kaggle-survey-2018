{
 "cells": [
  {
   "cell_type": "markdown",
   "metadata": {},
   "source": [
    "# Education & Training Information\n",
    "\n",
    "## Author: Ram Saran Vuppuluri"
   ]
  },
  {
   "cell_type": "markdown",
   "metadata": {},
   "source": [
    "### Introduction\n",
    "\n",
    "Kaggle had initiated an industry-wide survey in 2017 that presents a truly comprehensive view of the state of data science and machine learning. In 2018, the study was live for a week in October and had collected responses from 23,859 individuals.\n",
    "\n",
    "Data set used for the analysis is has 390+ columns. Not all columns are needed at any given point of the study. For this reason, the notebook is further divided into multiple subsections which will start with a business question, followed by data analysis. Only the columns that are related to the business question are extracted for analysis.\n",
    "\n",
    "Furthermore, we are persisting extracted columns into separate csv files that are utilized for generating visualizations using Tableau for Medium blog post.\n",
    "\n",
    "__One significant advantage with this approach is we are not ignoring the whole row if the respondent has not to answer specific questions. We are going to include all the answers (non-freeform) in the analysis.__\n",
    "\n",
    "In this notebook, we will analyze the Education and Training information of survey takers. "
   ]
  },
  {
   "cell_type": "code",
   "execution_count": 1,
   "metadata": {},
   "outputs": [],
   "source": [
    "import gc\n",
    "\n",
    "import pandas as pd\n",
    "import matplotlib.pyplot as plt\n",
    "import seaborn as sns\n",
    "%matplotlib inline\n",
    "\n",
    "import warnings\n",
    "warnings.filterwarnings('ignore')"
   ]
  },
  {
   "cell_type": "code",
   "execution_count": 2,
   "metadata": {},
   "outputs": [],
   "source": [
    "def generate_vertical_countplot(x, xlabel='', figName=None, figSize=(8, 6)):\n",
    "    '''\n",
    "    This method will generate vertical Seaborn countplot.\n",
    "\n",
    "    :param x: x parameter\n",
    "\n",
    "    :param xlabel: x axis label\n",
    "\n",
    "    :param figName: file name by which it need to be stored.\n",
    "\n",
    "    :param figSize: plot figure size.\n",
    "\n",
    "    :return: None\n",
    "    '''\n",
    "    sns.set(rc={'figure.figsize': figSize})\n",
    "\n",
    "    ax = sns.countplot(x=x)\n",
    "\n",
    "    plt.xlabel(xlabel)\n",
    "    if figName != None:\n",
    "        ax.get_figure().savefig(figName)\n",
    "    plt.show(ax);"
   ]
  },
  {
   "cell_type": "code",
   "execution_count": 3,
   "metadata": {},
   "outputs": [],
   "source": [
    "def generate_horizontal_countplot(y, ylabel='', figName=None, figSize=(12, 10)):\n",
    "    '''\n",
    "    This method will generate horizontal Seaborn countplot/\n",
    "\n",
    "    :param y: y parameter\n",
    "\n",
    "    :param ylabel: y axis label\n",
    "\n",
    "    :param figName: file name by which it need to be stored\n",
    "\n",
    "    :param figSize: plot figure size.\n",
    "\n",
    "    :return: None\n",
    "    '''\n",
    "    sns.set(rc={'figure.figsize': figSize})\n",
    "\n",
    "    ax = sns.countplot(y=y)\n",
    "\n",
    "    plt.ylabel(ylabel)\n",
    "\n",
    "    if figName != None:\n",
    "        ax.get_figure().savefig(figName)\n",
    "    plt.show(ax);"
   ]
  },
  {
   "cell_type": "code",
   "execution_count": 4,
   "metadata": {},
   "outputs": [],
   "source": [
    "def generate_bar_plot(data, x, y, xlabel='', ylabel='', figName=None, figSize=(12, 10)):\n",
    "    '''\n",
    "    This method will generate Seaborn Bar plot.\n",
    "\n",
    "    :param data: Pandas Dataframe.\n",
    "\n",
    "    :param x: x parameter\n",
    "\n",
    "    :param y: y parameter\n",
    "\n",
    "    :param xlabel: x axis label\n",
    "\n",
    "    :param ylabel: y axis label\n",
    "\n",
    "    :param figName: file name by which it need to be stored\n",
    "\n",
    "    :param figSize: plot figure size.\n",
    "\n",
    "    :return: None\n",
    "    '''\n",
    "    sns.set(rc={'figure.figsize': figSize})\n",
    "    ax = sns.barplot(x=x, y=y, data=data)\n",
    "    plt.xlabel(xlabel)\n",
    "    plt.ylabel(ylabel)\n",
    "    ax.get_figure().savefig(figName)\n",
    "    plt.show(ax);"
   ]
  },
  {
   "cell_type": "code",
   "execution_count": 5,
   "metadata": {},
   "outputs": [],
   "source": [
    "multipleChoiceDF = pd.read_csv('../multipleChoiceResponses.csv',low_memory=False)"
   ]
  },
  {
   "cell_type": "markdown",
   "metadata": {},
   "source": [
    "### What is the highest level of formal education that you have attained or plan to accomplish within the next 2 years? Which best describes your undergraduate major?"
   ]
  },
  {
   "cell_type": "code",
   "execution_count": 6,
   "metadata": {},
   "outputs": [],
   "source": [
    "educationDF = multipleChoiceDF[['Q4','Q5']]"
   ]
  },
  {
   "cell_type": "code",
   "execution_count": 7,
   "metadata": {},
   "outputs": [
    {
     "name": "stdout",
     "output_type": "stream",
     "text": [
      "<class 'pandas.core.frame.DataFrame'>\n",
      "RangeIndex: 23860 entries, 0 to 23859\n",
      "Data columns (total 2 columns):\n",
      "Q4    23439 non-null object\n",
      "Q5    22948 non-null object\n",
      "dtypes: object(2)\n",
      "memory usage: 372.9+ KB\n"
     ]
    }
   ],
   "source": [
    "educationDF.info()"
   ]
  },
  {
   "cell_type": "code",
   "execution_count": 8,
   "metadata": {},
   "outputs": [
    {
     "data": {
      "text/html": [
       "<div>\n",
       "<style scoped>\n",
       "    .dataframe tbody tr th:only-of-type {\n",
       "        vertical-align: middle;\n",
       "    }\n",
       "\n",
       "    .dataframe tbody tr th {\n",
       "        vertical-align: top;\n",
       "    }\n",
       "\n",
       "    .dataframe thead th {\n",
       "        text-align: right;\n",
       "    }\n",
       "</style>\n",
       "<table border=\"1\" class=\"dataframe\">\n",
       "  <thead>\n",
       "    <tr style=\"text-align: right;\">\n",
       "      <th></th>\n",
       "      <th>Q4</th>\n",
       "      <th>Q5</th>\n",
       "    </tr>\n",
       "  </thead>\n",
       "  <tbody>\n",
       "    <tr>\n",
       "      <th>0</th>\n",
       "      <td>What is the highest level of formal education ...</td>\n",
       "      <td>Which best describes your undergraduate major?...</td>\n",
       "    </tr>\n",
       "    <tr>\n",
       "      <th>1</th>\n",
       "      <td>Doctoral degree</td>\n",
       "      <td>Other</td>\n",
       "    </tr>\n",
       "    <tr>\n",
       "      <th>2</th>\n",
       "      <td>Bachelor’s degree</td>\n",
       "      <td>Engineering (non-computer focused)</td>\n",
       "    </tr>\n",
       "    <tr>\n",
       "      <th>3</th>\n",
       "      <td>Master’s degree</td>\n",
       "      <td>Computer science (software engineering, etc.)</td>\n",
       "    </tr>\n",
       "    <tr>\n",
       "      <th>4</th>\n",
       "      <td>Master’s degree</td>\n",
       "      <td>Social sciences (anthropology, psychology, soc...</td>\n",
       "    </tr>\n",
       "  </tbody>\n",
       "</table>\n",
       "</div>"
      ],
      "text/plain": [
       "                                                  Q4  \\\n",
       "0  What is the highest level of formal education ...   \n",
       "1                                    Doctoral degree   \n",
       "2                                  Bachelor’s degree   \n",
       "3                                    Master’s degree   \n",
       "4                                    Master’s degree   \n",
       "\n",
       "                                                  Q5  \n",
       "0  Which best describes your undergraduate major?...  \n",
       "1                                              Other  \n",
       "2                 Engineering (non-computer focused)  \n",
       "3      Computer science (software engineering, etc.)  \n",
       "4  Social sciences (anthropology, psychology, soc...  "
      ]
     },
     "execution_count": 8,
     "metadata": {},
     "output_type": "execute_result"
    }
   ],
   "source": [
    "educationDF.head()"
   ]
  },
  {
   "cell_type": "markdown",
   "metadata": {},
   "source": [
    "From the visual and programmatic analysis:\n",
    "* There are rows with missing data, we will not include these records in our report.\n",
    "* All columns are loaded with the correct data type.\n",
    "* Row with ID 0, is the same as the question. We will drop this row from the analysis as it does not have any empirical value.\n",
    "* There are some values in the response that are too big and won't look suitable for visual analysis. We will replace these values with a much smaller string while not losing any knowledge.\n",
    "* Column names are not informative, we will rename columns with more informative names."
   ]
  },
  {
   "cell_type": "code",
   "execution_count": 9,
   "metadata": {},
   "outputs": [],
   "source": [
    "educationDF.drop([0],inplace=True)\n",
    "educationDF.reset_index(drop=True,inplace=True)"
   ]
  },
  {
   "cell_type": "code",
   "execution_count": 10,
   "metadata": {},
   "outputs": [
    {
     "data": {
      "text/html": [
       "<div>\n",
       "<style scoped>\n",
       "    .dataframe tbody tr th:only-of-type {\n",
       "        vertical-align: middle;\n",
       "    }\n",
       "\n",
       "    .dataframe tbody tr th {\n",
       "        vertical-align: top;\n",
       "    }\n",
       "\n",
       "    .dataframe thead th {\n",
       "        text-align: right;\n",
       "    }\n",
       "</style>\n",
       "<table border=\"1\" class=\"dataframe\">\n",
       "  <thead>\n",
       "    <tr style=\"text-align: right;\">\n",
       "      <th></th>\n",
       "      <th>Q4</th>\n",
       "      <th>Q5</th>\n",
       "    </tr>\n",
       "  </thead>\n",
       "  <tbody>\n",
       "    <tr>\n",
       "      <th>0</th>\n",
       "      <td>Doctoral degree</td>\n",
       "      <td>Other</td>\n",
       "    </tr>\n",
       "    <tr>\n",
       "      <th>1</th>\n",
       "      <td>Bachelor’s degree</td>\n",
       "      <td>Engineering (non-computer focused)</td>\n",
       "    </tr>\n",
       "    <tr>\n",
       "      <th>2</th>\n",
       "      <td>Master’s degree</td>\n",
       "      <td>Computer science (software engineering, etc.)</td>\n",
       "    </tr>\n",
       "    <tr>\n",
       "      <th>3</th>\n",
       "      <td>Master’s degree</td>\n",
       "      <td>Social sciences (anthropology, psychology, soc...</td>\n",
       "    </tr>\n",
       "    <tr>\n",
       "      <th>4</th>\n",
       "      <td>Master’s degree</td>\n",
       "      <td>Mathematics or statistics</td>\n",
       "    </tr>\n",
       "  </tbody>\n",
       "</table>\n",
       "</div>"
      ],
      "text/plain": [
       "                  Q4                                                 Q5\n",
       "0    Doctoral degree                                              Other\n",
       "1  Bachelor’s degree                 Engineering (non-computer focused)\n",
       "2    Master’s degree      Computer science (software engineering, etc.)\n",
       "3    Master’s degree  Social sciences (anthropology, psychology, soc...\n",
       "4    Master’s degree                          Mathematics or statistics"
      ]
     },
     "execution_count": 10,
     "metadata": {},
     "output_type": "execute_result"
    }
   ],
   "source": [
    "educationDF.head()"
   ]
  },
  {
   "cell_type": "code",
   "execution_count": 11,
   "metadata": {},
   "outputs": [
    {
     "data": {
      "text/plain": [
       "Master’s degree                                                      10855\n",
       "Bachelor’s degree                                                     7083\n",
       "Doctoral degree                                                       3357\n",
       "Some college/university study without earning a bachelor’s degree      967\n",
       "Professional degree                                                    599\n",
       "I prefer not to answer                                                 345\n",
       "No formal education past high school                                   232\n",
       "Name: Q4, dtype: int64"
      ]
     },
     "execution_count": 11,
     "metadata": {},
     "output_type": "execute_result"
    }
   ],
   "source": [
    "educationDF.Q4.value_counts()"
   ]
  },
  {
   "cell_type": "code",
   "execution_count": 12,
   "metadata": {},
   "outputs": [],
   "source": [
    "educationDF.Q4.replace(to_replace='Some college/university study without earning a bachelor’s degree',\n",
    "                       value='Bachelor’s degree (not graduated)',inplace=True)"
   ]
  },
  {
   "cell_type": "code",
   "execution_count": 13,
   "metadata": {},
   "outputs": [],
   "source": [
    "educationDF.sort_values(\"Q4\",inplace=True)\n",
    "educationDF.reset_index(drop=True,inplace=True)"
   ]
  },
  {
   "cell_type": "markdown",
   "metadata": {},
   "source": [
    "__Contrary to the prevailing belief the number of respondents with Ph.D. is less than the number of individuals with other highest level of formal education.__"
   ]
  },
  {
   "cell_type": "code",
   "execution_count": 14,
   "metadata": {},
   "outputs": [
    {
     "data": {
      "image/png": "[encoded data removed]",
      "text/plain": [
       "<matplotlib.figure.Figure at 0x10f41e4a8>"
      ]
     },
     "metadata": {},
     "output_type": "display_data"
    }
   ],
   "source": [
    "generate_vertical_countplot(x=educationDF.Q4,\n",
    "                            xlabel=\"Degree\",\n",
    "                            figName='Degree_Distribution.jpeg',\n",
    "                            figSize=(18,15))"
   ]
  },
  {
   "cell_type": "code",
   "execution_count": 15,
   "metadata": {},
   "outputs": [
    {
     "data": {
      "text/plain": [
       "Computer science (software engineering, etc.)                    9430\n",
       "Engineering (non-computer focused)                               3705\n",
       "Mathematics or statistics                                        2950\n",
       "A business discipline (accounting, economics, finance, etc.)     1791\n",
       "Physics or astronomy                                             1110\n",
       "Information technology, networking, or system administration     1029\n",
       "Medical or life sciences (biology, chemistry, medicine, etc.)     871\n",
       "Other                                                             770\n",
       "Social sciences (anthropology, psychology, sociology, etc.)       554\n",
       "Humanities (history, literature, philosophy, etc.)                269\n",
       "Environmental science or geology                                  253\n",
       "I never declared a major                                          128\n",
       "Fine arts or performing arts                                       87\n",
       "Name: Q5, dtype: int64"
      ]
     },
     "execution_count": 15,
     "metadata": {},
     "output_type": "execute_result"
    }
   ],
   "source": [
    "educationDF.Q5.value_counts()"
   ]
  },
  {
   "cell_type": "code",
   "execution_count": 16,
   "metadata": {},
   "outputs": [],
   "source": [
    "educationDF.Q5.replace(to_replace='Computer science (software engineering, etc.)',\n",
    "                       value='Computer science',inplace = True)\n",
    "educationDF.Q5.replace(to_replace='Engineering (non-computer focused)',\n",
    "                       value='Engineering',inplace = True)\n",
    "educationDF.Q5.replace(to_replace='A business discipline (accounting, economics, finance, etc.)',\n",
    "                       value='Business Discipline',inplace = True)\n",
    "educationDF.Q5.replace(to_replace='Medical or life sciences (biology, chemistry, medicine, etc.)',\n",
    "                       value='Medical or life sciences',inplace = True)\n",
    "educationDF.Q5.replace(to_replace='Social sciences (anthropology, psychology, sociology, etc.)',\n",
    "                       value='Social sciences',inplace = True)\n",
    "educationDF.Q5.replace(to_replace='Humanities (history, literature, philosophy, etc.)',\n",
    "                       value='Humanities',inplace = True)"
   ]
  },
  {
   "cell_type": "code",
   "execution_count": 17,
   "metadata": {},
   "outputs": [],
   "source": [
    "educationDF.sort_values(\"Q5\",inplace=True)\n",
    "educationDF.reset_index(drop=True,inplace=True)"
   ]
  },
  {
   "cell_type": "markdown",
   "metadata": {},
   "source": [
    "__Most of the respondents have their Undergraduate majors in Computer science followed by Engineering.__"
   ]
  },
  {
   "cell_type": "code",
   "execution_count": 18,
   "metadata": {},
   "outputs": [
    {
     "data": {
      "image/png": "[encoded data removed]",
      "text/plain": [
       "<matplotlib.figure.Figure at 0x10ee1c710>"
      ]
     },
     "metadata": {},
     "output_type": "display_data"
    }
   ],
   "source": [
    "generate_horizontal_countplot(y=educationDF.Q5,\n",
    "                             figSize=(20,25),\n",
    "                             ylabel = 'Major',\n",
    "                             figName = 'Major_Distribution.jpeg')"
   ]
  },
  {
   "cell_type": "code",
   "execution_count": 19,
   "metadata": {},
   "outputs": [],
   "source": [
    "educationDF.rename(columns={\"Q4\":\"Degree\",\"Q5\":\"Major\"},inplace=True)"
   ]
  },
  {
   "cell_type": "markdown",
   "metadata": {},
   "source": [
    "We will persist the clean copy of the dataframe as a CSV file. \n",
    "\n",
    "We no longer need \"educationDF\" in the analysis. We will clean up from memory."
   ]
  },
  {
   "cell_type": "code",
   "execution_count": 20,
   "metadata": {},
   "outputs": [],
   "source": [
    "educationDF.to_csv(\"education.csv\",index=False)"
   ]
  },
  {
   "cell_type": "code",
   "execution_count": 21,
   "metadata": {},
   "outputs": [
    {
     "data": {
      "text/plain": [
       "14"
      ]
     },
     "execution_count": 21,
     "metadata": {},
     "output_type": "execute_result"
    }
   ],
   "source": [
    "del educationDF\n",
    "gc.collect()"
   ]
  },
  {
   "cell_type": "markdown",
   "metadata": {},
   "source": [
    "### What percentage of your current machine learning/data science training falls under each category?\n",
    "* __Self-taught__\n",
    "* __Online courses__\n",
    "* __Work__\n",
    "* __University__\n",
    "* __Kaggle competitions__"
   ]
  },
  {
   "cell_type": "code",
   "execution_count": 22,
   "metadata": {},
   "outputs": [],
   "source": [
    "trainingSourceDF = multipleChoiceDF[['Q35_Part_1','Q35_Part_2','Q35_Part_3','Q35_Part_4','Q35_Part_5','Q35_Part_6']]"
   ]
  },
  {
   "cell_type": "code",
   "execution_count": 23,
   "metadata": {},
   "outputs": [
    {
     "name": "stdout",
     "output_type": "stream",
     "text": [
      "<class 'pandas.core.frame.DataFrame'>\n",
      "RangeIndex: 23860 entries, 0 to 23859\n",
      "Data columns (total 6 columns):\n",
      "Q35_Part_1    15746 non-null object\n",
      "Q35_Part_2    15746 non-null object\n",
      "Q35_Part_3    15746 non-null object\n",
      "Q35_Part_4    15746 non-null object\n",
      "Q35_Part_5    15746 non-null object\n",
      "Q35_Part_6    15746 non-null object\n",
      "dtypes: object(6)\n",
      "memory usage: 1.1+ MB\n"
     ]
    }
   ],
   "source": [
    "trainingSourceDF.info()"
   ]
  },
  {
   "cell_type": "code",
   "execution_count": 24,
   "metadata": {},
   "outputs": [
    {
     "data": {
      "text/html": [
       "<div>\n",
       "<style scoped>\n",
       "    .dataframe tbody tr th:only-of-type {\n",
       "        vertical-align: middle;\n",
       "    }\n",
       "\n",
       "    .dataframe tbody tr th {\n",
       "        vertical-align: top;\n",
       "    }\n",
       "\n",
       "    .dataframe thead th {\n",
       "        text-align: right;\n",
       "    }\n",
       "</style>\n",
       "<table border=\"1\" class=\"dataframe\">\n",
       "  <thead>\n",
       "    <tr style=\"text-align: right;\">\n",
       "      <th></th>\n",
       "      <th>Q35_Part_1</th>\n",
       "      <th>Q35_Part_2</th>\n",
       "      <th>Q35_Part_3</th>\n",
       "      <th>Q35_Part_4</th>\n",
       "      <th>Q35_Part_5</th>\n",
       "      <th>Q35_Part_6</th>\n",
       "    </tr>\n",
       "  </thead>\n",
       "  <tbody>\n",
       "    <tr>\n",
       "      <th>0</th>\n",
       "      <td>What percentage of your current machine learni...</td>\n",
       "      <td>What percentage of your current machine learni...</td>\n",
       "      <td>What percentage of your current machine learni...</td>\n",
       "      <td>What percentage of your current machine learni...</td>\n",
       "      <td>What percentage of your current machine learni...</td>\n",
       "      <td>What percentage of your current machine learni...</td>\n",
       "    </tr>\n",
       "    <tr>\n",
       "      <th>1</th>\n",
       "      <td>NaN</td>\n",
       "      <td>NaN</td>\n",
       "      <td>NaN</td>\n",
       "      <td>NaN</td>\n",
       "      <td>NaN</td>\n",
       "      <td>NaN</td>\n",
       "    </tr>\n",
       "    <tr>\n",
       "      <th>2</th>\n",
       "      <td>NaN</td>\n",
       "      <td>NaN</td>\n",
       "      <td>NaN</td>\n",
       "      <td>NaN</td>\n",
       "      <td>NaN</td>\n",
       "      <td>NaN</td>\n",
       "    </tr>\n",
       "    <tr>\n",
       "      <th>3</th>\n",
       "      <td>0</td>\n",
       "      <td>0</td>\n",
       "      <td>0</td>\n",
       "      <td>100</td>\n",
       "      <td>0</td>\n",
       "      <td>0</td>\n",
       "    </tr>\n",
       "    <tr>\n",
       "      <th>4</th>\n",
       "      <td>40</td>\n",
       "      <td>40</td>\n",
       "      <td>10</td>\n",
       "      <td>0</td>\n",
       "      <td>10</td>\n",
       "      <td>0</td>\n",
       "    </tr>\n",
       "  </tbody>\n",
       "</table>\n",
       "</div>"
      ],
      "text/plain": [
       "                                          Q35_Part_1  \\\n",
       "0  What percentage of your current machine learni...   \n",
       "1                                                NaN   \n",
       "2                                                NaN   \n",
       "3                                                  0   \n",
       "4                                                 40   \n",
       "\n",
       "                                          Q35_Part_2  \\\n",
       "0  What percentage of your current machine learni...   \n",
       "1                                                NaN   \n",
       "2                                                NaN   \n",
       "3                                                  0   \n",
       "4                                                 40   \n",
       "\n",
       "                                          Q35_Part_3  \\\n",
       "0  What percentage of your current machine learni...   \n",
       "1                                                NaN   \n",
       "2                                                NaN   \n",
       "3                                                  0   \n",
       "4                                                 10   \n",
       "\n",
       "                                          Q35_Part_4  \\\n",
       "0  What percentage of your current machine learni...   \n",
       "1                                                NaN   \n",
       "2                                                NaN   \n",
       "3                                                100   \n",
       "4                                                  0   \n",
       "\n",
       "                                          Q35_Part_5  \\\n",
       "0  What percentage of your current machine learni...   \n",
       "1                                                NaN   \n",
       "2                                                NaN   \n",
       "3                                                  0   \n",
       "4                                                 10   \n",
       "\n",
       "                                          Q35_Part_6  \n",
       "0  What percentage of your current machine learni...  \n",
       "1                                                NaN  \n",
       "2                                                NaN  \n",
       "3                                                  0  \n",
       "4                                                  0  "
      ]
     },
     "execution_count": 24,
     "metadata": {},
     "output_type": "execute_result"
    }
   ],
   "source": [
    "trainingSourceDF.head()"
   ]
  },
  {
   "cell_type": "markdown",
   "metadata": {},
   "source": [
    "From the visual and programmatic analysis:\n",
    "* There are rows with missing data, but deviating from data we explored till now, missing information is expected per record as selections are optional. We will melt into one single column removing missing values, and use this column for analysis.\n",
    "* All columns are loaded with the correct data type.\n",
    "* Row with ID 0, is the same as the question. We will drop this row from the analysis as it does not have any empirical value.\n",
    "* Column names are not informative, we will rename columns with more informative names."
   ]
  },
  {
   "cell_type": "code",
   "execution_count": 25,
   "metadata": {},
   "outputs": [],
   "source": [
    "trainingSourceDF.drop([0],inplace=True)\n",
    "trainingSourceDF.reset_index(drop=True,inplace=True)"
   ]
  },
  {
   "cell_type": "code",
   "execution_count": 26,
   "metadata": {},
   "outputs": [
    {
     "data": {
      "text/html": [
       "<div>\n",
       "<style scoped>\n",
       "    .dataframe tbody tr th:only-of-type {\n",
       "        vertical-align: middle;\n",
       "    }\n",
       "\n",
       "    .dataframe tbody tr th {\n",
       "        vertical-align: top;\n",
       "    }\n",
       "\n",
       "    .dataframe thead th {\n",
       "        text-align: right;\n",
       "    }\n",
       "</style>\n",
       "<table border=\"1\" class=\"dataframe\">\n",
       "  <thead>\n",
       "    <tr style=\"text-align: right;\">\n",
       "      <th></th>\n",
       "      <th>Q35_Part_1</th>\n",
       "      <th>Q35_Part_2</th>\n",
       "      <th>Q35_Part_3</th>\n",
       "      <th>Q35_Part_4</th>\n",
       "      <th>Q35_Part_5</th>\n",
       "      <th>Q35_Part_6</th>\n",
       "    </tr>\n",
       "  </thead>\n",
       "  <tbody>\n",
       "    <tr>\n",
       "      <th>0</th>\n",
       "      <td>NaN</td>\n",
       "      <td>NaN</td>\n",
       "      <td>NaN</td>\n",
       "      <td>NaN</td>\n",
       "      <td>NaN</td>\n",
       "      <td>NaN</td>\n",
       "    </tr>\n",
       "    <tr>\n",
       "      <th>1</th>\n",
       "      <td>NaN</td>\n",
       "      <td>NaN</td>\n",
       "      <td>NaN</td>\n",
       "      <td>NaN</td>\n",
       "      <td>NaN</td>\n",
       "      <td>NaN</td>\n",
       "    </tr>\n",
       "    <tr>\n",
       "      <th>2</th>\n",
       "      <td>0</td>\n",
       "      <td>0</td>\n",
       "      <td>0</td>\n",
       "      <td>100</td>\n",
       "      <td>0</td>\n",
       "      <td>0</td>\n",
       "    </tr>\n",
       "    <tr>\n",
       "      <th>3</th>\n",
       "      <td>40</td>\n",
       "      <td>40</td>\n",
       "      <td>10</td>\n",
       "      <td>0</td>\n",
       "      <td>10</td>\n",
       "      <td>0</td>\n",
       "    </tr>\n",
       "    <tr>\n",
       "      <th>4</th>\n",
       "      <td>20</td>\n",
       "      <td>40</td>\n",
       "      <td>20</td>\n",
       "      <td>20</td>\n",
       "      <td>0</td>\n",
       "      <td>0</td>\n",
       "    </tr>\n",
       "  </tbody>\n",
       "</table>\n",
       "</div>"
      ],
      "text/plain": [
       "  Q35_Part_1 Q35_Part_2 Q35_Part_3 Q35_Part_4 Q35_Part_5 Q35_Part_6\n",
       "0        NaN        NaN        NaN        NaN        NaN        NaN\n",
       "1        NaN        NaN        NaN        NaN        NaN        NaN\n",
       "2          0          0          0        100          0          0\n",
       "3         40         40         10          0         10          0\n",
       "4         20         40         20         20          0          0"
      ]
     },
     "execution_count": 26,
     "metadata": {},
     "output_type": "execute_result"
    }
   ],
   "source": [
    "trainingSourceDF.head()"
   ]
  },
  {
   "cell_type": "code",
   "execution_count": 27,
   "metadata": {},
   "outputs": [],
   "source": [
    "trainingSourceDF.rename(columns={\"Q35_Part_1\":\"Self-taught\",\n",
    "                                 \"Q35_Part_2\":\"Online courses\",\n",
    "                                 \"Q35_Part_3\":\"Work\",\n",
    "                                 \"Q35_Part_4\":\"University\",\n",
    "                                 \"Q35_Part_5\":\"Kaggle Competitions\",\n",
    "                                 \"Q35_Part_6\":\"Other\"},\n",
    "                        inplace = True)"
   ]
  },
  {
   "cell_type": "code",
   "execution_count": 28,
   "metadata": {},
   "outputs": [],
   "source": [
    "trainingSourceDF = pd.melt(trainingSourceDF)"
   ]
  },
  {
   "cell_type": "code",
   "execution_count": 29,
   "metadata": {},
   "outputs": [
    {
     "data": {
      "text/html": [
       "<div>\n",
       "<style scoped>\n",
       "    .dataframe tbody tr th:only-of-type {\n",
       "        vertical-align: middle;\n",
       "    }\n",
       "\n",
       "    .dataframe tbody tr th {\n",
       "        vertical-align: top;\n",
       "    }\n",
       "\n",
       "    .dataframe thead th {\n",
       "        text-align: right;\n",
       "    }\n",
       "</style>\n",
       "<table border=\"1\" class=\"dataframe\">\n",
       "  <thead>\n",
       "    <tr style=\"text-align: right;\">\n",
       "      <th></th>\n",
       "      <th>variable</th>\n",
       "      <th>value</th>\n",
       "    </tr>\n",
       "  </thead>\n",
       "  <tbody>\n",
       "    <tr>\n",
       "      <th>0</th>\n",
       "      <td>Self-taught</td>\n",
       "      <td>NaN</td>\n",
       "    </tr>\n",
       "    <tr>\n",
       "      <th>1</th>\n",
       "      <td>Self-taught</td>\n",
       "      <td>NaN</td>\n",
       "    </tr>\n",
       "    <tr>\n",
       "      <th>2</th>\n",
       "      <td>Self-taught</td>\n",
       "      <td>0</td>\n",
       "    </tr>\n",
       "    <tr>\n",
       "      <th>3</th>\n",
       "      <td>Self-taught</td>\n",
       "      <td>40</td>\n",
       "    </tr>\n",
       "    <tr>\n",
       "      <th>4</th>\n",
       "      <td>Self-taught</td>\n",
       "      <td>20</td>\n",
       "    </tr>\n",
       "  </tbody>\n",
       "</table>\n",
       "</div>"
      ],
      "text/plain": [
       "      variable value\n",
       "0  Self-taught   NaN\n",
       "1  Self-taught   NaN\n",
       "2  Self-taught     0\n",
       "3  Self-taught    40\n",
       "4  Self-taught    20"
      ]
     },
     "execution_count": 29,
     "metadata": {},
     "output_type": "execute_result"
    }
   ],
   "source": [
    "trainingSourceDF.head()"
   ]
  },
  {
   "cell_type": "code",
   "execution_count": 30,
   "metadata": {},
   "outputs": [],
   "source": [
    "trainingSourceDF.rename(columns={\"variable\":\"Training-Mode\"},inplace=True)"
   ]
  },
  {
   "cell_type": "code",
   "execution_count": 31,
   "metadata": {},
   "outputs": [],
   "source": [
    "trainingSourceDF.sort_values(\"Training-Mode\",inplace=True)\n",
    "trainingSourceDF.reset_index(drop=True,inplace=True)"
   ]
  },
  {
   "cell_type": "code",
   "execution_count": 32,
   "metadata": {},
   "outputs": [],
   "source": [
    "trainingSourceDF.dropna(inplace=True)\n",
    "trainingSourceDF.reset_index(drop=True,inplace=True)"
   ]
  },
  {
   "cell_type": "code",
   "execution_count": 33,
   "metadata": {},
   "outputs": [],
   "source": [
    "trainingSourceDF['value']=trainingSourceDF.value.astype(float)"
   ]
  },
  {
   "cell_type": "markdown",
   "metadata": {},
   "source": [
    "__From the survey response, a typical data scientist has acquired more than half of their knowledge by self-study and online courses.__"
   ]
  },
  {
   "cell_type": "code",
   "execution_count": 34,
   "metadata": {},
   "outputs": [
    {
     "data": {
      "image/png": "[encoded data removed]",
      "text/plain": [
       "<matplotlib.figure.Figure at 0x1088bfc50>"
      ]
     },
     "metadata": {},
     "output_type": "display_data"
    }
   ],
   "source": [
    "generate_bar_plot(data=trainingSourceDF,\n",
    "                  x=\"Training-Mode\",\n",
    "                  y=\"value\",\n",
    "                  xlabel=\"Training Mode\",\n",
    "                  figName=\"Training Mode_Distribution.jpeg\",\n",
    "                  figSize=(18, 15))"
   ]
  },
  {
   "cell_type": "markdown",
   "metadata": {},
   "source": [
    "We will persist the clean copy of the dataframe as a CSV file. \n",
    "\n",
    "We no longer need \"trainingSourceDF\" in the analysis. We will clean up from memory."
   ]
  },
  {
   "cell_type": "code",
   "execution_count": 35,
   "metadata": {},
   "outputs": [],
   "source": [
    "trainingSourceDF.to_csv('trainingMode.csv',index=False)"
   ]
  },
  {
   "cell_type": "code",
   "execution_count": 36,
   "metadata": {},
   "outputs": [
    {
     "data": {
      "text/plain": [
       "2984"
      ]
     },
     "execution_count": 36,
     "metadata": {},
     "output_type": "execute_result"
    }
   ],
   "source": [
    "del trainingSourceDF\n",
    "gc.collect()"
   ]
  },
  {
   "cell_type": "markdown",
   "metadata": {},
   "source": [
    "### On which online platforms have you begun or completed data science courses?\n",
    "* __Udacity__\n",
    "* __Coursera__\n",
    "* __edX__\n",
    "* __DataCamp__\n",
    "* __DataQuest__\n",
    "* __Kaggle Learn__\n",
    "* __Fast.AI__\n",
    "* __developers.google.com__\n",
    "* __Udemy__\n",
    "* __TheSchool.AI__\n",
    "* __Online University Courses__\n",
    "* __None__"
   ]
  },
  {
   "cell_type": "code",
   "execution_count": 37,
   "metadata": {},
   "outputs": [],
   "source": [
    "onlineSourceDF = multipleChoiceDF[['Q36_Part_1','Q36_Part_2','Q36_Part_3','Q36_Part_4','Q36_Part_5','Q36_Part_6',\n",
    "                                   'Q36_Part_7','Q36_Part_8','Q36_Part_9','Q36_Part_10','Q36_Part_11','Q36_Part_12',\n",
    "                                   'Q36_Part_13']]"
   ]
  },
  {
   "cell_type": "code",
   "execution_count": 38,
   "metadata": {},
   "outputs": [
    {
     "data": {
      "text/html": [
       "<div>\n",
       "<style scoped>\n",
       "    .dataframe tbody tr th:only-of-type {\n",
       "        vertical-align: middle;\n",
       "    }\n",
       "\n",
       "    .dataframe tbody tr th {\n",
       "        vertical-align: top;\n",
       "    }\n",
       "\n",
       "    .dataframe thead th {\n",
       "        text-align: right;\n",
       "    }\n",
       "</style>\n",
       "<table border=\"1\" class=\"dataframe\">\n",
       "  <thead>\n",
       "    <tr style=\"text-align: right;\">\n",
       "      <th></th>\n",
       "      <th>Q36_Part_1</th>\n",
       "      <th>Q36_Part_2</th>\n",
       "      <th>Q36_Part_3</th>\n",
       "      <th>Q36_Part_4</th>\n",
       "      <th>Q36_Part_5</th>\n",
       "      <th>Q36_Part_6</th>\n",
       "      <th>Q36_Part_7</th>\n",
       "      <th>Q36_Part_8</th>\n",
       "      <th>Q36_Part_9</th>\n",
       "      <th>Q36_Part_10</th>\n",
       "      <th>Q36_Part_11</th>\n",
       "      <th>Q36_Part_12</th>\n",
       "      <th>Q36_Part_13</th>\n",
       "    </tr>\n",
       "  </thead>\n",
       "  <tbody>\n",
       "    <tr>\n",
       "      <th>0</th>\n",
       "      <td>On which online platforms have you begun or co...</td>\n",
       "      <td>On which online platforms have you begun or co...</td>\n",
       "      <td>On which online platforms have you begun or co...</td>\n",
       "      <td>On which online platforms have you begun or co...</td>\n",
       "      <td>On which online platforms have you begun or co...</td>\n",
       "      <td>On which online platforms have you begun or co...</td>\n",
       "      <td>On which online platforms have you begun or co...</td>\n",
       "      <td>On which online platforms have you begun or co...</td>\n",
       "      <td>On which online platforms have you begun or co...</td>\n",
       "      <td>On which online platforms have you begun or co...</td>\n",
       "      <td>On which online platforms have you begun or co...</td>\n",
       "      <td>On which online platforms have you begun or co...</td>\n",
       "      <td>On which online platforms have you begun or co...</td>\n",
       "    </tr>\n",
       "    <tr>\n",
       "      <th>1</th>\n",
       "      <td>NaN</td>\n",
       "      <td>NaN</td>\n",
       "      <td>NaN</td>\n",
       "      <td>NaN</td>\n",
       "      <td>NaN</td>\n",
       "      <td>NaN</td>\n",
       "      <td>NaN</td>\n",
       "      <td>NaN</td>\n",
       "      <td>NaN</td>\n",
       "      <td>NaN</td>\n",
       "      <td>NaN</td>\n",
       "      <td>NaN</td>\n",
       "      <td>NaN</td>\n",
       "    </tr>\n",
       "    <tr>\n",
       "      <th>2</th>\n",
       "      <td>NaN</td>\n",
       "      <td>NaN</td>\n",
       "      <td>NaN</td>\n",
       "      <td>NaN</td>\n",
       "      <td>NaN</td>\n",
       "      <td>NaN</td>\n",
       "      <td>NaN</td>\n",
       "      <td>NaN</td>\n",
       "      <td>NaN</td>\n",
       "      <td>NaN</td>\n",
       "      <td>NaN</td>\n",
       "      <td>NaN</td>\n",
       "      <td>NaN</td>\n",
       "    </tr>\n",
       "    <tr>\n",
       "      <th>3</th>\n",
       "      <td>NaN</td>\n",
       "      <td>NaN</td>\n",
       "      <td>NaN</td>\n",
       "      <td>DataCamp</td>\n",
       "      <td>NaN</td>\n",
       "      <td>NaN</td>\n",
       "      <td>NaN</td>\n",
       "      <td>NaN</td>\n",
       "      <td>Udemy</td>\n",
       "      <td>NaN</td>\n",
       "      <td>NaN</td>\n",
       "      <td>NaN</td>\n",
       "      <td>NaN</td>\n",
       "    </tr>\n",
       "    <tr>\n",
       "      <th>4</th>\n",
       "      <td>NaN</td>\n",
       "      <td>Coursera</td>\n",
       "      <td>edX</td>\n",
       "      <td>NaN</td>\n",
       "      <td>NaN</td>\n",
       "      <td>NaN</td>\n",
       "      <td>NaN</td>\n",
       "      <td>NaN</td>\n",
       "      <td>NaN</td>\n",
       "      <td>NaN</td>\n",
       "      <td>NaN</td>\n",
       "      <td>NaN</td>\n",
       "      <td>NaN</td>\n",
       "    </tr>\n",
       "  </tbody>\n",
       "</table>\n",
       "</div>"
      ],
      "text/plain": [
       "                                          Q36_Part_1  \\\n",
       "0  On which online platforms have you begun or co...   \n",
       "1                                                NaN   \n",
       "2                                                NaN   \n",
       "3                                                NaN   \n",
       "4                                                NaN   \n",
       "\n",
       "                                          Q36_Part_2  \\\n",
       "0  On which online platforms have you begun or co...   \n",
       "1                                                NaN   \n",
       "2                                                NaN   \n",
       "3                                                NaN   \n",
       "4                                           Coursera   \n",
       "\n",
       "                                          Q36_Part_3  \\\n",
       "0  On which online platforms have you begun or co...   \n",
       "1                                                NaN   \n",
       "2                                                NaN   \n",
       "3                                                NaN   \n",
       "4                                                edX   \n",
       "\n",
       "                                          Q36_Part_4  \\\n",
       "0  On which online platforms have you begun or co...   \n",
       "1                                                NaN   \n",
       "2                                                NaN   \n",
       "3                                           DataCamp   \n",
       "4                                                NaN   \n",
       "\n",
       "                                          Q36_Part_5  \\\n",
       "0  On which online platforms have you begun or co...   \n",
       "1                                                NaN   \n",
       "2                                                NaN   \n",
       "3                                                NaN   \n",
       "4                                                NaN   \n",
       "\n",
       "                                          Q36_Part_6  \\\n",
       "0  On which online platforms have you begun or co...   \n",
       "1                                                NaN   \n",
       "2                                                NaN   \n",
       "3                                                NaN   \n",
       "4                                                NaN   \n",
       "\n",
       "                                          Q36_Part_7  \\\n",
       "0  On which online platforms have you begun or co...   \n",
       "1                                                NaN   \n",
       "2                                                NaN   \n",
       "3                                                NaN   \n",
       "4                                                NaN   \n",
       "\n",
       "                                          Q36_Part_8  \\\n",
       "0  On which online platforms have you begun or co...   \n",
       "1                                                NaN   \n",
       "2                                                NaN   \n",
       "3                                                NaN   \n",
       "4                                                NaN   \n",
       "\n",
       "                                          Q36_Part_9  \\\n",
       "0  On which online platforms have you begun or co...   \n",
       "1                                                NaN   \n",
       "2                                                NaN   \n",
       "3                                              Udemy   \n",
       "4                                                NaN   \n",
       "\n",
       "                                         Q36_Part_10  \\\n",
       "0  On which online platforms have you begun or co...   \n",
       "1                                                NaN   \n",
       "2                                                NaN   \n",
       "3                                                NaN   \n",
       "4                                                NaN   \n",
       "\n",
       "                                         Q36_Part_11  \\\n",
       "0  On which online platforms have you begun or co...   \n",
       "1                                                NaN   \n",
       "2                                                NaN   \n",
       "3                                                NaN   \n",
       "4                                                NaN   \n",
       "\n",
       "                                         Q36_Part_12  \\\n",
       "0  On which online platforms have you begun or co...   \n",
       "1                                                NaN   \n",
       "2                                                NaN   \n",
       "3                                                NaN   \n",
       "4                                                NaN   \n",
       "\n",
       "                                         Q36_Part_13  \n",
       "0  On which online platforms have you begun or co...  \n",
       "1                                                NaN  \n",
       "2                                                NaN  \n",
       "3                                                NaN  \n",
       "4                                                NaN  "
      ]
     },
     "execution_count": 38,
     "metadata": {},
     "output_type": "execute_result"
    }
   ],
   "source": [
    "onlineSourceDF.head()"
   ]
  },
  {
   "cell_type": "code",
   "execution_count": 39,
   "metadata": {},
   "outputs": [
    {
     "name": "stdout",
     "output_type": "stream",
     "text": [
      "<class 'pandas.core.frame.DataFrame'>\n",
      "RangeIndex: 23860 entries, 0 to 23859\n",
      "Data columns (total 13 columns):\n",
      "Q36_Part_1     3677 non-null object\n",
      "Q36_Part_2     9027 non-null object\n",
      "Q36_Part_3     3664 non-null object\n",
      "Q36_Part_4     4246 non-null object\n",
      "Q36_Part_5     709 non-null object\n",
      "Q36_Part_6     4003 non-null object\n",
      "Q36_Part_7     1571 non-null object\n",
      "Q36_Part_8     1041 non-null object\n",
      "Q36_Part_9     4331 non-null object\n",
      "Q36_Part_10    280 non-null object\n",
      "Q36_Part_11    1953 non-null object\n",
      "Q36_Part_12    1977 non-null object\n",
      "Q36_Part_13    1245 non-null object\n",
      "dtypes: object(13)\n",
      "memory usage: 2.4+ MB\n"
     ]
    }
   ],
   "source": [
    "onlineSourceDF.info()"
   ]
  },
  {
   "cell_type": "markdown",
   "metadata": {},
   "source": [
    "From the visual and programmatic analysis:\n",
    "* There are rows with missing data, but deviating from data we explored till now, missing information is expected per record as selections are optional. We will melt into one single column removing missing values, and use this column for analysis.\n",
    "* All columns are loaded with the correct data type.\n",
    "* Row with ID 0, is the same as the question. We will drop this row from the analysis as it does not have any empirical value.\n",
    "* Column names are not informative, we will rename columns with more informative names."
   ]
  },
  {
   "cell_type": "code",
   "execution_count": 40,
   "metadata": {},
   "outputs": [],
   "source": [
    "onlineSourceDF.drop([0],inplace=True)\n",
    "onlineSourceDF.reset_index(drop=True,inplace=True)"
   ]
  },
  {
   "cell_type": "code",
   "execution_count": 41,
   "metadata": {},
   "outputs": [
    {
     "data": {
      "text/html": [
       "<div>\n",
       "<style scoped>\n",
       "    .dataframe tbody tr th:only-of-type {\n",
       "        vertical-align: middle;\n",
       "    }\n",
       "\n",
       "    .dataframe tbody tr th {\n",
       "        vertical-align: top;\n",
       "    }\n",
       "\n",
       "    .dataframe thead th {\n",
       "        text-align: right;\n",
       "    }\n",
       "</style>\n",
       "<table border=\"1\" class=\"dataframe\">\n",
       "  <thead>\n",
       "    <tr style=\"text-align: right;\">\n",
       "      <th></th>\n",
       "      <th>Q36_Part_1</th>\n",
       "      <th>Q36_Part_2</th>\n",
       "      <th>Q36_Part_3</th>\n",
       "      <th>Q36_Part_4</th>\n",
       "      <th>Q36_Part_5</th>\n",
       "      <th>Q36_Part_6</th>\n",
       "      <th>Q36_Part_7</th>\n",
       "      <th>Q36_Part_8</th>\n",
       "      <th>Q36_Part_9</th>\n",
       "      <th>Q36_Part_10</th>\n",
       "      <th>Q36_Part_11</th>\n",
       "      <th>Q36_Part_12</th>\n",
       "      <th>Q36_Part_13</th>\n",
       "    </tr>\n",
       "  </thead>\n",
       "  <tbody>\n",
       "    <tr>\n",
       "      <th>0</th>\n",
       "      <td>NaN</td>\n",
       "      <td>NaN</td>\n",
       "      <td>NaN</td>\n",
       "      <td>NaN</td>\n",
       "      <td>NaN</td>\n",
       "      <td>NaN</td>\n",
       "      <td>NaN</td>\n",
       "      <td>NaN</td>\n",
       "      <td>NaN</td>\n",
       "      <td>NaN</td>\n",
       "      <td>NaN</td>\n",
       "      <td>NaN</td>\n",
       "      <td>NaN</td>\n",
       "    </tr>\n",
       "    <tr>\n",
       "      <th>1</th>\n",
       "      <td>NaN</td>\n",
       "      <td>NaN</td>\n",
       "      <td>NaN</td>\n",
       "      <td>NaN</td>\n",
       "      <td>NaN</td>\n",
       "      <td>NaN</td>\n",
       "      <td>NaN</td>\n",
       "      <td>NaN</td>\n",
       "      <td>NaN</td>\n",
       "      <td>NaN</td>\n",
       "      <td>NaN</td>\n",
       "      <td>NaN</td>\n",
       "      <td>NaN</td>\n",
       "    </tr>\n",
       "    <tr>\n",
       "      <th>2</th>\n",
       "      <td>NaN</td>\n",
       "      <td>NaN</td>\n",
       "      <td>NaN</td>\n",
       "      <td>DataCamp</td>\n",
       "      <td>NaN</td>\n",
       "      <td>NaN</td>\n",
       "      <td>NaN</td>\n",
       "      <td>NaN</td>\n",
       "      <td>Udemy</td>\n",
       "      <td>NaN</td>\n",
       "      <td>NaN</td>\n",
       "      <td>NaN</td>\n",
       "      <td>NaN</td>\n",
       "    </tr>\n",
       "    <tr>\n",
       "      <th>3</th>\n",
       "      <td>NaN</td>\n",
       "      <td>Coursera</td>\n",
       "      <td>edX</td>\n",
       "      <td>NaN</td>\n",
       "      <td>NaN</td>\n",
       "      <td>NaN</td>\n",
       "      <td>NaN</td>\n",
       "      <td>NaN</td>\n",
       "      <td>NaN</td>\n",
       "      <td>NaN</td>\n",
       "      <td>NaN</td>\n",
       "      <td>NaN</td>\n",
       "      <td>NaN</td>\n",
       "    </tr>\n",
       "    <tr>\n",
       "      <th>4</th>\n",
       "      <td>Udacity</td>\n",
       "      <td>Coursera</td>\n",
       "      <td>edX</td>\n",
       "      <td>DataCamp</td>\n",
       "      <td>NaN</td>\n",
       "      <td>NaN</td>\n",
       "      <td>NaN</td>\n",
       "      <td>NaN</td>\n",
       "      <td>NaN</td>\n",
       "      <td>NaN</td>\n",
       "      <td>NaN</td>\n",
       "      <td>NaN</td>\n",
       "      <td>NaN</td>\n",
       "    </tr>\n",
       "  </tbody>\n",
       "</table>\n",
       "</div>"
      ],
      "text/plain": [
       "  Q36_Part_1 Q36_Part_2 Q36_Part_3 Q36_Part_4 Q36_Part_5 Q36_Part_6  \\\n",
       "0        NaN        NaN        NaN        NaN        NaN        NaN   \n",
       "1        NaN        NaN        NaN        NaN        NaN        NaN   \n",
       "2        NaN        NaN        NaN   DataCamp        NaN        NaN   \n",
       "3        NaN   Coursera        edX        NaN        NaN        NaN   \n",
       "4    Udacity   Coursera        edX   DataCamp        NaN        NaN   \n",
       "\n",
       "  Q36_Part_7 Q36_Part_8 Q36_Part_9 Q36_Part_10 Q36_Part_11 Q36_Part_12  \\\n",
       "0        NaN        NaN        NaN         NaN         NaN         NaN   \n",
       "1        NaN        NaN        NaN         NaN         NaN         NaN   \n",
       "2        NaN        NaN      Udemy         NaN         NaN         NaN   \n",
       "3        NaN        NaN        NaN         NaN         NaN         NaN   \n",
       "4        NaN        NaN        NaN         NaN         NaN         NaN   \n",
       "\n",
       "  Q36_Part_13  \n",
       "0         NaN  \n",
       "1         NaN  \n",
       "2         NaN  \n",
       "3         NaN  \n",
       "4         NaN  "
      ]
     },
     "execution_count": 41,
     "metadata": {},
     "output_type": "execute_result"
    }
   ],
   "source": [
    "onlineSourceDF.head()"
   ]
  },
  {
   "cell_type": "code",
   "execution_count": 42,
   "metadata": {},
   "outputs": [],
   "source": [
    "onlineSourceDF = onlineSourceDF.melt()"
   ]
  },
  {
   "cell_type": "code",
   "execution_count": 43,
   "metadata": {},
   "outputs": [
    {
     "data": {
      "text/html": [
       "<div>\n",
       "<style scoped>\n",
       "    .dataframe tbody tr th:only-of-type {\n",
       "        vertical-align: middle;\n",
       "    }\n",
       "\n",
       "    .dataframe tbody tr th {\n",
       "        vertical-align: top;\n",
       "    }\n",
       "\n",
       "    .dataframe thead th {\n",
       "        text-align: right;\n",
       "    }\n",
       "</style>\n",
       "<table border=\"1\" class=\"dataframe\">\n",
       "  <thead>\n",
       "    <tr style=\"text-align: right;\">\n",
       "      <th></th>\n",
       "      <th>variable</th>\n",
       "      <th>value</th>\n",
       "    </tr>\n",
       "  </thead>\n",
       "  <tbody>\n",
       "    <tr>\n",
       "      <th>0</th>\n",
       "      <td>Q36_Part_1</td>\n",
       "      <td>NaN</td>\n",
       "    </tr>\n",
       "    <tr>\n",
       "      <th>1</th>\n",
       "      <td>Q36_Part_1</td>\n",
       "      <td>NaN</td>\n",
       "    </tr>\n",
       "    <tr>\n",
       "      <th>2</th>\n",
       "      <td>Q36_Part_1</td>\n",
       "      <td>NaN</td>\n",
       "    </tr>\n",
       "    <tr>\n",
       "      <th>3</th>\n",
       "      <td>Q36_Part_1</td>\n",
       "      <td>NaN</td>\n",
       "    </tr>\n",
       "    <tr>\n",
       "      <th>4</th>\n",
       "      <td>Q36_Part_1</td>\n",
       "      <td>Udacity</td>\n",
       "    </tr>\n",
       "  </tbody>\n",
       "</table>\n",
       "</div>"
      ],
      "text/plain": [
       "     variable    value\n",
       "0  Q36_Part_1      NaN\n",
       "1  Q36_Part_1      NaN\n",
       "2  Q36_Part_1      NaN\n",
       "3  Q36_Part_1      NaN\n",
       "4  Q36_Part_1  Udacity"
      ]
     },
     "execution_count": 43,
     "metadata": {},
     "output_type": "execute_result"
    }
   ],
   "source": [
    "onlineSourceDF.head()"
   ]
  },
  {
   "cell_type": "code",
   "execution_count": 44,
   "metadata": {},
   "outputs": [],
   "source": [
    "onlineSourceDF.drop(columns=['variable'],inplace=True)"
   ]
  },
  {
   "cell_type": "code",
   "execution_count": 45,
   "metadata": {},
   "outputs": [],
   "source": [
    "onlineSourceDF.dropna(inplace=True)"
   ]
  },
  {
   "cell_type": "code",
   "execution_count": 46,
   "metadata": {},
   "outputs": [],
   "source": [
    "onlineSourceDF.rename(columns={'value':'Online_Source'},inplace=True)"
   ]
  },
  {
   "cell_type": "markdown",
   "metadata": {},
   "source": [
    "__Coursera stands out as the most enrolled online resources followed by Udemy. Most of the online resources, have a diverse catalog of courses available and have flexible enrollment start dates. Some even offer peer reviews, quizzes, and mentorship to mimic traditional education.__"
   ]
  },
  {
   "cell_type": "code",
   "execution_count": 47,
   "metadata": {},
   "outputs": [
    {
     "data": {
      "image/png": "[encoded data removed]",
      "text/plain": [
       "<matplotlib.figure.Figure at 0x10edfb7b8>"
      ]
     },
     "metadata": {},
     "output_type": "display_data"
    }
   ],
   "source": [
    "generate_vertical_countplot(x=onlineSourceDF.Online_Source,\n",
    "                            xlabel=\"Online Source\",\n",
    "                            figName='Online Source Distribution.jpeg',\n",
    "                            figSize=(25,15))"
   ]
  },
  {
   "cell_type": "markdown",
   "metadata": {},
   "source": [
    "We will persist the clean copy of the dataframe as a CSV file. \n",
    "\n",
    "We no longer need \"onlineSourceDF\" in the analysis. We will clean up from memory."
   ]
  },
  {
   "cell_type": "code",
   "execution_count": 48,
   "metadata": {},
   "outputs": [],
   "source": [
    "onlineSourceDF.to_csv(\"online_source.csv\",index=False)"
   ]
  },
  {
   "cell_type": "code",
   "execution_count": 49,
   "metadata": {},
   "outputs": [
    {
     "data": {
      "text/plain": [
       "3219"
      ]
     },
     "execution_count": 49,
     "metadata": {},
     "output_type": "execute_result"
    }
   ],
   "source": [
    "del onlineSourceDF\n",
    "gc.collect()"
   ]
  },
  {
   "cell_type": "markdown",
   "metadata": {},
   "source": [
    "### Which online platform have you spent the most amount of time?"
   ]
  },
  {
   "cell_type": "code",
   "execution_count": 50,
   "metadata": {},
   "outputs": [],
   "source": [
    "onlineSourceDF = pd.DataFrame(multipleChoiceDF['Q37'])"
   ]
  },
  {
   "cell_type": "code",
   "execution_count": 51,
   "metadata": {},
   "outputs": [
    {
     "data": {
      "text/html": [
       "<div>\n",
       "<style scoped>\n",
       "    .dataframe tbody tr th:only-of-type {\n",
       "        vertical-align: middle;\n",
       "    }\n",
       "\n",
       "    .dataframe tbody tr th {\n",
       "        vertical-align: top;\n",
       "    }\n",
       "\n",
       "    .dataframe thead th {\n",
       "        text-align: right;\n",
       "    }\n",
       "</style>\n",
       "<table border=\"1\" class=\"dataframe\">\n",
       "  <thead>\n",
       "    <tr style=\"text-align: right;\">\n",
       "      <th></th>\n",
       "      <th>Q37</th>\n",
       "    </tr>\n",
       "  </thead>\n",
       "  <tbody>\n",
       "    <tr>\n",
       "      <th>0</th>\n",
       "      <td>On which online platform have you spent the mo...</td>\n",
       "    </tr>\n",
       "    <tr>\n",
       "      <th>1</th>\n",
       "      <td>NaN</td>\n",
       "    </tr>\n",
       "    <tr>\n",
       "      <th>2</th>\n",
       "      <td>NaN</td>\n",
       "    </tr>\n",
       "    <tr>\n",
       "      <th>3</th>\n",
       "      <td>DataCamp</td>\n",
       "    </tr>\n",
       "    <tr>\n",
       "      <th>4</th>\n",
       "      <td>Coursera</td>\n",
       "    </tr>\n",
       "  </tbody>\n",
       "</table>\n",
       "</div>"
      ],
      "text/plain": [
       "                                                 Q37\n",
       "0  On which online platform have you spent the mo...\n",
       "1                                                NaN\n",
       "2                                                NaN\n",
       "3                                           DataCamp\n",
       "4                                           Coursera"
      ]
     },
     "execution_count": 51,
     "metadata": {},
     "output_type": "execute_result"
    }
   ],
   "source": [
    "onlineSourceDF.head()"
   ]
  },
  {
   "cell_type": "code",
   "execution_count": 52,
   "metadata": {},
   "outputs": [
    {
     "name": "stdout",
     "output_type": "stream",
     "text": [
      "<class 'pandas.core.frame.DataFrame'>\n",
      "RangeIndex: 23860 entries, 0 to 23859\n",
      "Data columns (total 1 columns):\n",
      "Q37    9671 non-null object\n",
      "dtypes: object(1)\n",
      "memory usage: 186.5+ KB\n"
     ]
    }
   ],
   "source": [
    "onlineSourceDF.info()"
   ]
  },
  {
   "cell_type": "markdown",
   "metadata": {},
   "source": [
    "From the visual and programmatic analysis:\n",
    "* There are rows with missing data, we will not include these records in our report.\n",
    "* All columns are loaded with the correct data type.\n",
    "* Row with ID 0, is the same as the question. We will drop this row from the analysis as it does not have any empirical value.\n",
    "* Column names are not informative, we will rename columns with more informative names."
   ]
  },
  {
   "cell_type": "code",
   "execution_count": 53,
   "metadata": {},
   "outputs": [],
   "source": [
    "onlineSourceDF.drop([0],inplace=True)\n",
    "onlineSourceDF.reset_index(drop=True,inplace=True)"
   ]
  },
  {
   "cell_type": "code",
   "execution_count": 54,
   "metadata": {},
   "outputs": [
    {
     "data": {
      "text/html": [
       "<div>\n",
       "<style scoped>\n",
       "    .dataframe tbody tr th:only-of-type {\n",
       "        vertical-align: middle;\n",
       "    }\n",
       "\n",
       "    .dataframe tbody tr th {\n",
       "        vertical-align: top;\n",
       "    }\n",
       "\n",
       "    .dataframe thead th {\n",
       "        text-align: right;\n",
       "    }\n",
       "</style>\n",
       "<table border=\"1\" class=\"dataframe\">\n",
       "  <thead>\n",
       "    <tr style=\"text-align: right;\">\n",
       "      <th></th>\n",
       "      <th>Q37</th>\n",
       "    </tr>\n",
       "  </thead>\n",
       "  <tbody>\n",
       "    <tr>\n",
       "      <th>0</th>\n",
       "      <td>NaN</td>\n",
       "    </tr>\n",
       "    <tr>\n",
       "      <th>1</th>\n",
       "      <td>NaN</td>\n",
       "    </tr>\n",
       "    <tr>\n",
       "      <th>2</th>\n",
       "      <td>DataCamp</td>\n",
       "    </tr>\n",
       "    <tr>\n",
       "      <th>3</th>\n",
       "      <td>Coursera</td>\n",
       "    </tr>\n",
       "    <tr>\n",
       "      <th>4</th>\n",
       "      <td>Coursera</td>\n",
       "    </tr>\n",
       "  </tbody>\n",
       "</table>\n",
       "</div>"
      ],
      "text/plain": [
       "        Q37\n",
       "0       NaN\n",
       "1       NaN\n",
       "2  DataCamp\n",
       "3  Coursera\n",
       "4  Coursera"
      ]
     },
     "execution_count": 54,
     "metadata": {},
     "output_type": "execute_result"
    }
   ],
   "source": [
    "onlineSourceDF.head()"
   ]
  },
  {
   "cell_type": "code",
   "execution_count": 55,
   "metadata": {},
   "outputs": [],
   "source": [
    "onlineSourceDF.dropna(inplace=True)\n",
    "onlineSourceDF.reset_index(drop=True,inplace=True)"
   ]
  },
  {
   "cell_type": "code",
   "execution_count": 56,
   "metadata": {},
   "outputs": [],
   "source": [
    "onlineSourceDF.rename(columns={'Q37':'Online_Favorite'},inplace=True)"
   ]
  },
  {
   "cell_type": "markdown",
   "metadata": {},
   "source": [
    "__Coursera stands out as the most enrolled online resources followed by Udemy. Most of the online resources, have a diverse catalog of courses available and have flexible enrollment start dates. Some even offer peer reviews, quizzes, and mentorship to mimic traditional education.__"
   ]
  },
  {
   "cell_type": "code",
   "execution_count": 57,
   "metadata": {},
   "outputs": [
    {
     "data": {
      "image/png": "[encoded data removed]",
      "text/plain": [
       "<matplotlib.figure.Figure at 0x10ee0ba58>"
      ]
     },
     "metadata": {},
     "output_type": "display_data"
    }
   ],
   "source": [
    "generate_vertical_countplot(x=onlineSourceDF.Online_Favorite,\n",
    "                            xlabel=\"Online Favorite\",\n",
    "                            figName='Online Favorite Distribution.jpeg',\n",
    "                            figSize=(25,15))"
   ]
  },
  {
   "cell_type": "markdown",
   "metadata": {},
   "source": [
    "We will persist the clean copy of the dataframe as a CSV file. \n",
    "\n",
    "We no longer need \"onlineSourceDF\" in the analysis. We will clean up from memory."
   ]
  },
  {
   "cell_type": "code",
   "execution_count": 58,
   "metadata": {},
   "outputs": [],
   "source": [
    "onlineSourceDF.to_csv(\"online_favorite.csv\",index=False)"
   ]
  },
  {
   "cell_type": "code",
   "execution_count": 59,
   "metadata": {},
   "outputs": [
    {
     "data": {
      "text/plain": [
       "3287"
      ]
     },
     "execution_count": 59,
     "metadata": {},
     "output_type": "execute_result"
    }
   ],
   "source": [
    "del onlineSourceDF\n",
    "gc.collect()"
   ]
  },
  {
   "cell_type": "markdown",
   "metadata": {},
   "source": [
    "### Who/what are your favorite media sources that report on data science topics?\n",
    "* __Twitter__\n",
    "* __Hacker News__\n",
    "* __r/machinelearning__\n",
    "* __Kaggle forums__\n",
    "* __Fastai forums__\n",
    "* __Siraj Raval YouTube Channel__\n",
    "* __DataTau News Aggregator__\n",
    "* __Linear Digressions Podcast__\n",
    "* __Cloud AI Adventures (YouTube)__\n",
    "* __FiveThirtyEight.com__\n",
    "* __ArXiv & Preprints__\n",
    "* __Journal Publications__\n",
    "* __FastML Blog__\n",
    "* __KDnuggets Blog__\n",
    "* __O'Reilly Data Newsletter__\n",
    "* __Partially Derivative Podcast__\n",
    "* __The Data Skeptic Podcast__\n",
    "* __Medium Blog Posts__\n",
    "* __Towards Data Science Blog__\n",
    "* __Analytics Vidhya Blog__\n",
    "* __None/I do not know__\n",
    "* __Other__"
   ]
  },
  {
   "cell_type": "code",
   "execution_count": 60,
   "metadata": {},
   "outputs": [],
   "source": [
    "mediaSourcesDF = multipleChoiceDF[['Q38_Part_1','Q38_Part_2','Q38_Part_3','Q38_Part_4','Q38_Part_5','Q38_Part_6',\n",
    "                                  'Q38_Part_7','Q38_Part_8','Q38_Part_9','Q38_Part_10','Q38_Part_11','Q38_Part_12',\n",
    "                                  'Q38_Part_13','Q38_Part_14','Q38_Part_15','Q38_Part_16','Q38_Part_17','Q38_Part_18',\n",
    "                                  'Q38_Part_19','Q38_Part_20','Q38_Part_21','Q38_Part_22']]"
   ]
  },
  {
   "cell_type": "code",
   "execution_count": 61,
   "metadata": {},
   "outputs": [
    {
     "data": {
      "text/html": [
       "<div>\n",
       "<style scoped>\n",
       "    .dataframe tbody tr th:only-of-type {\n",
       "        vertical-align: middle;\n",
       "    }\n",
       "\n",
       "    .dataframe tbody tr th {\n",
       "        vertical-align: top;\n",
       "    }\n",
       "\n",
       "    .dataframe thead th {\n",
       "        text-align: right;\n",
       "    }\n",
       "</style>\n",
       "<table border=\"1\" class=\"dataframe\">\n",
       "  <thead>\n",
       "    <tr style=\"text-align: right;\">\n",
       "      <th></th>\n",
       "      <th>Q38_Part_1</th>\n",
       "      <th>Q38_Part_2</th>\n",
       "      <th>Q38_Part_3</th>\n",
       "      <th>Q38_Part_4</th>\n",
       "      <th>Q38_Part_5</th>\n",
       "      <th>Q38_Part_6</th>\n",
       "      <th>Q38_Part_7</th>\n",
       "      <th>Q38_Part_8</th>\n",
       "      <th>Q38_Part_9</th>\n",
       "      <th>Q38_Part_10</th>\n",
       "      <th>...</th>\n",
       "      <th>Q38_Part_13</th>\n",
       "      <th>Q38_Part_14</th>\n",
       "      <th>Q38_Part_15</th>\n",
       "      <th>Q38_Part_16</th>\n",
       "      <th>Q38_Part_17</th>\n",
       "      <th>Q38_Part_18</th>\n",
       "      <th>Q38_Part_19</th>\n",
       "      <th>Q38_Part_20</th>\n",
       "      <th>Q38_Part_21</th>\n",
       "      <th>Q38_Part_22</th>\n",
       "    </tr>\n",
       "  </thead>\n",
       "  <tbody>\n",
       "    <tr>\n",
       "      <th>0</th>\n",
       "      <td>Who/what are your favorite media sources that ...</td>\n",
       "      <td>Who/what are your favorite media sources that ...</td>\n",
       "      <td>Who/what are your favorite media sources that ...</td>\n",
       "      <td>Who/what are your favorite media sources that ...</td>\n",
       "      <td>Who/what are your favorite media sources that ...</td>\n",
       "      <td>Who/what are your favorite media sources that ...</td>\n",
       "      <td>Who/what are your favorite media sources that ...</td>\n",
       "      <td>Who/what are your favorite media sources that ...</td>\n",
       "      <td>Who/what are your favorite media sources that ...</td>\n",
       "      <td>Who/what are your favorite media sources that ...</td>\n",
       "      <td>...</td>\n",
       "      <td>Who/what are your favorite media sources that ...</td>\n",
       "      <td>Who/what are your favorite media sources that ...</td>\n",
       "      <td>Who/what are your favorite media sources that ...</td>\n",
       "      <td>Who/what are your favorite media sources that ...</td>\n",
       "      <td>Who/what are your favorite media sources that ...</td>\n",
       "      <td>Who/what are your favorite media sources that ...</td>\n",
       "      <td>Who/what are your favorite media sources that ...</td>\n",
       "      <td>Who/what are your favorite media sources that ...</td>\n",
       "      <td>Who/what are your favorite media sources that ...</td>\n",
       "      <td>Who/what are your favorite media sources that ...</td>\n",
       "    </tr>\n",
       "    <tr>\n",
       "      <th>1</th>\n",
       "      <td>Twitter</td>\n",
       "      <td>NaN</td>\n",
       "      <td>NaN</td>\n",
       "      <td>NaN</td>\n",
       "      <td>NaN</td>\n",
       "      <td>NaN</td>\n",
       "      <td>NaN</td>\n",
       "      <td>NaN</td>\n",
       "      <td>NaN</td>\n",
       "      <td>NaN</td>\n",
       "      <td>...</td>\n",
       "      <td>NaN</td>\n",
       "      <td>NaN</td>\n",
       "      <td>NaN</td>\n",
       "      <td>NaN</td>\n",
       "      <td>NaN</td>\n",
       "      <td>NaN</td>\n",
       "      <td>NaN</td>\n",
       "      <td>NaN</td>\n",
       "      <td>NaN</td>\n",
       "      <td>NaN</td>\n",
       "    </tr>\n",
       "    <tr>\n",
       "      <th>2</th>\n",
       "      <td>NaN</td>\n",
       "      <td>NaN</td>\n",
       "      <td>NaN</td>\n",
       "      <td>NaN</td>\n",
       "      <td>NaN</td>\n",
       "      <td>NaN</td>\n",
       "      <td>NaN</td>\n",
       "      <td>NaN</td>\n",
       "      <td>NaN</td>\n",
       "      <td>NaN</td>\n",
       "      <td>...</td>\n",
       "      <td>NaN</td>\n",
       "      <td>NaN</td>\n",
       "      <td>NaN</td>\n",
       "      <td>NaN</td>\n",
       "      <td>NaN</td>\n",
       "      <td>NaN</td>\n",
       "      <td>NaN</td>\n",
       "      <td>NaN</td>\n",
       "      <td>None/I do not know</td>\n",
       "      <td>NaN</td>\n",
       "    </tr>\n",
       "    <tr>\n",
       "      <th>3</th>\n",
       "      <td>Twitter</td>\n",
       "      <td>NaN</td>\n",
       "      <td>NaN</td>\n",
       "      <td>NaN</td>\n",
       "      <td>NaN</td>\n",
       "      <td>NaN</td>\n",
       "      <td>NaN</td>\n",
       "      <td>NaN</td>\n",
       "      <td>NaN</td>\n",
       "      <td>NaN</td>\n",
       "      <td>...</td>\n",
       "      <td>NaN</td>\n",
       "      <td>NaN</td>\n",
       "      <td>NaN</td>\n",
       "      <td>NaN</td>\n",
       "      <td>NaN</td>\n",
       "      <td>NaN</td>\n",
       "      <td>NaN</td>\n",
       "      <td>NaN</td>\n",
       "      <td>NaN</td>\n",
       "      <td>NaN</td>\n",
       "    </tr>\n",
       "    <tr>\n",
       "      <th>4</th>\n",
       "      <td>NaN</td>\n",
       "      <td>NaN</td>\n",
       "      <td>NaN</td>\n",
       "      <td>NaN</td>\n",
       "      <td>NaN</td>\n",
       "      <td>NaN</td>\n",
       "      <td>NaN</td>\n",
       "      <td>NaN</td>\n",
       "      <td>NaN</td>\n",
       "      <td>NaN</td>\n",
       "      <td>...</td>\n",
       "      <td>NaN</td>\n",
       "      <td>NaN</td>\n",
       "      <td>NaN</td>\n",
       "      <td>NaN</td>\n",
       "      <td>NaN</td>\n",
       "      <td>NaN</td>\n",
       "      <td>NaN</td>\n",
       "      <td>NaN</td>\n",
       "      <td>None/I do not know</td>\n",
       "      <td>NaN</td>\n",
       "    </tr>\n",
       "  </tbody>\n",
       "</table>\n",
       "<p>5 rows × 22 columns</p>\n",
       "</div>"
      ],
      "text/plain": [
       "                                          Q38_Part_1  \\\n",
       "0  Who/what are your favorite media sources that ...   \n",
       "1                                            Twitter   \n",
       "2                                                NaN   \n",
       "3                                            Twitter   \n",
       "4                                                NaN   \n",
       "\n",
       "                                          Q38_Part_2  \\\n",
       "0  Who/what are your favorite media sources that ...   \n",
       "1                                                NaN   \n",
       "2                                                NaN   \n",
       "3                                                NaN   \n",
       "4                                                NaN   \n",
       "\n",
       "                                          Q38_Part_3  \\\n",
       "0  Who/what are your favorite media sources that ...   \n",
       "1                                                NaN   \n",
       "2                                                NaN   \n",
       "3                                                NaN   \n",
       "4                                                NaN   \n",
       "\n",
       "                                          Q38_Part_4  \\\n",
       "0  Who/what are your favorite media sources that ...   \n",
       "1                                                NaN   \n",
       "2                                                NaN   \n",
       "3                                                NaN   \n",
       "4                                                NaN   \n",
       "\n",
       "                                          Q38_Part_5  \\\n",
       "0  Who/what are your favorite media sources that ...   \n",
       "1                                                NaN   \n",
       "2                                                NaN   \n",
       "3                                                NaN   \n",
       "4                                                NaN   \n",
       "\n",
       "                                          Q38_Part_6  \\\n",
       "0  Who/what are your favorite media sources that ...   \n",
       "1                                                NaN   \n",
       "2                                                NaN   \n",
       "3                                                NaN   \n",
       "4                                                NaN   \n",
       "\n",
       "                                          Q38_Part_7  \\\n",
       "0  Who/what are your favorite media sources that ...   \n",
       "1                                                NaN   \n",
       "2                                                NaN   \n",
       "3                                                NaN   \n",
       "4                                                NaN   \n",
       "\n",
       "                                          Q38_Part_8  \\\n",
       "0  Who/what are your favorite media sources that ...   \n",
       "1                                                NaN   \n",
       "2                                                NaN   \n",
       "3                                                NaN   \n",
       "4                                                NaN   \n",
       "\n",
       "                                          Q38_Part_9  \\\n",
       "0  Who/what are your favorite media sources that ...   \n",
       "1                                                NaN   \n",
       "2                                                NaN   \n",
       "3                                                NaN   \n",
       "4                                                NaN   \n",
       "\n",
       "                                         Q38_Part_10  \\\n",
       "0  Who/what are your favorite media sources that ...   \n",
       "1                                                NaN   \n",
       "2                                                NaN   \n",
       "3                                                NaN   \n",
       "4                                                NaN   \n",
       "\n",
       "                         ...                          \\\n",
       "0                        ...                           \n",
       "1                        ...                           \n",
       "2                        ...                           \n",
       "3                        ...                           \n",
       "4                        ...                           \n",
       "\n",
       "                                         Q38_Part_13  \\\n",
       "0  Who/what are your favorite media sources that ...   \n",
       "1                                                NaN   \n",
       "2                                                NaN   \n",
       "3                                                NaN   \n",
       "4                                                NaN   \n",
       "\n",
       "                                         Q38_Part_14  \\\n",
       "0  Who/what are your favorite media sources that ...   \n",
       "1                                                NaN   \n",
       "2                                                NaN   \n",
       "3                                                NaN   \n",
       "4                                                NaN   \n",
       "\n",
       "                                         Q38_Part_15  \\\n",
       "0  Who/what are your favorite media sources that ...   \n",
       "1                                                NaN   \n",
       "2                                                NaN   \n",
       "3                                                NaN   \n",
       "4                                                NaN   \n",
       "\n",
       "                                         Q38_Part_16  \\\n",
       "0  Who/what are your favorite media sources that ...   \n",
       "1                                                NaN   \n",
       "2                                                NaN   \n",
       "3                                                NaN   \n",
       "4                                                NaN   \n",
       "\n",
       "                                         Q38_Part_17  \\\n",
       "0  Who/what are your favorite media sources that ...   \n",
       "1                                                NaN   \n",
       "2                                                NaN   \n",
       "3                                                NaN   \n",
       "4                                                NaN   \n",
       "\n",
       "                                         Q38_Part_18  \\\n",
       "0  Who/what are your favorite media sources that ...   \n",
       "1                                                NaN   \n",
       "2                                                NaN   \n",
       "3                                                NaN   \n",
       "4                                                NaN   \n",
       "\n",
       "                                         Q38_Part_19  \\\n",
       "0  Who/what are your favorite media sources that ...   \n",
       "1                                                NaN   \n",
       "2                                                NaN   \n",
       "3                                                NaN   \n",
       "4                                                NaN   \n",
       "\n",
       "                                         Q38_Part_20  \\\n",
       "0  Who/what are your favorite media sources that ...   \n",
       "1                                                NaN   \n",
       "2                                                NaN   \n",
       "3                                                NaN   \n",
       "4                                                NaN   \n",
       "\n",
       "                                         Q38_Part_21  \\\n",
       "0  Who/what are your favorite media sources that ...   \n",
       "1                                                NaN   \n",
       "2                                 None/I do not know   \n",
       "3                                                NaN   \n",
       "4                                 None/I do not know   \n",
       "\n",
       "                                         Q38_Part_22  \n",
       "0  Who/what are your favorite media sources that ...  \n",
       "1                                                NaN  \n",
       "2                                                NaN  \n",
       "3                                                NaN  \n",
       "4                                                NaN  \n",
       "\n",
       "[5 rows x 22 columns]"
      ]
     },
     "execution_count": 61,
     "metadata": {},
     "output_type": "execute_result"
    }
   ],
   "source": [
    "mediaSourcesDF.head()"
   ]
  },
  {
   "cell_type": "code",
   "execution_count": 62,
   "metadata": {},
   "outputs": [
    {
     "name": "stdout",
     "output_type": "stream",
     "text": [
      "<class 'pandas.core.frame.DataFrame'>\n",
      "RangeIndex: 23860 entries, 0 to 23859\n",
      "Data columns (total 22 columns):\n",
      "Q38_Part_1     3139 non-null object\n",
      "Q38_Part_2     2013 non-null object\n",
      "Q38_Part_3     3060 non-null object\n",
      "Q38_Part_4     5564 non-null object\n",
      "Q38_Part_5     764 non-null object\n",
      "Q38_Part_6     2025 non-null object\n",
      "Q38_Part_7     223 non-null object\n",
      "Q38_Part_8     543 non-null object\n",
      "Q38_Part_9     605 non-null object\n",
      "Q38_Part_10    1544 non-null object\n",
      "Q38_Part_11    3143 non-null object\n",
      "Q38_Part_12    2150 non-null object\n",
      "Q38_Part_13    684 non-null object\n",
      "Q38_Part_14    3051 non-null object\n",
      "Q38_Part_15    1539 non-null object\n",
      "Q38_Part_16    317 non-null object\n",
      "Q38_Part_17    672 non-null object\n",
      "Q38_Part_18    5012 non-null object\n",
      "Q38_Part_19    1 non-null object\n",
      "Q38_Part_20    1 non-null object\n",
      "Q38_Part_21    3105 non-null object\n",
      "Q38_Part_22    1561 non-null object\n",
      "dtypes: object(22)\n",
      "memory usage: 4.0+ MB\n"
     ]
    }
   ],
   "source": [
    "mediaSourcesDF.info()"
   ]
  },
  {
   "cell_type": "markdown",
   "metadata": {},
   "source": [
    "From the visual and programmatic analysis:\n",
    "* There are rows with missing data, but deviating from data we explored till now, missing information is expected per record as selections are optional. We will melt into one single column removing missing values, and use this column for analysis.\n",
    "* All columns are loaded with the correct data type.\n",
    "* Row with ID 0, is the same as the question. We will drop this row from the analysis as it does not have any empirical value.\n",
    "* Column names are not informative, we will rename columns with more informative names."
   ]
  },
  {
   "cell_type": "code",
   "execution_count": 63,
   "metadata": {},
   "outputs": [],
   "source": [
    "mediaSourcesDF.drop([0],inplace=True)\n",
    "mediaSourcesDF.reset_index(drop=True,inplace=True)"
   ]
  },
  {
   "cell_type": "code",
   "execution_count": 64,
   "metadata": {},
   "outputs": [
    {
     "data": {
      "text/html": [
       "<div>\n",
       "<style scoped>\n",
       "    .dataframe tbody tr th:only-of-type {\n",
       "        vertical-align: middle;\n",
       "    }\n",
       "\n",
       "    .dataframe tbody tr th {\n",
       "        vertical-align: top;\n",
       "    }\n",
       "\n",
       "    .dataframe thead th {\n",
       "        text-align: right;\n",
       "    }\n",
       "</style>\n",
       "<table border=\"1\" class=\"dataframe\">\n",
       "  <thead>\n",
       "    <tr style=\"text-align: right;\">\n",
       "      <th></th>\n",
       "      <th>Q38_Part_1</th>\n",
       "      <th>Q38_Part_2</th>\n",
       "      <th>Q38_Part_3</th>\n",
       "      <th>Q38_Part_4</th>\n",
       "      <th>Q38_Part_5</th>\n",
       "      <th>Q38_Part_6</th>\n",
       "      <th>Q38_Part_7</th>\n",
       "      <th>Q38_Part_8</th>\n",
       "      <th>Q38_Part_9</th>\n",
       "      <th>Q38_Part_10</th>\n",
       "      <th>...</th>\n",
       "      <th>Q38_Part_13</th>\n",
       "      <th>Q38_Part_14</th>\n",
       "      <th>Q38_Part_15</th>\n",
       "      <th>Q38_Part_16</th>\n",
       "      <th>Q38_Part_17</th>\n",
       "      <th>Q38_Part_18</th>\n",
       "      <th>Q38_Part_19</th>\n",
       "      <th>Q38_Part_20</th>\n",
       "      <th>Q38_Part_21</th>\n",
       "      <th>Q38_Part_22</th>\n",
       "    </tr>\n",
       "  </thead>\n",
       "  <tbody>\n",
       "    <tr>\n",
       "      <th>0</th>\n",
       "      <td>Twitter</td>\n",
       "      <td>NaN</td>\n",
       "      <td>NaN</td>\n",
       "      <td>NaN</td>\n",
       "      <td>NaN</td>\n",
       "      <td>NaN</td>\n",
       "      <td>NaN</td>\n",
       "      <td>NaN</td>\n",
       "      <td>NaN</td>\n",
       "      <td>NaN</td>\n",
       "      <td>...</td>\n",
       "      <td>NaN</td>\n",
       "      <td>NaN</td>\n",
       "      <td>NaN</td>\n",
       "      <td>NaN</td>\n",
       "      <td>NaN</td>\n",
       "      <td>NaN</td>\n",
       "      <td>NaN</td>\n",
       "      <td>NaN</td>\n",
       "      <td>NaN</td>\n",
       "      <td>NaN</td>\n",
       "    </tr>\n",
       "    <tr>\n",
       "      <th>1</th>\n",
       "      <td>NaN</td>\n",
       "      <td>NaN</td>\n",
       "      <td>NaN</td>\n",
       "      <td>NaN</td>\n",
       "      <td>NaN</td>\n",
       "      <td>NaN</td>\n",
       "      <td>NaN</td>\n",
       "      <td>NaN</td>\n",
       "      <td>NaN</td>\n",
       "      <td>NaN</td>\n",
       "      <td>...</td>\n",
       "      <td>NaN</td>\n",
       "      <td>NaN</td>\n",
       "      <td>NaN</td>\n",
       "      <td>NaN</td>\n",
       "      <td>NaN</td>\n",
       "      <td>NaN</td>\n",
       "      <td>NaN</td>\n",
       "      <td>NaN</td>\n",
       "      <td>None/I do not know</td>\n",
       "      <td>NaN</td>\n",
       "    </tr>\n",
       "    <tr>\n",
       "      <th>2</th>\n",
       "      <td>Twitter</td>\n",
       "      <td>NaN</td>\n",
       "      <td>NaN</td>\n",
       "      <td>NaN</td>\n",
       "      <td>NaN</td>\n",
       "      <td>NaN</td>\n",
       "      <td>NaN</td>\n",
       "      <td>NaN</td>\n",
       "      <td>NaN</td>\n",
       "      <td>NaN</td>\n",
       "      <td>...</td>\n",
       "      <td>NaN</td>\n",
       "      <td>NaN</td>\n",
       "      <td>NaN</td>\n",
       "      <td>NaN</td>\n",
       "      <td>NaN</td>\n",
       "      <td>NaN</td>\n",
       "      <td>NaN</td>\n",
       "      <td>NaN</td>\n",
       "      <td>NaN</td>\n",
       "      <td>NaN</td>\n",
       "    </tr>\n",
       "    <tr>\n",
       "      <th>3</th>\n",
       "      <td>NaN</td>\n",
       "      <td>NaN</td>\n",
       "      <td>NaN</td>\n",
       "      <td>NaN</td>\n",
       "      <td>NaN</td>\n",
       "      <td>NaN</td>\n",
       "      <td>NaN</td>\n",
       "      <td>NaN</td>\n",
       "      <td>NaN</td>\n",
       "      <td>NaN</td>\n",
       "      <td>...</td>\n",
       "      <td>NaN</td>\n",
       "      <td>NaN</td>\n",
       "      <td>NaN</td>\n",
       "      <td>NaN</td>\n",
       "      <td>NaN</td>\n",
       "      <td>NaN</td>\n",
       "      <td>NaN</td>\n",
       "      <td>NaN</td>\n",
       "      <td>None/I do not know</td>\n",
       "      <td>NaN</td>\n",
       "    </tr>\n",
       "    <tr>\n",
       "      <th>4</th>\n",
       "      <td>NaN</td>\n",
       "      <td>NaN</td>\n",
       "      <td>NaN</td>\n",
       "      <td>Kaggle forums</td>\n",
       "      <td>NaN</td>\n",
       "      <td>NaN</td>\n",
       "      <td>DataTau News Aggregator</td>\n",
       "      <td>NaN</td>\n",
       "      <td>NaN</td>\n",
       "      <td>NaN</td>\n",
       "      <td>...</td>\n",
       "      <td>NaN</td>\n",
       "      <td>NaN</td>\n",
       "      <td>NaN</td>\n",
       "      <td>NaN</td>\n",
       "      <td>NaN</td>\n",
       "      <td>NaN</td>\n",
       "      <td>NaN</td>\n",
       "      <td>NaN</td>\n",
       "      <td>NaN</td>\n",
       "      <td>NaN</td>\n",
       "    </tr>\n",
       "  </tbody>\n",
       "</table>\n",
       "<p>5 rows × 22 columns</p>\n",
       "</div>"
      ],
      "text/plain": [
       "  Q38_Part_1 Q38_Part_2 Q38_Part_3     Q38_Part_4 Q38_Part_5 Q38_Part_6  \\\n",
       "0    Twitter        NaN        NaN            NaN        NaN        NaN   \n",
       "1        NaN        NaN        NaN            NaN        NaN        NaN   \n",
       "2    Twitter        NaN        NaN            NaN        NaN        NaN   \n",
       "3        NaN        NaN        NaN            NaN        NaN        NaN   \n",
       "4        NaN        NaN        NaN  Kaggle forums        NaN        NaN   \n",
       "\n",
       "                Q38_Part_7 Q38_Part_8 Q38_Part_9 Q38_Part_10     ...      \\\n",
       "0                      NaN        NaN        NaN         NaN     ...       \n",
       "1                      NaN        NaN        NaN         NaN     ...       \n",
       "2                      NaN        NaN        NaN         NaN     ...       \n",
       "3                      NaN        NaN        NaN         NaN     ...       \n",
       "4  DataTau News Aggregator        NaN        NaN         NaN     ...       \n",
       "\n",
       "  Q38_Part_13 Q38_Part_14 Q38_Part_15 Q38_Part_16 Q38_Part_17 Q38_Part_18  \\\n",
       "0         NaN         NaN         NaN         NaN         NaN         NaN   \n",
       "1         NaN         NaN         NaN         NaN         NaN         NaN   \n",
       "2         NaN         NaN         NaN         NaN         NaN         NaN   \n",
       "3         NaN         NaN         NaN         NaN         NaN         NaN   \n",
       "4         NaN         NaN         NaN         NaN         NaN         NaN   \n",
       "\n",
       "  Q38_Part_19 Q38_Part_20         Q38_Part_21 Q38_Part_22  \n",
       "0         NaN         NaN                 NaN         NaN  \n",
       "1         NaN         NaN  None/I do not know         NaN  \n",
       "2         NaN         NaN                 NaN         NaN  \n",
       "3         NaN         NaN  None/I do not know         NaN  \n",
       "4         NaN         NaN                 NaN         NaN  \n",
       "\n",
       "[5 rows x 22 columns]"
      ]
     },
     "execution_count": 64,
     "metadata": {},
     "output_type": "execute_result"
    }
   ],
   "source": [
    "mediaSourcesDF.head()"
   ]
  },
  {
   "cell_type": "code",
   "execution_count": 65,
   "metadata": {},
   "outputs": [],
   "source": [
    "mediaSourcesDF = pd.melt(mediaSourcesDF)"
   ]
  },
  {
   "cell_type": "code",
   "execution_count": 66,
   "metadata": {},
   "outputs": [
    {
     "data": {
      "text/html": [
       "<div>\n",
       "<style scoped>\n",
       "    .dataframe tbody tr th:only-of-type {\n",
       "        vertical-align: middle;\n",
       "    }\n",
       "\n",
       "    .dataframe tbody tr th {\n",
       "        vertical-align: top;\n",
       "    }\n",
       "\n",
       "    .dataframe thead th {\n",
       "        text-align: right;\n",
       "    }\n",
       "</style>\n",
       "<table border=\"1\" class=\"dataframe\">\n",
       "  <thead>\n",
       "    <tr style=\"text-align: right;\">\n",
       "      <th></th>\n",
       "      <th>variable</th>\n",
       "      <th>value</th>\n",
       "    </tr>\n",
       "  </thead>\n",
       "  <tbody>\n",
       "    <tr>\n",
       "      <th>0</th>\n",
       "      <td>Q38_Part_1</td>\n",
       "      <td>Twitter</td>\n",
       "    </tr>\n",
       "    <tr>\n",
       "      <th>1</th>\n",
       "      <td>Q38_Part_1</td>\n",
       "      <td>NaN</td>\n",
       "    </tr>\n",
       "    <tr>\n",
       "      <th>2</th>\n",
       "      <td>Q38_Part_1</td>\n",
       "      <td>Twitter</td>\n",
       "    </tr>\n",
       "    <tr>\n",
       "      <th>3</th>\n",
       "      <td>Q38_Part_1</td>\n",
       "      <td>NaN</td>\n",
       "    </tr>\n",
       "    <tr>\n",
       "      <th>4</th>\n",
       "      <td>Q38_Part_1</td>\n",
       "      <td>NaN</td>\n",
       "    </tr>\n",
       "  </tbody>\n",
       "</table>\n",
       "</div>"
      ],
      "text/plain": [
       "     variable    value\n",
       "0  Q38_Part_1  Twitter\n",
       "1  Q38_Part_1      NaN\n",
       "2  Q38_Part_1  Twitter\n",
       "3  Q38_Part_1      NaN\n",
       "4  Q38_Part_1      NaN"
      ]
     },
     "execution_count": 66,
     "metadata": {},
     "output_type": "execute_result"
    }
   ],
   "source": [
    "mediaSourcesDF.head()"
   ]
  },
  {
   "cell_type": "code",
   "execution_count": 67,
   "metadata": {},
   "outputs": [],
   "source": [
    "mediaSourcesDF.drop(columns=['variable'],inplace=True)"
   ]
  },
  {
   "cell_type": "code",
   "execution_count": 68,
   "metadata": {},
   "outputs": [],
   "source": [
    "mediaSourcesDF.dropna(inplace=True)\n",
    "mediaSourcesDF.reset_index(drop=True,inplace=True)"
   ]
  },
  {
   "cell_type": "code",
   "execution_count": 69,
   "metadata": {},
   "outputs": [],
   "source": [
    "mediaSourcesDF.rename(columns={'value':'Media_Sources'},inplace=True)"
   ]
  },
  {
   "cell_type": "markdown",
   "metadata": {},
   "source": [
    "__A major drawback of online resources is that with ever-changing technology landscape some of the courses might become stale. Forums, blogs, YouTube channels, newsletters and podcast series are used to be up to date.__"
   ]
  },
  {
   "cell_type": "code",
   "execution_count": 70,
   "metadata": {},
   "outputs": [
    {
     "data": {
      "image/png": "[encoded data removed]",
      "text/plain": [
       "<matplotlib.figure.Figure at 0x10ee269e8>"
      ]
     },
     "metadata": {},
     "output_type": "display_data"
    }
   ],
   "source": [
    "generate_horizontal_countplot(y=mediaSourcesDF.Media_Sources,\n",
    "                             figSize=(25,20),\n",
    "                             ylabel = 'Media Sources',\n",
    "                             figName = 'Media Sources Distribution.jpeg')"
   ]
  },
  {
   "cell_type": "markdown",
   "metadata": {},
   "source": [
    "We will persist the clean copy of the dataframe as a CSV file. \n",
    "\n",
    "We no longer need \"onlineSourceDF\" in the analysis. We will clean up from memory."
   ]
  },
  {
   "cell_type": "code",
   "execution_count": 71,
   "metadata": {},
   "outputs": [],
   "source": [
    "mediaSourcesDF.to_csv(\"media_source.csv\",index=False)"
   ]
  },
  {
   "cell_type": "code",
   "execution_count": 72,
   "metadata": {},
   "outputs": [
    {
     "data": {
      "text/plain": [
       "4061"
      ]
     },
     "execution_count": 72,
     "metadata": {},
     "output_type": "execute_result"
    }
   ],
   "source": [
    "del mediaSourcesDF\n",
    "gc.collect()"
   ]
  },
  {
   "cell_type": "markdown",
   "metadata": {},
   "source": [
    "### How do you perceive the quality of online learning platforms and in-person boot camps as compared to the quality of the education provided by traditional brick and mortar institutions?"
   ]
  },
  {
   "cell_type": "code",
   "execution_count": 73,
   "metadata": {},
   "outputs": [],
   "source": [
    "moocBootVsUnivDF = multipleChoiceDF[['Q39_Part_1','Q39_Part_2']]"
   ]
  },
  {
   "cell_type": "code",
   "execution_count": 74,
   "metadata": {},
   "outputs": [
    {
     "data": {
      "text/html": [
       "<div>\n",
       "<style scoped>\n",
       "    .dataframe tbody tr th:only-of-type {\n",
       "        vertical-align: middle;\n",
       "    }\n",
       "\n",
       "    .dataframe tbody tr th {\n",
       "        vertical-align: top;\n",
       "    }\n",
       "\n",
       "    .dataframe thead th {\n",
       "        text-align: right;\n",
       "    }\n",
       "</style>\n",
       "<table border=\"1\" class=\"dataframe\">\n",
       "  <thead>\n",
       "    <tr style=\"text-align: right;\">\n",
       "      <th></th>\n",
       "      <th>Q39_Part_1</th>\n",
       "      <th>Q39_Part_2</th>\n",
       "    </tr>\n",
       "  </thead>\n",
       "  <tbody>\n",
       "    <tr>\n",
       "      <th>0</th>\n",
       "      <td>How do you perceive the quality of online lear...</td>\n",
       "      <td>How do you perceive the quality of online lear...</td>\n",
       "    </tr>\n",
       "    <tr>\n",
       "      <th>1</th>\n",
       "      <td>Much better</td>\n",
       "      <td>Much worse</td>\n",
       "    </tr>\n",
       "    <tr>\n",
       "      <th>2</th>\n",
       "      <td>Slightly worse</td>\n",
       "      <td>No opinion; I do not know</td>\n",
       "    </tr>\n",
       "    <tr>\n",
       "      <th>3</th>\n",
       "      <td>Slightly worse</td>\n",
       "      <td>Slightly better</td>\n",
       "    </tr>\n",
       "    <tr>\n",
       "      <th>4</th>\n",
       "      <td>Much worse</td>\n",
       "      <td>No opinion; I do not know</td>\n",
       "    </tr>\n",
       "  </tbody>\n",
       "</table>\n",
       "</div>"
      ],
      "text/plain": [
       "                                          Q39_Part_1  \\\n",
       "0  How do you perceive the quality of online lear...   \n",
       "1                                        Much better   \n",
       "2                                     Slightly worse   \n",
       "3                                     Slightly worse   \n",
       "4                                         Much worse   \n",
       "\n",
       "                                          Q39_Part_2  \n",
       "0  How do you perceive the quality of online lear...  \n",
       "1                                         Much worse  \n",
       "2                          No opinion; I do not know  \n",
       "3                                    Slightly better  \n",
       "4                          No opinion; I do not know  "
      ]
     },
     "execution_count": 74,
     "metadata": {},
     "output_type": "execute_result"
    }
   ],
   "source": [
    "moocBootVsUnivDF.head()"
   ]
  },
  {
   "cell_type": "code",
   "execution_count": 75,
   "metadata": {},
   "outputs": [
    {
     "name": "stdout",
     "output_type": "stream",
     "text": [
      "<class 'pandas.core.frame.DataFrame'>\n",
      "RangeIndex: 23860 entries, 0 to 23859\n",
      "Data columns (total 2 columns):\n",
      "Q39_Part_1    15980 non-null object\n",
      "Q39_Part_2    15980 non-null object\n",
      "dtypes: object(2)\n",
      "memory usage: 372.9+ KB\n"
     ]
    }
   ],
   "source": [
    "moocBootVsUnivDF.info()"
   ]
  },
  {
   "cell_type": "markdown",
   "metadata": {},
   "source": [
    "From the visual and programmatic analysis:\n",
    "* There are rows with missing data, we will not include these records in our report.\n",
    "* All columns are loaded with the correct data type.\n",
    "* Row with ID 0, is the same as the question. We will drop this row from the analysis as it does not have any empirical value.\n",
    "* Column names are not informative, we will rename columns with more informative names."
   ]
  },
  {
   "cell_type": "code",
   "execution_count": 76,
   "metadata": {},
   "outputs": [],
   "source": [
    "moocBootVsUnivDF.drop([0],inplace=True)"
   ]
  },
  {
   "cell_type": "code",
   "execution_count": 77,
   "metadata": {},
   "outputs": [],
   "source": [
    "moocBootVsUnivDF.dropna(inplace=True)\n",
    "moocBootVsUnivDF.reset_index(drop=True,inplace=True)"
   ]
  },
  {
   "cell_type": "markdown",
   "metadata": {},
   "source": [
    "__Most of the survey respondents have voted online courses are better or as good as the traditional education. On another hand, many participants have no exposure to Boot Camp training.__"
   ]
  },
  {
   "cell_type": "code",
   "execution_count": 78,
   "metadata": {},
   "outputs": [
    {
     "data": {
      "image/png": "[encoded data removed]",
      "text/plain": [
       "<matplotlib.figure.Figure at 0x1088bfd68>"
      ]
     },
     "metadata": {},
     "output_type": "display_data"
    }
   ],
   "source": [
    "generate_vertical_countplot(x=moocBootVsUnivDF.Q39_Part_1,\n",
    "                            xlabel=\"MOOC vs Traditional\",\n",
    "                            figName='MOOC vs Univ Distribution.jpeg',\n",
    "                            figSize=(12,10))"
   ]
  },
  {
   "cell_type": "markdown",
   "metadata": {},
   "source": [
    "__Boot Camps provide the best of traditional (in-person training) and online education (flexible time-frame). At the same time, Boot Camps are very expensive and are only available in major cities.__"
   ]
  },
  {
   "cell_type": "code",
   "execution_count": 79,
   "metadata": {},
   "outputs": [
    {
     "data": {
      "image/png": "[encoded data removed]",
      "text/plain": [
       "<matplotlib.figure.Figure at 0x10ecb20f0>"
      ]
     },
     "metadata": {},
     "output_type": "display_data"
    }
   ],
   "source": [
    "generate_vertical_countplot(x=moocBootVsUnivDF.Q39_Part_2,\n",
    "                            xlabel=\"BootCamp vs Traditional\",\n",
    "                            figName='BootCamp vs Univ Distribution.jpeg',\n",
    "                            figSize=(12,10))"
   ]
  },
  {
   "cell_type": "code",
   "execution_count": 80,
   "metadata": {},
   "outputs": [],
   "source": [
    "moocBootVsUnivDF.rename(columns={'Q39_Part_1':'MOOC','Q39_Part_2':'BootCamp'},inplace=True)"
   ]
  },
  {
   "cell_type": "markdown",
   "metadata": {},
   "source": [
    "We will persist the clean copy of the dataframe as a CSV file. \n",
    "\n",
    "We no longer need \"moocBootVsUnivDF\" in the analysis. We will clean up from memory."
   ]
  },
  {
   "cell_type": "code",
   "execution_count": 81,
   "metadata": {},
   "outputs": [],
   "source": [
    "moocBootVsUnivDF.to_csv(\"moocBootVsUniv.csv\",index=False)"
   ]
  },
  {
   "cell_type": "markdown",
   "metadata": {},
   "source": [
    "### Conclusion"
   ]
  },
  {
   "cell_type": "markdown",
   "metadata": {},
   "source": [
    "In this notebook, we have analyzed prior education and training pursued survey takers along with basic questions like what is the highest level of education? What is the undergraduate major? What is the source of machine learning knowledge? Which online platforms they use and like? How they rate traditional education with MOOCs & boot camps?"
   ]
  }
 ],
 "metadata": {
  "kernelspec": {
   "display_name": "Python 3",
   "language": "python",
   "name": "python3"
  },
  "language_info": {
   "codemirror_mode": {
    "name": "ipython",
    "version": 3
   },
   "file_extension": ".py",
   "mimetype": "text/x-python",
   "name": "python",
   "nbconvert_exporter": "python",
   "pygments_lexer": "ipython3",
   "version": "3.6.4"
  }
 },
 "nbformat": 4,
 "nbformat_minor": 2
}
