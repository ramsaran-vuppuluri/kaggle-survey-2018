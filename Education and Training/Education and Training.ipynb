{
 "cells": [
  {
   "cell_type": "markdown",
   "metadata": {},
   "source": [
    "# Education and Training\n",
    "## Author: Ram Saran Vuppuluri"
   ]
  },
  {
   "cell_type": "markdown",
   "metadata": {},
   "source": [
    "In this notebook we are analyzing Education and Training data gathered from survey takers.\n",
    "\n",
    "Instead of working on all the columns, we are going to extract the columns from multipleChoiceResponses.csv that are relevant to the analysis. (we are removing multipleChoiceResponses.csv data frame once the values are extracted from primary memory).\n",
    "\n",
    "Following questions in the survey are related to Education and Training:\n",
    "*\tQ4--What is the highest level of formal education that you have attained or plan to attain within the next 2 years?\n",
    "*\tQ5--Which best describes your undergraduate major? - Selected Choice\n",
    "\n",
    "\n",
    "*\tQ35_Part_1--What percentage of your current machine learning/data science training falls under each category? (Answers must add up to 100%) - Self-taught\n",
    "*\tQ35_Part_2--What percentage of your current machine learning/data science training falls under each category? (Answers must add up to 100%) - Online courses (Coursera, Udemy, edX, etc.)\n",
    "*\tQ35_Part_3--What percentage of your current machine learning/data science training falls under each category? (Answers must add up to 100%) - Work\n",
    "*\tQ35_Part_4--What percentage of your current machine learning/data science training falls under each category? (Answers must add up to 100%) - University\n",
    "*\tQ35_Part_5--What percentage of your current machine learning/data science training falls under each category? (Answers must add up to 100%) - Kaggle competitions\n",
    "*\tQ35_Part_6--What percentage of your current machine learning/data science training falls under each category? (Answers must add up to 100%) - Other\n",
    "*\tQ35_OTHER_TEXT--What percentage of your current machine learning/data science training falls under each category? (Answers must add up to 100%) - Other - Text\n",
    "\n",
    "\n",
    "*\tQ36_Part_1--On which online platforms have you begun or completed data science courses? (Select all that apply) - Selected Choice - Udacity\n",
    "*\tQ36_Part_2--On which online platforms have you begun or completed data science courses? (Select all that apply) - Selected Choice - Coursera\n",
    "*\tQ36_Part_3--On which online platforms have you begun or completed data science courses? (Select all that apply) - Selected Choice - edX\n",
    "*\tQ36_Part_4--On which online platforms have you begun or completed data science courses? (Select all that apply) - Selected Choice - DataCamp\n",
    "*\tQ36_Part_5--On which online platforms have you begun or completed data science courses? (Select all that apply) - Selected Choice - DataQuest\n",
    "*\tQ36_Part_6--On which online platforms have you begun or completed data science courses? (Select all that apply) - Selected Choice - Kaggle Learn\n",
    "*\tQ36_Part_7--On which online platforms have you begun or completed data science courses? (Select all that apply) - Selected Choice - Fast.AI\n",
    "*\tQ36_Part_8--On which online platforms have you begun or completed data science courses? (Select all that apply) - Selected Choice - developers.google.com\n",
    "*\tQ36_Part_9--On which online platforms have you begun or completed data science courses? (Select all that apply) - Selected Choice - Udemy\n",
    "*\tQ36_Part_10--On which online platforms have you begun or completed data science courses? (Select all that apply) - Selected Choice - TheSchool.AI\n",
    "*\tQ36_Part_11--On which online platforms have you begun or completed data science courses? (Select all that apply) - Selected Choice - Online University Courses\n",
    "*\tQ36_Part_12--On which online platforms have you begun or completed data science courses? (Select all that apply) - Selected Choice - None\n",
    "*\tQ36_Part_13--On which online platforms have you begun or completed data science courses? (Select all that apply) - Selected Choice - Other\n",
    "*\tQ36_OTHER_TEXT--On which online platforms have you begun or completed data science courses? (Select all that apply) - Other - Text\n",
    "\n",
    "\n",
    "*\tQ37--On which online platform have you spent the most amount of time? - Selected Choice\n",
    "*\tQ37_OTHER_TEXT--On which online platform have you spent the most amount of time? - Other - Text\n",
    "\n",
    "\n",
    "*\tQ38_Part_1--Who/what are your favorite media sources that report on data science topics? (Select all that apply) - Selected Choice - Twitter\n",
    "*\tQ38_Part_2--Who/what are your favorite media sources that report on data science topics? (Select all that apply) - Selected Choice - Hacker News\n",
    "*\tQ38_Part_3--Who/what are your favorite media sources that report on data science topics? (Select all that apply) - Selected Choice - r/machinelearning\n",
    "*\tQ38_Part_4--Who/what are your favorite media sources that report on data science topics? (Select all that apply) - Selected Choice - Kaggle forums\n",
    "*\tQ38_Part_5--Who/what are your favorite media sources that report on data science topics? (Select all that apply) - Selected Choice - Fastai forums\n",
    "*\tQ38_Part_6--Who/what are your favorite media sources that report on data science topics? (Select all that apply) - Selected Choice - Siraj Raval YouTube Channel\n",
    "*\tQ38_Part_7--Who/what are your favorite media sources that report on data science topics? (Select all that apply) - Selected Choice - DataTau News Aggregator\n",
    "*\tQ38_Part_8--Who/what are your favorite media sources that report on data science topics? (Select all that apply) - Selected Choice - Linear Digressions Podcast\n",
    "*\tQ38_Part_9--Who/what are your favorite media sources that report on data science topics? (Select all that apply) - Selected Choice - Cloud AI Adventures (YouTube)\n",
    "*\tQ38_Part_10--Who/what are your favorite media sources that report on data science topics? (Select all that apply) - Selected Choice - FiveThirtyEight.com\n",
    "*\tQ38_Part_11--Who/what are your favorite media sources that report on data science topics? (Select all that apply) - Selected Choice - ArXiv & Preprints\n",
    "*\tQ38_Part_12--Who/what are your favorite media sources that report on data science topics? (Select all that apply) - Selected Choice - Journal Publications\n",
    "*\tQ38_Part_13--Who/what are your favorite media sources that report on data science topics? (Select all that apply) - Selected Choice - FastML Blog\n",
    "*\tQ38_Part_14--Who/what are your favorite media sources that report on data science topics? (Select all that apply) - Selected Choice - KDnuggets Blog\n",
    "*\tQ38_Part_15--Who/what are your favorite media sources that report on data science topics? (Select all that apply) - Selected Choice - O'Reilly Data Newsletter\n",
    "*\tQ38_Part_16--Who/what are your favorite media sources that report on data science topics? (Select all that apply) - Selected Choice - Partially Derivative Podcast\n",
    "*\tQ38_Part_17--Who/what are your favorite media sources that report on data science topics? (Select all that apply) - Selected Choice - The Data Skeptic Podcast\n",
    "*\tQ38_Part_18--Who/what are your favorite media sources that report on data science topics? (Select all that apply) - Selected Choice - Medium Blog Posts\n",
    "*\tQ38_Part_19--Who/what are your favorite media sources that report on data science topics? (Select all that apply) - Selected Choice - Towards Data Science Blog\n",
    "*\tQ38_Part_20--Who/what are your favorite media sources that report on data science topics? (Select all that apply) - Selected Choice - Analytics Vidhya Blog\n",
    "*\tQ38_Part_21--Who/what are your favorite media sources that report on data science topics? (Select all that apply) - Selected Choice - None/I do not know\n",
    "*\tQ38_Part_22--Who/what are your favorite media sources that report on data science topics? (Select all that apply) - Selected Choice - Other\n",
    "*\tQ38_OTHER_TEXT--Who/what are your favorite media sources that report on data science topics? (Select all that apply) - Other - Text\n",
    "\n",
    "\n",
    "*\tQ39_Part_1--How do you perceive the quality of online learning platforms and in-person bootcamps as compared to the quality of the education provided by traditional brick and mortar institutions? - Online learning platforms and MOOCs:\n",
    "*\tQ39_Part_2--How do you perceive the quality of online learning platforms and in-person bootcamps as compared to the quality of the education provided by traditional brick and mortar institutions? - In-person bootcamps:"
   ]
  },
  {
   "cell_type": "code",
   "execution_count": 1,
   "metadata": {},
   "outputs": [],
   "source": [
    "import gc\n",
    "\n",
    "import pandas as pd\n",
    "import matplotlib.pyplot as plt\n",
    "import seaborn as sns\n",
    "%matplotlib inline\n",
    "\n",
    "import warnings\n",
    "warnings.filterwarnings('ignore')"
   ]
  },
  {
   "cell_type": "code",
   "execution_count": 2,
   "metadata": {},
   "outputs": [],
   "source": [
    "multipleChoiceDF = pd.read_csv('../multipleChoiceResponses.csv',low_memory=False)"
   ]
  },
  {
   "cell_type": "code",
   "execution_count": 3,
   "metadata": {},
   "outputs": [],
   "source": [
    "multipleChoiceColumns = ['Q4','Q5',\n",
    "                         'Q35_Part_1','Q35_Part_2','Q35_Part_3','Q35_Part_4','Q35_Part_5','Q35_Part_6',\n",
    "                         'Q36_Part_1','Q36_Part_2','Q36_Part_3','Q36_Part_4','Q36_Part_5','Q36_Part_6',\n",
    "                         'Q36_Part_7','Q36_Part_8','Q36_Part_9','Q36_Part_10','Q36_Part_11','Q36_Part_12',\n",
    "                         'Q36_Part_13',\n",
    "                         'Q37',\n",
    "                         'Q38_Part_1','Q38_Part_2','Q38_Part_3','Q38_Part_4','Q38_Part_5','Q38_Part_6',\n",
    "                         'Q38_Part_7','Q38_Part_8','Q38_Part_9','Q38_Part_10','Q38_Part_11','Q38_Part_12',\n",
    "                         'Q38_Part_13','Q38_Part_14','Q38_Part_15','Q38_Part_16','Q38_Part_17','Q38_Part_18',\n",
    "                         'Q38_Part_19','Q38_Part_20','Q38_Part_21','Q38_Part_22',\n",
    "                         'Q39_Part_1','Q39_Part_2']"
   ]
  },
  {
   "cell_type": "markdown",
   "metadata": {},
   "source": [
    "### Prior Education\n",
    "\n",
    "Following responses are analyzed in this section:\n",
    "*\tQ4--What is the highest level of formal education that you have attained or plan to attain within the next 2 years?\n",
    "*\tQ5--Which best describes your undergraduate major? - Selected Choice"
   ]
  },
  {
   "cell_type": "code",
   "execution_count": 4,
   "metadata": {},
   "outputs": [],
   "source": [
    "educationDF = multipleChoiceDF[['Q4','Q5']]"
   ]
  },
  {
   "cell_type": "code",
   "execution_count": 5,
   "metadata": {},
   "outputs": [
    {
     "data": {
      "text/plain": [
       "Q4    True\n",
       "Q5    True\n",
       "dtype: bool"
      ]
     },
     "execution_count": 5,
     "metadata": {},
     "output_type": "execute_result"
    }
   ],
   "source": [
    "educationDF.isnull().any()"
   ]
  },
  {
   "cell_type": "code",
   "execution_count": 6,
   "metadata": {},
   "outputs": [],
   "source": [
    "educationDF.drop([0],inplace=True)\n",
    "educationDF.reset_index(drop=True,inplace=True)"
   ]
  },
  {
   "cell_type": "code",
   "execution_count": 7,
   "metadata": {},
   "outputs": [
    {
     "data": {
      "text/html": [
       "<div>\n",
       "<style scoped>\n",
       "    .dataframe tbody tr th:only-of-type {\n",
       "        vertical-align: middle;\n",
       "    }\n",
       "\n",
       "    .dataframe tbody tr th {\n",
       "        vertical-align: top;\n",
       "    }\n",
       "\n",
       "    .dataframe thead th {\n",
       "        text-align: right;\n",
       "    }\n",
       "</style>\n",
       "<table border=\"1\" class=\"dataframe\">\n",
       "  <thead>\n",
       "    <tr style=\"text-align: right;\">\n",
       "      <th></th>\n",
       "      <th>Q4</th>\n",
       "      <th>Q5</th>\n",
       "    </tr>\n",
       "  </thead>\n",
       "  <tbody>\n",
       "    <tr>\n",
       "      <th>0</th>\n",
       "      <td>Doctoral degree</td>\n",
       "      <td>Other</td>\n",
       "    </tr>\n",
       "    <tr>\n",
       "      <th>1</th>\n",
       "      <td>Bachelor’s degree</td>\n",
       "      <td>Engineering (non-computer focused)</td>\n",
       "    </tr>\n",
       "    <tr>\n",
       "      <th>2</th>\n",
       "      <td>Master’s degree</td>\n",
       "      <td>Computer science (software engineering, etc.)</td>\n",
       "    </tr>\n",
       "    <tr>\n",
       "      <th>3</th>\n",
       "      <td>Master’s degree</td>\n",
       "      <td>Social sciences (anthropology, psychology, soc...</td>\n",
       "    </tr>\n",
       "    <tr>\n",
       "      <th>4</th>\n",
       "      <td>Master’s degree</td>\n",
       "      <td>Mathematics or statistics</td>\n",
       "    </tr>\n",
       "  </tbody>\n",
       "</table>\n",
       "</div>"
      ],
      "text/plain": [
       "                  Q4                                                 Q5\n",
       "0    Doctoral degree                                              Other\n",
       "1  Bachelor’s degree                 Engineering (non-computer focused)\n",
       "2    Master’s degree      Computer science (software engineering, etc.)\n",
       "3    Master’s degree  Social sciences (anthropology, psychology, soc...\n",
       "4    Master’s degree                          Mathematics or statistics"
      ]
     },
     "execution_count": 7,
     "metadata": {},
     "output_type": "execute_result"
    }
   ],
   "source": [
    "educationDF.head()"
   ]
  },
  {
   "cell_type": "code",
   "execution_count": 8,
   "metadata": {},
   "outputs": [
    {
     "data": {
      "text/plain": [
       "Master’s degree                                                      10855\n",
       "Bachelor’s degree                                                     7083\n",
       "Doctoral degree                                                       3357\n",
       "Some college/university study without earning a bachelor’s degree      967\n",
       "Professional degree                                                    599\n",
       "I prefer not to answer                                                 345\n",
       "No formal education past high school                                   232\n",
       "Name: Q4, dtype: int64"
      ]
     },
     "execution_count": 8,
     "metadata": {},
     "output_type": "execute_result"
    }
   ],
   "source": [
    "educationDF.Q4.value_counts()"
   ]
  },
  {
   "cell_type": "code",
   "execution_count": 9,
   "metadata": {},
   "outputs": [],
   "source": [
    "educationDF.Q4.replace(to_replace='Some college/university study without earning a bachelor’s degree',\n",
    "                       value='Bachelor’s degree (not graduated)',inplace=True)"
   ]
  },
  {
   "cell_type": "code",
   "execution_count": 10,
   "metadata": {},
   "outputs": [],
   "source": [
    "educationDF.sort_values(\"Q4\",inplace=True)\n",
    "educationDF.reset_index(drop=True,inplace=True)"
   ]
  },
  {
   "cell_type": "code",
   "execution_count": 11,
   "metadata": {},
   "outputs": [
    {
     "data": {
      "image/png": "[encoded data removed]",
      "text/plain": [
       "<matplotlib.figure.Figure at 0x1a16639198>"
      ]
     },
     "metadata": {},
     "output_type": "display_data"
    }
   ],
   "source": [
    "sns.set(rc={'figure.figsize':(18,15)})\n",
    "ax = sns.countplot(x=educationDF.Q4)\n",
    "ax.set(xlabel=\"Degree\")\n",
    "ax.get_figure().savefig(\"Degree_Distribution.jpeg\");"
   ]
  },
  {
   "cell_type": "code",
   "execution_count": 12,
   "metadata": {},
   "outputs": [
    {
     "data": {
      "text/plain": [
       "Computer science (software engineering, etc.)                    9430\n",
       "Engineering (non-computer focused)                               3705\n",
       "Mathematics or statistics                                        2950\n",
       "A business discipline (accounting, economics, finance, etc.)     1791\n",
       "Physics or astronomy                                             1110\n",
       "Information technology, networking, or system administration     1029\n",
       "Medical or life sciences (biology, chemistry, medicine, etc.)     871\n",
       "Other                                                             770\n",
       "Social sciences (anthropology, psychology, sociology, etc.)       554\n",
       "Humanities (history, literature, philosophy, etc.)                269\n",
       "Environmental science or geology                                  253\n",
       "I never declared a major                                          128\n",
       "Fine arts or performing arts                                       87\n",
       "Name: Q5, dtype: int64"
      ]
     },
     "execution_count": 12,
     "metadata": {},
     "output_type": "execute_result"
    }
   ],
   "source": [
    "educationDF.Q5.value_counts()"
   ]
  },
  {
   "cell_type": "code",
   "execution_count": 13,
   "metadata": {},
   "outputs": [],
   "source": [
    "educationDF.Q5.replace(to_replace='Computer science (software engineering, etc.)',\n",
    "                       value='Computer science',inplace = True)\n",
    "educationDF.Q5.replace(to_replace='Engineering (non-computer focused)',\n",
    "                       value='Engineering',inplace = True)\n",
    "educationDF.Q5.replace(to_replace='A business discipline (accounting, economics, finance, etc.)',\n",
    "                       value='Business Discipline',inplace = True)\n",
    "educationDF.Q5.replace(to_replace='Medical or life sciences (biology, chemistry, medicine, etc.)',\n",
    "                       value='Medical or life sciences',inplace = True)\n",
    "educationDF.Q5.replace(to_replace='Social sciences (anthropology, psychology, sociology, etc.)',\n",
    "                       value='Social sciences',inplace = True)\n",
    "educationDF.Q5.replace(to_replace='Humanities (history, literature, philosophy, etc.)',\n",
    "                       value='Humanities',inplace = True)"
   ]
  },
  {
   "cell_type": "code",
   "execution_count": 14,
   "metadata": {},
   "outputs": [],
   "source": [
    "educationDF.sort_values(\"Q5\",inplace=True)\n",
    "educationDF.reset_index(drop=True,inplace=True)"
   ]
  },
  {
   "cell_type": "code",
   "execution_count": 15,
   "metadata": {},
   "outputs": [
    {
     "data": {
      "image/png": "[encoded data removed]",
      "text/plain": [
       "<matplotlib.figure.Figure at 0x1a0b7ad080>"
      ]
     },
     "metadata": {},
     "output_type": "display_data"
    }
   ],
   "source": [
    "sns.set(rc={'figure.figsize':(20,25)})\n",
    "ax = sns.countplot(y=educationDF.Q5)\n",
    "ax.set(ylabel=\"Major\")\n",
    "ax.get_figure().savefig(\"Major_Distribution.jpeg\");"
   ]
  },
  {
   "cell_type": "code",
   "execution_count": 16,
   "metadata": {},
   "outputs": [],
   "source": [
    "educationDF.rename(columns={\"Q4\":\"Degree\",\"Q5\":\"Major\"},inplace=True)"
   ]
  },
  {
   "cell_type": "code",
   "execution_count": 17,
   "metadata": {},
   "outputs": [],
   "source": [
    "educationDF.to_csv(\"education.csv\",index=False)"
   ]
  },
  {
   "cell_type": "code",
   "execution_count": 18,
   "metadata": {},
   "outputs": [
    {
     "data": {
      "text/plain": [
       "14"
      ]
     },
     "execution_count": 18,
     "metadata": {},
     "output_type": "execute_result"
    }
   ],
   "source": [
    "del educationDF\n",
    "gc.collect()"
   ]
  },
  {
   "cell_type": "markdown",
   "metadata": {},
   "source": [
    "### Training Mode\n",
    "\n",
    "Following responses are analyzed in this section:\n",
    "\n",
    "*\tQ35_Part_1--What percentage of your current machine learning/data science training falls under each category? (Answers must add up to 100%) - Self-taught\n",
    "*\tQ35_Part_2--What percentage of your current machine learning/data science training falls under each category? (Answers must add up to 100%) - Online courses (Coursera, Udemy, edX, etc.)\n",
    "*\tQ35_Part_3--What percentage of your current machine learning/data science training falls under each category? (Answers must add up to 100%) - Work\n",
    "*\tQ35_Part_4--What percentage of your current machine learning/data science training falls under each category? (Answers must add up to 100%) - University\n",
    "*\tQ35_Part_5--What percentage of your current machine learning/data science training falls under each category? (Answers must add up to 100%) - Kaggle competitions\n",
    "*\tQ35_Part_6--What percentage of your current machine learning/data science training falls under each category? (Answers must add up to 100%) - Other\n",
    "*\tQ35_OTHER_TEXT--What percentage of your current machine learning/data science training falls under each category? (Answers must add up to 100%) - Other - Text"
   ]
  },
  {
   "cell_type": "code",
   "execution_count": 19,
   "metadata": {},
   "outputs": [],
   "source": [
    "multipleChoiceDF = pd.read_csv('../multipleChoiceResponses.csv',low_memory=False)"
   ]
  },
  {
   "cell_type": "code",
   "execution_count": 20,
   "metadata": {},
   "outputs": [],
   "source": [
    "trainingSourceDF = multipleChoiceDF[['Q35_Part_1','Q35_Part_2','Q35_Part_3','Q35_Part_4','Q35_Part_5','Q35_Part_6']]"
   ]
  },
  {
   "cell_type": "code",
   "execution_count": 21,
   "metadata": {},
   "outputs": [
    {
     "data": {
      "text/plain": [
       "(23860, 23860)"
      ]
     },
     "execution_count": 21,
     "metadata": {},
     "output_type": "execute_result"
    }
   ],
   "source": [
    "trainingSourceDF.shape[0],multipleChoiceDF.shape[0]"
   ]
  },
  {
   "cell_type": "code",
   "execution_count": 22,
   "metadata": {},
   "outputs": [
    {
     "data": {
      "text/plain": [
       "42"
      ]
     },
     "execution_count": 22,
     "metadata": {},
     "output_type": "execute_result"
    }
   ],
   "source": [
    "del multipleChoiceDF\n",
    "gc.collect()"
   ]
  },
  {
   "cell_type": "code",
   "execution_count": 23,
   "metadata": {},
   "outputs": [
    {
     "data": {
      "text/html": [
       "<div>\n",
       "<style scoped>\n",
       "    .dataframe tbody tr th:only-of-type {\n",
       "        vertical-align: middle;\n",
       "    }\n",
       "\n",
       "    .dataframe tbody tr th {\n",
       "        vertical-align: top;\n",
       "    }\n",
       "\n",
       "    .dataframe thead th {\n",
       "        text-align: right;\n",
       "    }\n",
       "</style>\n",
       "<table border=\"1\" class=\"dataframe\">\n",
       "  <thead>\n",
       "    <tr style=\"text-align: right;\">\n",
       "      <th></th>\n",
       "      <th>Q35_Part_1</th>\n",
       "      <th>Q35_Part_2</th>\n",
       "      <th>Q35_Part_3</th>\n",
       "      <th>Q35_Part_4</th>\n",
       "      <th>Q35_Part_5</th>\n",
       "      <th>Q35_Part_6</th>\n",
       "    </tr>\n",
       "  </thead>\n",
       "  <tbody>\n",
       "    <tr>\n",
       "      <th>0</th>\n",
       "      <td>What percentage of your current machine learni...</td>\n",
       "      <td>What percentage of your current machine learni...</td>\n",
       "      <td>What percentage of your current machine learni...</td>\n",
       "      <td>What percentage of your current machine learni...</td>\n",
       "      <td>What percentage of your current machine learni...</td>\n",
       "      <td>What percentage of your current machine learni...</td>\n",
       "    </tr>\n",
       "    <tr>\n",
       "      <th>1</th>\n",
       "      <td>NaN</td>\n",
       "      <td>NaN</td>\n",
       "      <td>NaN</td>\n",
       "      <td>NaN</td>\n",
       "      <td>NaN</td>\n",
       "      <td>NaN</td>\n",
       "    </tr>\n",
       "    <tr>\n",
       "      <th>2</th>\n",
       "      <td>NaN</td>\n",
       "      <td>NaN</td>\n",
       "      <td>NaN</td>\n",
       "      <td>NaN</td>\n",
       "      <td>NaN</td>\n",
       "      <td>NaN</td>\n",
       "    </tr>\n",
       "    <tr>\n",
       "      <th>3</th>\n",
       "      <td>0</td>\n",
       "      <td>0</td>\n",
       "      <td>0</td>\n",
       "      <td>100</td>\n",
       "      <td>0</td>\n",
       "      <td>0</td>\n",
       "    </tr>\n",
       "    <tr>\n",
       "      <th>4</th>\n",
       "      <td>40</td>\n",
       "      <td>40</td>\n",
       "      <td>10</td>\n",
       "      <td>0</td>\n",
       "      <td>10</td>\n",
       "      <td>0</td>\n",
       "    </tr>\n",
       "  </tbody>\n",
       "</table>\n",
       "</div>"
      ],
      "text/plain": [
       "                                          Q35_Part_1  \\\n",
       "0  What percentage of your current machine learni...   \n",
       "1                                                NaN   \n",
       "2                                                NaN   \n",
       "3                                                  0   \n",
       "4                                                 40   \n",
       "\n",
       "                                          Q35_Part_2  \\\n",
       "0  What percentage of your current machine learni...   \n",
       "1                                                NaN   \n",
       "2                                                NaN   \n",
       "3                                                  0   \n",
       "4                                                 40   \n",
       "\n",
       "                                          Q35_Part_3  \\\n",
       "0  What percentage of your current machine learni...   \n",
       "1                                                NaN   \n",
       "2                                                NaN   \n",
       "3                                                  0   \n",
       "4                                                 10   \n",
       "\n",
       "                                          Q35_Part_4  \\\n",
       "0  What percentage of your current machine learni...   \n",
       "1                                                NaN   \n",
       "2                                                NaN   \n",
       "3                                                100   \n",
       "4                                                  0   \n",
       "\n",
       "                                          Q35_Part_5  \\\n",
       "0  What percentage of your current machine learni...   \n",
       "1                                                NaN   \n",
       "2                                                NaN   \n",
       "3                                                  0   \n",
       "4                                                 10   \n",
       "\n",
       "                                          Q35_Part_6  \n",
       "0  What percentage of your current machine learni...  \n",
       "1                                                NaN  \n",
       "2                                                NaN  \n",
       "3                                                  0  \n",
       "4                                                  0  "
      ]
     },
     "execution_count": 23,
     "metadata": {},
     "output_type": "execute_result"
    }
   ],
   "source": [
    "trainingSourceDF.head()"
   ]
  },
  {
   "cell_type": "code",
   "execution_count": 24,
   "metadata": {},
   "outputs": [],
   "source": [
    "trainingSourceDF.drop([0],inplace=True)\n",
    "trainingSourceDF.reset_index(drop=True,inplace=True)"
   ]
  },
  {
   "cell_type": "code",
   "execution_count": 25,
   "metadata": {},
   "outputs": [
    {
     "data": {
      "text/html": [
       "<div>\n",
       "<style scoped>\n",
       "    .dataframe tbody tr th:only-of-type {\n",
       "        vertical-align: middle;\n",
       "    }\n",
       "\n",
       "    .dataframe tbody tr th {\n",
       "        vertical-align: top;\n",
       "    }\n",
       "\n",
       "    .dataframe thead th {\n",
       "        text-align: right;\n",
       "    }\n",
       "</style>\n",
       "<table border=\"1\" class=\"dataframe\">\n",
       "  <thead>\n",
       "    <tr style=\"text-align: right;\">\n",
       "      <th></th>\n",
       "      <th>Q35_Part_1</th>\n",
       "      <th>Q35_Part_2</th>\n",
       "      <th>Q35_Part_3</th>\n",
       "      <th>Q35_Part_4</th>\n",
       "      <th>Q35_Part_5</th>\n",
       "      <th>Q35_Part_6</th>\n",
       "    </tr>\n",
       "  </thead>\n",
       "  <tbody>\n",
       "    <tr>\n",
       "      <th>0</th>\n",
       "      <td>NaN</td>\n",
       "      <td>NaN</td>\n",
       "      <td>NaN</td>\n",
       "      <td>NaN</td>\n",
       "      <td>NaN</td>\n",
       "      <td>NaN</td>\n",
       "    </tr>\n",
       "    <tr>\n",
       "      <th>1</th>\n",
       "      <td>NaN</td>\n",
       "      <td>NaN</td>\n",
       "      <td>NaN</td>\n",
       "      <td>NaN</td>\n",
       "      <td>NaN</td>\n",
       "      <td>NaN</td>\n",
       "    </tr>\n",
       "    <tr>\n",
       "      <th>2</th>\n",
       "      <td>0</td>\n",
       "      <td>0</td>\n",
       "      <td>0</td>\n",
       "      <td>100</td>\n",
       "      <td>0</td>\n",
       "      <td>0</td>\n",
       "    </tr>\n",
       "    <tr>\n",
       "      <th>3</th>\n",
       "      <td>40</td>\n",
       "      <td>40</td>\n",
       "      <td>10</td>\n",
       "      <td>0</td>\n",
       "      <td>10</td>\n",
       "      <td>0</td>\n",
       "    </tr>\n",
       "    <tr>\n",
       "      <th>4</th>\n",
       "      <td>20</td>\n",
       "      <td>40</td>\n",
       "      <td>20</td>\n",
       "      <td>20</td>\n",
       "      <td>0</td>\n",
       "      <td>0</td>\n",
       "    </tr>\n",
       "  </tbody>\n",
       "</table>\n",
       "</div>"
      ],
      "text/plain": [
       "  Q35_Part_1 Q35_Part_2 Q35_Part_3 Q35_Part_4 Q35_Part_5 Q35_Part_6\n",
       "0        NaN        NaN        NaN        NaN        NaN        NaN\n",
       "1        NaN        NaN        NaN        NaN        NaN        NaN\n",
       "2          0          0          0        100          0          0\n",
       "3         40         40         10          0         10          0\n",
       "4         20         40         20         20          0          0"
      ]
     },
     "execution_count": 25,
     "metadata": {},
     "output_type": "execute_result"
    }
   ],
   "source": [
    "trainingSourceDF.head()"
   ]
  },
  {
   "cell_type": "code",
   "execution_count": 26,
   "metadata": {},
   "outputs": [],
   "source": [
    "#trainingSourceDF.info()"
   ]
  },
  {
   "cell_type": "code",
   "execution_count": 27,
   "metadata": {},
   "outputs": [],
   "source": [
    "trainingSourceDF.rename(columns={\"Q35_Part_1\":\"Self-taught\",\n",
    "                                 \"Q35_Part_2\":\"Online courses\",\n",
    "                                 \"Q35_Part_3\":\"Work\",\n",
    "                                 \"Q35_Part_4\":\"University\",\n",
    "                                 \"Q35_Part_5\":\"Kaggle Competitions\",\n",
    "                                 \"Q35_Part_6\":\"Other\"},\n",
    "                        inplace = True)"
   ]
  },
  {
   "cell_type": "code",
   "execution_count": 28,
   "metadata": {},
   "outputs": [],
   "source": [
    "trainingSourceDF = pd.melt(trainingSourceDF)"
   ]
  },
  {
   "cell_type": "code",
   "execution_count": 29,
   "metadata": {},
   "outputs": [],
   "source": [
    "trainingSourceDF.rename(columns={\"variable\":\"Training-Mode\"},inplace=True)"
   ]
  },
  {
   "cell_type": "code",
   "execution_count": 30,
   "metadata": {},
   "outputs": [],
   "source": [
    "trainingSourceDF.sort_values(\"Training-Mode\",inplace=True)\n",
    "trainingSourceDF.reset_index(drop=True,inplace=True)"
   ]
  },
  {
   "cell_type": "code",
   "execution_count": 31,
   "metadata": {},
   "outputs": [],
   "source": [
    "trainingSourceDF.dropna(inplace=True)\n",
    "trainingSourceDF.reset_index(drop=True,inplace=True)"
   ]
  },
  {
   "cell_type": "code",
   "execution_count": 32,
   "metadata": {},
   "outputs": [],
   "source": [
    "trainingSourceDF['value']=trainingSourceDF.value.astype(float)"
   ]
  },
  {
   "cell_type": "code",
   "execution_count": 33,
   "metadata": {},
   "outputs": [
    {
     "data": {
      "image/png": "[encoded data removed]",
      "text/plain": [
       "<matplotlib.figure.Figure at 0x1a0b9cff98>"
      ]
     },
     "metadata": {},
     "output_type": "display_data"
    }
   ],
   "source": [
    "sns.set(rc={'figure.figsize':(18,15)})\n",
    "sns.barplot(x=\"Training-Mode\", y=\"value\", data=trainingSourceDF)\n",
    "plt.xlabel(\"Training Mode\")\n",
    "ax.get_figure().savefig(\"Training Mode_Distribution.jpeg\")\n",
    "plt.show(ax);"
   ]
  },
  {
   "cell_type": "code",
   "execution_count": 34,
   "metadata": {},
   "outputs": [],
   "source": [
    "trainingSourceDF.to_csv('trainingMode.csv',index=False)"
   ]
  },
  {
   "cell_type": "markdown",
   "metadata": {},
   "source": [
    "### Online resources\n",
    "\n",
    "Following responses are analyzed in this section:\n",
    "\n",
    "*\tQ36_Part_1--On which online platforms have you begun or completed data science courses? (Select all that apply) - Selected Choice - Udacity\n",
    "*\tQ36_Part_2--On which online platforms have you begun or completed data science courses? (Select all that apply) - Selected Choice - Coursera\n",
    "*\tQ36_Part_3--On which online platforms have you begun or completed data science courses? (Select all that apply) - Selected Choice - edX\n",
    "*\tQ36_Part_4--On which online platforms have you begun or completed data science courses? (Select all that apply) - Selected Choice - DataCamp\n",
    "*\tQ36_Part_5--On which online platforms have you begun or completed data science courses? (Select all that apply) - Selected Choice - DataQuest\n",
    "*\tQ36_Part_6--On which online platforms have you begun or completed data science courses? (Select all that apply) - Selected Choice - Kaggle Learn\n",
    "*\tQ36_Part_7--On which online platforms have you begun or completed data science courses? (Select all that apply) - Selected Choice - Fast.AI\n",
    "*\tQ36_Part_8--On which online platforms have you begun or completed data science courses? (Select all that apply) - Selected Choice - developers.google.com\n",
    "*\tQ36_Part_9--On which online platforms have you begun or completed data science courses? (Select all that apply) - Selected Choice - Udemy\n",
    "*\tQ36_Part_10--On which online platforms have you begun or completed data science courses? (Select all that apply) - Selected Choice - TheSchool.AI\n",
    "*\tQ36_Part_11--On which online platforms have you begun or completed data science courses? (Select all that apply) - Selected Choice - Online University Courses\n",
    "*\tQ36_Part_12--On which online platforms have you begun or completed data science courses? (Select all that apply) - Selected Choice - None\n",
    "*\tQ36_Part_13--On which online platforms have you begun or completed data science courses? (Select all that apply) - Selected Choice - Other\n",
    "*\tQ36_OTHER_TEXT--On which online platforms have you begun or completed data science courses? (Select all that apply) - Other - Text\n",
    "\n",
    "\n",
    "*\tQ37--On which online platform have you spent the most amount of time? - Selected Choice\n",
    "*\tQ37_OTHER_TEXT--On which online platform have you spent the most amount of time? - Other - Text"
   ]
  },
  {
   "cell_type": "code",
   "execution_count": 35,
   "metadata": {},
   "outputs": [],
   "source": [
    "multipleChoiceDF = pd.read_csv('../multipleChoiceResponses.csv',low_memory=False)"
   ]
  },
  {
   "cell_type": "code",
   "execution_count": 36,
   "metadata": {},
   "outputs": [],
   "source": [
    "onlineSourceDF = multipleChoiceDF[['Q36_Part_1','Q36_Part_2','Q36_Part_3','Q36_Part_4','Q36_Part_5','Q36_Part_6',\n",
    "                                   'Q36_Part_7','Q36_Part_8','Q36_Part_9','Q36_Part_10','Q36_Part_11','Q36_Part_12',\n",
    "                                   'Q36_Part_13']]"
   ]
  },
  {
   "cell_type": "code",
   "execution_count": 37,
   "metadata": {},
   "outputs": [
    {
     "data": {
      "text/plain": [
       "(23860, 23860)"
      ]
     },
     "execution_count": 37,
     "metadata": {},
     "output_type": "execute_result"
    }
   ],
   "source": [
    "onlineSourceDF.shape[0],multipleChoiceDF.shape[0]"
   ]
  },
  {
   "cell_type": "code",
   "execution_count": 38,
   "metadata": {},
   "outputs": [
    {
     "data": {
      "text/plain": [
       "2922"
      ]
     },
     "execution_count": 38,
     "metadata": {},
     "output_type": "execute_result"
    }
   ],
   "source": [
    "del multipleChoiceDF\n",
    "gc.collect()"
   ]
  },
  {
   "cell_type": "code",
   "execution_count": 39,
   "metadata": {},
   "outputs": [
    {
     "data": {
      "text/html": [
       "<div>\n",
       "<style scoped>\n",
       "    .dataframe tbody tr th:only-of-type {\n",
       "        vertical-align: middle;\n",
       "    }\n",
       "\n",
       "    .dataframe tbody tr th {\n",
       "        vertical-align: top;\n",
       "    }\n",
       "\n",
       "    .dataframe thead th {\n",
       "        text-align: right;\n",
       "    }\n",
       "</style>\n",
       "<table border=\"1\" class=\"dataframe\">\n",
       "  <thead>\n",
       "    <tr style=\"text-align: right;\">\n",
       "      <th></th>\n",
       "      <th>Q36_Part_1</th>\n",
       "      <th>Q36_Part_2</th>\n",
       "      <th>Q36_Part_3</th>\n",
       "      <th>Q36_Part_4</th>\n",
       "      <th>Q36_Part_5</th>\n",
       "      <th>Q36_Part_6</th>\n",
       "      <th>Q36_Part_7</th>\n",
       "      <th>Q36_Part_8</th>\n",
       "      <th>Q36_Part_9</th>\n",
       "      <th>Q36_Part_10</th>\n",
       "      <th>Q36_Part_11</th>\n",
       "      <th>Q36_Part_12</th>\n",
       "      <th>Q36_Part_13</th>\n",
       "    </tr>\n",
       "  </thead>\n",
       "  <tbody>\n",
       "    <tr>\n",
       "      <th>0</th>\n",
       "      <td>On which online platforms have you begun or co...</td>\n",
       "      <td>On which online platforms have you begun or co...</td>\n",
       "      <td>On which online platforms have you begun or co...</td>\n",
       "      <td>On which online platforms have you begun or co...</td>\n",
       "      <td>On which online platforms have you begun or co...</td>\n",
       "      <td>On which online platforms have you begun or co...</td>\n",
       "      <td>On which online platforms have you begun or co...</td>\n",
       "      <td>On which online platforms have you begun or co...</td>\n",
       "      <td>On which online platforms have you begun or co...</td>\n",
       "      <td>On which online platforms have you begun or co...</td>\n",
       "      <td>On which online platforms have you begun or co...</td>\n",
       "      <td>On which online platforms have you begun or co...</td>\n",
       "      <td>On which online platforms have you begun or co...</td>\n",
       "    </tr>\n",
       "    <tr>\n",
       "      <th>1</th>\n",
       "      <td>NaN</td>\n",
       "      <td>NaN</td>\n",
       "      <td>NaN</td>\n",
       "      <td>NaN</td>\n",
       "      <td>NaN</td>\n",
       "      <td>NaN</td>\n",
       "      <td>NaN</td>\n",
       "      <td>NaN</td>\n",
       "      <td>NaN</td>\n",
       "      <td>NaN</td>\n",
       "      <td>NaN</td>\n",
       "      <td>NaN</td>\n",
       "      <td>NaN</td>\n",
       "    </tr>\n",
       "    <tr>\n",
       "      <th>2</th>\n",
       "      <td>NaN</td>\n",
       "      <td>NaN</td>\n",
       "      <td>NaN</td>\n",
       "      <td>NaN</td>\n",
       "      <td>NaN</td>\n",
       "      <td>NaN</td>\n",
       "      <td>NaN</td>\n",
       "      <td>NaN</td>\n",
       "      <td>NaN</td>\n",
       "      <td>NaN</td>\n",
       "      <td>NaN</td>\n",
       "      <td>NaN</td>\n",
       "      <td>NaN</td>\n",
       "    </tr>\n",
       "    <tr>\n",
       "      <th>3</th>\n",
       "      <td>NaN</td>\n",
       "      <td>NaN</td>\n",
       "      <td>NaN</td>\n",
       "      <td>DataCamp</td>\n",
       "      <td>NaN</td>\n",
       "      <td>NaN</td>\n",
       "      <td>NaN</td>\n",
       "      <td>NaN</td>\n",
       "      <td>Udemy</td>\n",
       "      <td>NaN</td>\n",
       "      <td>NaN</td>\n",
       "      <td>NaN</td>\n",
       "      <td>NaN</td>\n",
       "    </tr>\n",
       "    <tr>\n",
       "      <th>4</th>\n",
       "      <td>NaN</td>\n",
       "      <td>Coursera</td>\n",
       "      <td>edX</td>\n",
       "      <td>NaN</td>\n",
       "      <td>NaN</td>\n",
       "      <td>NaN</td>\n",
       "      <td>NaN</td>\n",
       "      <td>NaN</td>\n",
       "      <td>NaN</td>\n",
       "      <td>NaN</td>\n",
       "      <td>NaN</td>\n",
       "      <td>NaN</td>\n",
       "      <td>NaN</td>\n",
       "    </tr>\n",
       "  </tbody>\n",
       "</table>\n",
       "</div>"
      ],
      "text/plain": [
       "                                          Q36_Part_1  \\\n",
       "0  On which online platforms have you begun or co...   \n",
       "1                                                NaN   \n",
       "2                                                NaN   \n",
       "3                                                NaN   \n",
       "4                                                NaN   \n",
       "\n",
       "                                          Q36_Part_2  \\\n",
       "0  On which online platforms have you begun or co...   \n",
       "1                                                NaN   \n",
       "2                                                NaN   \n",
       "3                                                NaN   \n",
       "4                                           Coursera   \n",
       "\n",
       "                                          Q36_Part_3  \\\n",
       "0  On which online platforms have you begun or co...   \n",
       "1                                                NaN   \n",
       "2                                                NaN   \n",
       "3                                                NaN   \n",
       "4                                                edX   \n",
       "\n",
       "                                          Q36_Part_4  \\\n",
       "0  On which online platforms have you begun or co...   \n",
       "1                                                NaN   \n",
       "2                                                NaN   \n",
       "3                                           DataCamp   \n",
       "4                                                NaN   \n",
       "\n",
       "                                          Q36_Part_5  \\\n",
       "0  On which online platforms have you begun or co...   \n",
       "1                                                NaN   \n",
       "2                                                NaN   \n",
       "3                                                NaN   \n",
       "4                                                NaN   \n",
       "\n",
       "                                          Q36_Part_6  \\\n",
       "0  On which online platforms have you begun or co...   \n",
       "1                                                NaN   \n",
       "2                                                NaN   \n",
       "3                                                NaN   \n",
       "4                                                NaN   \n",
       "\n",
       "                                          Q36_Part_7  \\\n",
       "0  On which online platforms have you begun or co...   \n",
       "1                                                NaN   \n",
       "2                                                NaN   \n",
       "3                                                NaN   \n",
       "4                                                NaN   \n",
       "\n",
       "                                          Q36_Part_8  \\\n",
       "0  On which online platforms have you begun or co...   \n",
       "1                                                NaN   \n",
       "2                                                NaN   \n",
       "3                                                NaN   \n",
       "4                                                NaN   \n",
       "\n",
       "                                          Q36_Part_9  \\\n",
       "0  On which online platforms have you begun or co...   \n",
       "1                                                NaN   \n",
       "2                                                NaN   \n",
       "3                                              Udemy   \n",
       "4                                                NaN   \n",
       "\n",
       "                                         Q36_Part_10  \\\n",
       "0  On which online platforms have you begun or co...   \n",
       "1                                                NaN   \n",
       "2                                                NaN   \n",
       "3                                                NaN   \n",
       "4                                                NaN   \n",
       "\n",
       "                                         Q36_Part_11  \\\n",
       "0  On which online platforms have you begun or co...   \n",
       "1                                                NaN   \n",
       "2                                                NaN   \n",
       "3                                                NaN   \n",
       "4                                                NaN   \n",
       "\n",
       "                                         Q36_Part_12  \\\n",
       "0  On which online platforms have you begun or co...   \n",
       "1                                                NaN   \n",
       "2                                                NaN   \n",
       "3                                                NaN   \n",
       "4                                                NaN   \n",
       "\n",
       "                                         Q36_Part_13  \n",
       "0  On which online platforms have you begun or co...  \n",
       "1                                                NaN  \n",
       "2                                                NaN  \n",
       "3                                                NaN  \n",
       "4                                                NaN  "
      ]
     },
     "execution_count": 39,
     "metadata": {},
     "output_type": "execute_result"
    }
   ],
   "source": [
    "onlineSourceDF.head()"
   ]
  },
  {
   "cell_type": "code",
   "execution_count": 40,
   "metadata": {},
   "outputs": [],
   "source": [
    "onlineSourceDF.drop([0],inplace=True)\n",
    "onlineSourceDF.reset_index(drop=True,inplace=True)"
   ]
  },
  {
   "cell_type": "code",
   "execution_count": 41,
   "metadata": {},
   "outputs": [
    {
     "data": {
      "text/html": [
       "<div>\n",
       "<style scoped>\n",
       "    .dataframe tbody tr th:only-of-type {\n",
       "        vertical-align: middle;\n",
       "    }\n",
       "\n",
       "    .dataframe tbody tr th {\n",
       "        vertical-align: top;\n",
       "    }\n",
       "\n",
       "    .dataframe thead th {\n",
       "        text-align: right;\n",
       "    }\n",
       "</style>\n",
       "<table border=\"1\" class=\"dataframe\">\n",
       "  <thead>\n",
       "    <tr style=\"text-align: right;\">\n",
       "      <th></th>\n",
       "      <th>Q36_Part_1</th>\n",
       "      <th>Q36_Part_2</th>\n",
       "      <th>Q36_Part_3</th>\n",
       "      <th>Q36_Part_4</th>\n",
       "      <th>Q36_Part_5</th>\n",
       "      <th>Q36_Part_6</th>\n",
       "      <th>Q36_Part_7</th>\n",
       "      <th>Q36_Part_8</th>\n",
       "      <th>Q36_Part_9</th>\n",
       "      <th>Q36_Part_10</th>\n",
       "      <th>Q36_Part_11</th>\n",
       "      <th>Q36_Part_12</th>\n",
       "      <th>Q36_Part_13</th>\n",
       "    </tr>\n",
       "  </thead>\n",
       "  <tbody>\n",
       "    <tr>\n",
       "      <th>0</th>\n",
       "      <td>NaN</td>\n",
       "      <td>NaN</td>\n",
       "      <td>NaN</td>\n",
       "      <td>NaN</td>\n",
       "      <td>NaN</td>\n",
       "      <td>NaN</td>\n",
       "      <td>NaN</td>\n",
       "      <td>NaN</td>\n",
       "      <td>NaN</td>\n",
       "      <td>NaN</td>\n",
       "      <td>NaN</td>\n",
       "      <td>NaN</td>\n",
       "      <td>NaN</td>\n",
       "    </tr>\n",
       "    <tr>\n",
       "      <th>1</th>\n",
       "      <td>NaN</td>\n",
       "      <td>NaN</td>\n",
       "      <td>NaN</td>\n",
       "      <td>NaN</td>\n",
       "      <td>NaN</td>\n",
       "      <td>NaN</td>\n",
       "      <td>NaN</td>\n",
       "      <td>NaN</td>\n",
       "      <td>NaN</td>\n",
       "      <td>NaN</td>\n",
       "      <td>NaN</td>\n",
       "      <td>NaN</td>\n",
       "      <td>NaN</td>\n",
       "    </tr>\n",
       "    <tr>\n",
       "      <th>2</th>\n",
       "      <td>NaN</td>\n",
       "      <td>NaN</td>\n",
       "      <td>NaN</td>\n",
       "      <td>DataCamp</td>\n",
       "      <td>NaN</td>\n",
       "      <td>NaN</td>\n",
       "      <td>NaN</td>\n",
       "      <td>NaN</td>\n",
       "      <td>Udemy</td>\n",
       "      <td>NaN</td>\n",
       "      <td>NaN</td>\n",
       "      <td>NaN</td>\n",
       "      <td>NaN</td>\n",
       "    </tr>\n",
       "    <tr>\n",
       "      <th>3</th>\n",
       "      <td>NaN</td>\n",
       "      <td>Coursera</td>\n",
       "      <td>edX</td>\n",
       "      <td>NaN</td>\n",
       "      <td>NaN</td>\n",
       "      <td>NaN</td>\n",
       "      <td>NaN</td>\n",
       "      <td>NaN</td>\n",
       "      <td>NaN</td>\n",
       "      <td>NaN</td>\n",
       "      <td>NaN</td>\n",
       "      <td>NaN</td>\n",
       "      <td>NaN</td>\n",
       "    </tr>\n",
       "    <tr>\n",
       "      <th>4</th>\n",
       "      <td>Udacity</td>\n",
       "      <td>Coursera</td>\n",
       "      <td>edX</td>\n",
       "      <td>DataCamp</td>\n",
       "      <td>NaN</td>\n",
       "      <td>NaN</td>\n",
       "      <td>NaN</td>\n",
       "      <td>NaN</td>\n",
       "      <td>NaN</td>\n",
       "      <td>NaN</td>\n",
       "      <td>NaN</td>\n",
       "      <td>NaN</td>\n",
       "      <td>NaN</td>\n",
       "    </tr>\n",
       "  </tbody>\n",
       "</table>\n",
       "</div>"
      ],
      "text/plain": [
       "  Q36_Part_1 Q36_Part_2 Q36_Part_3 Q36_Part_4 Q36_Part_5 Q36_Part_6  \\\n",
       "0        NaN        NaN        NaN        NaN        NaN        NaN   \n",
       "1        NaN        NaN        NaN        NaN        NaN        NaN   \n",
       "2        NaN        NaN        NaN   DataCamp        NaN        NaN   \n",
       "3        NaN   Coursera        edX        NaN        NaN        NaN   \n",
       "4    Udacity   Coursera        edX   DataCamp        NaN        NaN   \n",
       "\n",
       "  Q36_Part_7 Q36_Part_8 Q36_Part_9 Q36_Part_10 Q36_Part_11 Q36_Part_12  \\\n",
       "0        NaN        NaN        NaN         NaN         NaN         NaN   \n",
       "1        NaN        NaN        NaN         NaN         NaN         NaN   \n",
       "2        NaN        NaN      Udemy         NaN         NaN         NaN   \n",
       "3        NaN        NaN        NaN         NaN         NaN         NaN   \n",
       "4        NaN        NaN        NaN         NaN         NaN         NaN   \n",
       "\n",
       "  Q36_Part_13  \n",
       "0         NaN  \n",
       "1         NaN  \n",
       "2         NaN  \n",
       "3         NaN  \n",
       "4         NaN  "
      ]
     },
     "execution_count": 41,
     "metadata": {},
     "output_type": "execute_result"
    }
   ],
   "source": [
    "onlineSourceDF.head()"
   ]
  },
  {
   "cell_type": "code",
   "execution_count": 42,
   "metadata": {},
   "outputs": [],
   "source": [
    "onlineSourceDF = onlineSourceDF.melt()"
   ]
  },
  {
   "cell_type": "code",
   "execution_count": 43,
   "metadata": {},
   "outputs": [
    {
     "data": {
      "text/html": [
       "<div>\n",
       "<style scoped>\n",
       "    .dataframe tbody tr th:only-of-type {\n",
       "        vertical-align: middle;\n",
       "    }\n",
       "\n",
       "    .dataframe tbody tr th {\n",
       "        vertical-align: top;\n",
       "    }\n",
       "\n",
       "    .dataframe thead th {\n",
       "        text-align: right;\n",
       "    }\n",
       "</style>\n",
       "<table border=\"1\" class=\"dataframe\">\n",
       "  <thead>\n",
       "    <tr style=\"text-align: right;\">\n",
       "      <th></th>\n",
       "      <th>variable</th>\n",
       "      <th>value</th>\n",
       "    </tr>\n",
       "  </thead>\n",
       "  <tbody>\n",
       "    <tr>\n",
       "      <th>0</th>\n",
       "      <td>Q36_Part_1</td>\n",
       "      <td>NaN</td>\n",
       "    </tr>\n",
       "    <tr>\n",
       "      <th>1</th>\n",
       "      <td>Q36_Part_1</td>\n",
       "      <td>NaN</td>\n",
       "    </tr>\n",
       "    <tr>\n",
       "      <th>2</th>\n",
       "      <td>Q36_Part_1</td>\n",
       "      <td>NaN</td>\n",
       "    </tr>\n",
       "    <tr>\n",
       "      <th>3</th>\n",
       "      <td>Q36_Part_1</td>\n",
       "      <td>NaN</td>\n",
       "    </tr>\n",
       "    <tr>\n",
       "      <th>4</th>\n",
       "      <td>Q36_Part_1</td>\n",
       "      <td>Udacity</td>\n",
       "    </tr>\n",
       "  </tbody>\n",
       "</table>\n",
       "</div>"
      ],
      "text/plain": [
       "     variable    value\n",
       "0  Q36_Part_1      NaN\n",
       "1  Q36_Part_1      NaN\n",
       "2  Q36_Part_1      NaN\n",
       "3  Q36_Part_1      NaN\n",
       "4  Q36_Part_1  Udacity"
      ]
     },
     "execution_count": 43,
     "metadata": {},
     "output_type": "execute_result"
    }
   ],
   "source": [
    "onlineSourceDF.head()"
   ]
  },
  {
   "cell_type": "code",
   "execution_count": 44,
   "metadata": {},
   "outputs": [],
   "source": [
    "onlineSourceDF.drop(columns=['variable'],inplace=True)"
   ]
  },
  {
   "cell_type": "code",
   "execution_count": 45,
   "metadata": {},
   "outputs": [],
   "source": [
    "onlineSourceDF.dropna(inplace=True)"
   ]
  },
  {
   "cell_type": "code",
   "execution_count": 46,
   "metadata": {},
   "outputs": [
    {
     "data": {
      "text/plain": [
       "(37711, 1)"
      ]
     },
     "execution_count": 46,
     "metadata": {},
     "output_type": "execute_result"
    }
   ],
   "source": [
    "onlineSourceDF.shape"
   ]
  },
  {
   "cell_type": "code",
   "execution_count": 47,
   "metadata": {},
   "outputs": [],
   "source": [
    "onlineSourceDF.rename(columns={'value':'Online_Source'},inplace=True)"
   ]
  },
  {
   "cell_type": "code",
   "execution_count": 48,
   "metadata": {},
   "outputs": [
    {
     "data": {
      "image/png": "[encoded data removed]",
      "text/plain": [
       "<matplotlib.figure.Figure at 0x1a0b55d198>"
      ]
     },
     "metadata": {},
     "output_type": "display_data"
    }
   ],
   "source": [
    "sns.set(rc={'figure.figsize':(25,15)})\n",
    "sns.countplot(x = onlineSourceDF.Online_Source)\n",
    "plt.xlabel(\"Online Source\")\n",
    "ax.get_figure().savefig(\"Online Source Distribution.jpeg\")\n",
    "plt.show(ax);"
   ]
  },
  {
   "cell_type": "code",
   "execution_count": 49,
   "metadata": {},
   "outputs": [],
   "source": [
    "onlineSourceDF.to_csv(\"online_source.csv\",index=False)"
   ]
  },
  {
   "cell_type": "code",
   "execution_count": 50,
   "metadata": {},
   "outputs": [
    {
     "data": {
      "text/plain": [
       "3202"
      ]
     },
     "execution_count": 50,
     "metadata": {},
     "output_type": "execute_result"
    }
   ],
   "source": [
    "del onlineSourceDF\n",
    "gc.collect()"
   ]
  },
  {
   "cell_type": "code",
   "execution_count": 51,
   "metadata": {},
   "outputs": [],
   "source": [
    "multipleChoiceDF = pd.read_csv('../multipleChoiceResponses.csv',low_memory=False)"
   ]
  },
  {
   "cell_type": "code",
   "execution_count": 52,
   "metadata": {},
   "outputs": [],
   "source": [
    "onlineSourceDF = pd.DataFrame(multipleChoiceDF['Q37'])"
   ]
  },
  {
   "cell_type": "code",
   "execution_count": 53,
   "metadata": {},
   "outputs": [
    {
     "data": {
      "text/plain": [
       "7"
      ]
     },
     "execution_count": 53,
     "metadata": {},
     "output_type": "execute_result"
    }
   ],
   "source": [
    "del multipleChoiceDF\n",
    "gc.collect()"
   ]
  },
  {
   "cell_type": "code",
   "execution_count": 54,
   "metadata": {},
   "outputs": [
    {
     "data": {
      "text/html": [
       "<div>\n",
       "<style scoped>\n",
       "    .dataframe tbody tr th:only-of-type {\n",
       "        vertical-align: middle;\n",
       "    }\n",
       "\n",
       "    .dataframe tbody tr th {\n",
       "        vertical-align: top;\n",
       "    }\n",
       "\n",
       "    .dataframe thead th {\n",
       "        text-align: right;\n",
       "    }\n",
       "</style>\n",
       "<table border=\"1\" class=\"dataframe\">\n",
       "  <thead>\n",
       "    <tr style=\"text-align: right;\">\n",
       "      <th></th>\n",
       "      <th>Q37</th>\n",
       "    </tr>\n",
       "  </thead>\n",
       "  <tbody>\n",
       "    <tr>\n",
       "      <th>0</th>\n",
       "      <td>On which online platform have you spent the mo...</td>\n",
       "    </tr>\n",
       "    <tr>\n",
       "      <th>1</th>\n",
       "      <td>NaN</td>\n",
       "    </tr>\n",
       "    <tr>\n",
       "      <th>2</th>\n",
       "      <td>NaN</td>\n",
       "    </tr>\n",
       "    <tr>\n",
       "      <th>3</th>\n",
       "      <td>DataCamp</td>\n",
       "    </tr>\n",
       "    <tr>\n",
       "      <th>4</th>\n",
       "      <td>Coursera</td>\n",
       "    </tr>\n",
       "  </tbody>\n",
       "</table>\n",
       "</div>"
      ],
      "text/plain": [
       "                                                 Q37\n",
       "0  On which online platform have you spent the mo...\n",
       "1                                                NaN\n",
       "2                                                NaN\n",
       "3                                           DataCamp\n",
       "4                                           Coursera"
      ]
     },
     "execution_count": 54,
     "metadata": {},
     "output_type": "execute_result"
    }
   ],
   "source": [
    "onlineSourceDF.head()"
   ]
  },
  {
   "cell_type": "code",
   "execution_count": 55,
   "metadata": {},
   "outputs": [],
   "source": [
    "onlineSourceDF.drop([0],inplace=True)\n",
    "onlineSourceDF.reset_index(drop=True,inplace=True)"
   ]
  },
  {
   "cell_type": "code",
   "execution_count": 56,
   "metadata": {},
   "outputs": [
    {
     "data": {
      "text/html": [
       "<div>\n",
       "<style scoped>\n",
       "    .dataframe tbody tr th:only-of-type {\n",
       "        vertical-align: middle;\n",
       "    }\n",
       "\n",
       "    .dataframe tbody tr th {\n",
       "        vertical-align: top;\n",
       "    }\n",
       "\n",
       "    .dataframe thead th {\n",
       "        text-align: right;\n",
       "    }\n",
       "</style>\n",
       "<table border=\"1\" class=\"dataframe\">\n",
       "  <thead>\n",
       "    <tr style=\"text-align: right;\">\n",
       "      <th></th>\n",
       "      <th>Q37</th>\n",
       "    </tr>\n",
       "  </thead>\n",
       "  <tbody>\n",
       "    <tr>\n",
       "      <th>0</th>\n",
       "      <td>NaN</td>\n",
       "    </tr>\n",
       "    <tr>\n",
       "      <th>1</th>\n",
       "      <td>NaN</td>\n",
       "    </tr>\n",
       "    <tr>\n",
       "      <th>2</th>\n",
       "      <td>DataCamp</td>\n",
       "    </tr>\n",
       "    <tr>\n",
       "      <th>3</th>\n",
       "      <td>Coursera</td>\n",
       "    </tr>\n",
       "    <tr>\n",
       "      <th>4</th>\n",
       "      <td>Coursera</td>\n",
       "    </tr>\n",
       "  </tbody>\n",
       "</table>\n",
       "</div>"
      ],
      "text/plain": [
       "        Q37\n",
       "0       NaN\n",
       "1       NaN\n",
       "2  DataCamp\n",
       "3  Coursera\n",
       "4  Coursera"
      ]
     },
     "execution_count": 56,
     "metadata": {},
     "output_type": "execute_result"
    }
   ],
   "source": [
    "onlineSourceDF.head()"
   ]
  },
  {
   "cell_type": "code",
   "execution_count": 57,
   "metadata": {},
   "outputs": [],
   "source": [
    "onlineSourceDF = pd.melt(onlineSourceDF)"
   ]
  },
  {
   "cell_type": "code",
   "execution_count": 58,
   "metadata": {},
   "outputs": [],
   "source": [
    "onlineSourceDF.drop(columns=['variable'],inplace=True)"
   ]
  },
  {
   "cell_type": "code",
   "execution_count": 59,
   "metadata": {},
   "outputs": [],
   "source": [
    "onlineSourceDF.dropna(inplace=True)\n",
    "onlineSourceDF.reset_index(drop=True,inplace=True)"
   ]
  },
  {
   "cell_type": "code",
   "execution_count": 60,
   "metadata": {},
   "outputs": [],
   "source": [
    "onlineSourceDF.rename(columns={'value':'Online_Favorite'},inplace=True)"
   ]
  },
  {
   "cell_type": "code",
   "execution_count": 61,
   "metadata": {},
   "outputs": [
    {
     "data": {
      "image/png": "[encoded data removed]",
      "text/plain": [
       "<matplotlib.figure.Figure at 0x104429dd8>"
      ]
     },
     "metadata": {},
     "output_type": "display_data"
    }
   ],
   "source": [
    "sns.set(rc={'figure.figsize':(25,15)})\n",
    "sns.countplot(x = onlineSourceDF.Online_Favorite)\n",
    "plt.xlabel(\"Online Favorite\")\n",
    "ax.get_figure().savefig(\"Online Favorite Distribution.jpeg\")\n",
    "plt.show(ax);"
   ]
  },
  {
   "cell_type": "code",
   "execution_count": 62,
   "metadata": {},
   "outputs": [],
   "source": [
    "onlineSourceDF.to_csv(\"online_favorite.csv\",index=False)"
   ]
  },
  {
   "cell_type": "code",
   "execution_count": 63,
   "metadata": {},
   "outputs": [
    {
     "data": {
      "text/plain": [
       "3276"
      ]
     },
     "execution_count": 63,
     "metadata": {},
     "output_type": "execute_result"
    }
   ],
   "source": [
    "del onlineSourceDF\n",
    "gc.collect()"
   ]
  },
  {
   "cell_type": "markdown",
   "metadata": {},
   "source": [
    "### Media resources\n",
    "\n",
    "Following responses are analyzed in this section:\n",
    "\n",
    "*\tQ38_Part_1--Who/what are your favorite media sources that report on data science topics? (Select all that apply) - Selected Choice - Twitter\n",
    "*\tQ38_Part_2--Who/what are your favorite media sources that report on data science topics? (Select all that apply) - Selected Choice - Hacker News\n",
    "*\tQ38_Part_3--Who/what are your favorite media sources that report on data science topics? (Select all that apply) - Selected Choice - r/machinelearning\n",
    "*\tQ38_Part_4--Who/what are your favorite media sources that report on data science topics? (Select all that apply) - Selected Choice - Kaggle forums\n",
    "*\tQ38_Part_5--Who/what are your favorite media sources that report on data science topics? (Select all that apply) - Selected Choice - Fastai forums\n",
    "*\tQ38_Part_6--Who/what are your favorite media sources that report on data science topics? (Select all that apply) - Selected Choice - Siraj Raval YouTube Channel\n",
    "*\tQ38_Part_7--Who/what are your favorite media sources that report on data science topics? (Select all that apply) - Selected Choice - DataTau News Aggregator\n",
    "*\tQ38_Part_8--Who/what are your favorite media sources that report on data science topics? (Select all that apply) - Selected Choice - Linear Digressions Podcast\n",
    "*\tQ38_Part_9--Who/what are your favorite media sources that report on data science topics? (Select all that apply) - Selected Choice - Cloud AI Adventures (YouTube)\n",
    "*\tQ38_Part_10--Who/what are your favorite media sources that report on data science topics? (Select all that apply) - Selected Choice - FiveThirtyEight.com\n",
    "*\tQ38_Part_11--Who/what are your favorite media sources that report on data science topics? (Select all that apply) - Selected Choice - ArXiv & Preprints\n",
    "*\tQ38_Part_12--Who/what are your favorite media sources that report on data science topics? (Select all that apply) - Selected Choice - Journal Publications\n",
    "*\tQ38_Part_13--Who/what are your favorite media sources that report on data science topics? (Select all that apply) - Selected Choice - FastML Blog\n",
    "*\tQ38_Part_14--Who/what are your favorite media sources that report on data science topics? (Select all that apply) - Selected Choice - KDnuggets Blog\n",
    "*\tQ38_Part_15--Who/what are your favorite media sources that report on data science topics? (Select all that apply) - Selected Choice - O'Reilly Data Newsletter\n",
    "*\tQ38_Part_16--Who/what are your favorite media sources that report on data science topics? (Select all that apply) - Selected Choice - Partially Derivative Podcast\n",
    "*\tQ38_Part_17--Who/what are your favorite media sources that report on data science topics? (Select all that apply) - Selected Choice - The Data Skeptic Podcast\n",
    "*\tQ38_Part_18--Who/what are your favorite media sources that report on data science topics? (Select all that apply) - Selected Choice - Medium Blog Posts\n",
    "*\tQ38_Part_19--Who/what are your favorite media sources that report on data science topics? (Select all that apply) - Selected Choice - Towards Data Science Blog\n",
    "*\tQ38_Part_20--Who/what are your favorite media sources that report on data science topics? (Select all that apply) - Selected Choice - Analytics Vidhya Blog\n",
    "*\tQ38_Part_21--Who/what are your favorite media sources that report on data science topics? (Select all that apply) - Selected Choice - None/I do not know\n",
    "*\tQ38_Part_22--Who/what are your favorite media sources that report on data science topics? (Select all that apply) - Selected Choice - Other\n",
    "*\tQ38_OTHER_TEXT--Who/what are your favorite media sources that report on data science topics? (Select all that apply) - Other - Text"
   ]
  },
  {
   "cell_type": "code",
   "execution_count": 64,
   "metadata": {},
   "outputs": [],
   "source": [
    "multipleChoiceDF = pd.read_csv('../multipleChoiceResponses.csv',low_memory=False)"
   ]
  },
  {
   "cell_type": "code",
   "execution_count": 65,
   "metadata": {},
   "outputs": [],
   "source": [
    "mediaSourcesDF = multipleChoiceDF[['Q38_Part_1','Q38_Part_2','Q38_Part_3','Q38_Part_4','Q38_Part_5','Q38_Part_6',\n",
    "                                  'Q38_Part_7','Q38_Part_8','Q38_Part_9','Q38_Part_10','Q38_Part_11','Q38_Part_12',\n",
    "                                  'Q38_Part_13','Q38_Part_14','Q38_Part_15','Q38_Part_16','Q38_Part_17','Q38_Part_18',\n",
    "                                  'Q38_Part_19','Q38_Part_20','Q38_Part_21','Q38_Part_22']]"
   ]
  },
  {
   "cell_type": "code",
   "execution_count": 66,
   "metadata": {},
   "outputs": [
    {
     "data": {
      "text/plain": [
       "(23860, 23860)"
      ]
     },
     "execution_count": 66,
     "metadata": {},
     "output_type": "execute_result"
    }
   ],
   "source": [
    "mediaSourcesDF.shape[0],multipleChoiceDF.shape[0]"
   ]
  },
  {
   "cell_type": "code",
   "execution_count": 67,
   "metadata": {},
   "outputs": [
    {
     "data": {
      "text/plain": [
       "17"
      ]
     },
     "execution_count": 67,
     "metadata": {},
     "output_type": "execute_result"
    }
   ],
   "source": [
    "del multipleChoiceDF\n",
    "gc.collect()"
   ]
  },
  {
   "cell_type": "code",
   "execution_count": 68,
   "metadata": {},
   "outputs": [
    {
     "data": {
      "text/html": [
       "<div>\n",
       "<style scoped>\n",
       "    .dataframe tbody tr th:only-of-type {\n",
       "        vertical-align: middle;\n",
       "    }\n",
       "\n",
       "    .dataframe tbody tr th {\n",
       "        vertical-align: top;\n",
       "    }\n",
       "\n",
       "    .dataframe thead th {\n",
       "        text-align: right;\n",
       "    }\n",
       "</style>\n",
       "<table border=\"1\" class=\"dataframe\">\n",
       "  <thead>\n",
       "    <tr style=\"text-align: right;\">\n",
       "      <th></th>\n",
       "      <th>Q38_Part_1</th>\n",
       "      <th>Q38_Part_2</th>\n",
       "      <th>Q38_Part_3</th>\n",
       "      <th>Q38_Part_4</th>\n",
       "      <th>Q38_Part_5</th>\n",
       "      <th>Q38_Part_6</th>\n",
       "      <th>Q38_Part_7</th>\n",
       "      <th>Q38_Part_8</th>\n",
       "      <th>Q38_Part_9</th>\n",
       "      <th>Q38_Part_10</th>\n",
       "      <th>...</th>\n",
       "      <th>Q38_Part_13</th>\n",
       "      <th>Q38_Part_14</th>\n",
       "      <th>Q38_Part_15</th>\n",
       "      <th>Q38_Part_16</th>\n",
       "      <th>Q38_Part_17</th>\n",
       "      <th>Q38_Part_18</th>\n",
       "      <th>Q38_Part_19</th>\n",
       "      <th>Q38_Part_20</th>\n",
       "      <th>Q38_Part_21</th>\n",
       "      <th>Q38_Part_22</th>\n",
       "    </tr>\n",
       "  </thead>\n",
       "  <tbody>\n",
       "    <tr>\n",
       "      <th>0</th>\n",
       "      <td>Who/what are your favorite media sources that ...</td>\n",
       "      <td>Who/what are your favorite media sources that ...</td>\n",
       "      <td>Who/what are your favorite media sources that ...</td>\n",
       "      <td>Who/what are your favorite media sources that ...</td>\n",
       "      <td>Who/what are your favorite media sources that ...</td>\n",
       "      <td>Who/what are your favorite media sources that ...</td>\n",
       "      <td>Who/what are your favorite media sources that ...</td>\n",
       "      <td>Who/what are your favorite media sources that ...</td>\n",
       "      <td>Who/what are your favorite media sources that ...</td>\n",
       "      <td>Who/what are your favorite media sources that ...</td>\n",
       "      <td>...</td>\n",
       "      <td>Who/what are your favorite media sources that ...</td>\n",
       "      <td>Who/what are your favorite media sources that ...</td>\n",
       "      <td>Who/what are your favorite media sources that ...</td>\n",
       "      <td>Who/what are your favorite media sources that ...</td>\n",
       "      <td>Who/what are your favorite media sources that ...</td>\n",
       "      <td>Who/what are your favorite media sources that ...</td>\n",
       "      <td>Who/what are your favorite media sources that ...</td>\n",
       "      <td>Who/what are your favorite media sources that ...</td>\n",
       "      <td>Who/what are your favorite media sources that ...</td>\n",
       "      <td>Who/what are your favorite media sources that ...</td>\n",
       "    </tr>\n",
       "    <tr>\n",
       "      <th>1</th>\n",
       "      <td>Twitter</td>\n",
       "      <td>NaN</td>\n",
       "      <td>NaN</td>\n",
       "      <td>NaN</td>\n",
       "      <td>NaN</td>\n",
       "      <td>NaN</td>\n",
       "      <td>NaN</td>\n",
       "      <td>NaN</td>\n",
       "      <td>NaN</td>\n",
       "      <td>NaN</td>\n",
       "      <td>...</td>\n",
       "      <td>NaN</td>\n",
       "      <td>NaN</td>\n",
       "      <td>NaN</td>\n",
       "      <td>NaN</td>\n",
       "      <td>NaN</td>\n",
       "      <td>NaN</td>\n",
       "      <td>NaN</td>\n",
       "      <td>NaN</td>\n",
       "      <td>NaN</td>\n",
       "      <td>NaN</td>\n",
       "    </tr>\n",
       "    <tr>\n",
       "      <th>2</th>\n",
       "      <td>NaN</td>\n",
       "      <td>NaN</td>\n",
       "      <td>NaN</td>\n",
       "      <td>NaN</td>\n",
       "      <td>NaN</td>\n",
       "      <td>NaN</td>\n",
       "      <td>NaN</td>\n",
       "      <td>NaN</td>\n",
       "      <td>NaN</td>\n",
       "      <td>NaN</td>\n",
       "      <td>...</td>\n",
       "      <td>NaN</td>\n",
       "      <td>NaN</td>\n",
       "      <td>NaN</td>\n",
       "      <td>NaN</td>\n",
       "      <td>NaN</td>\n",
       "      <td>NaN</td>\n",
       "      <td>NaN</td>\n",
       "      <td>NaN</td>\n",
       "      <td>None/I do not know</td>\n",
       "      <td>NaN</td>\n",
       "    </tr>\n",
       "    <tr>\n",
       "      <th>3</th>\n",
       "      <td>Twitter</td>\n",
       "      <td>NaN</td>\n",
       "      <td>NaN</td>\n",
       "      <td>NaN</td>\n",
       "      <td>NaN</td>\n",
       "      <td>NaN</td>\n",
       "      <td>NaN</td>\n",
       "      <td>NaN</td>\n",
       "      <td>NaN</td>\n",
       "      <td>NaN</td>\n",
       "      <td>...</td>\n",
       "      <td>NaN</td>\n",
       "      <td>NaN</td>\n",
       "      <td>NaN</td>\n",
       "      <td>NaN</td>\n",
       "      <td>NaN</td>\n",
       "      <td>NaN</td>\n",
       "      <td>NaN</td>\n",
       "      <td>NaN</td>\n",
       "      <td>NaN</td>\n",
       "      <td>NaN</td>\n",
       "    </tr>\n",
       "    <tr>\n",
       "      <th>4</th>\n",
       "      <td>NaN</td>\n",
       "      <td>NaN</td>\n",
       "      <td>NaN</td>\n",
       "      <td>NaN</td>\n",
       "      <td>NaN</td>\n",
       "      <td>NaN</td>\n",
       "      <td>NaN</td>\n",
       "      <td>NaN</td>\n",
       "      <td>NaN</td>\n",
       "      <td>NaN</td>\n",
       "      <td>...</td>\n",
       "      <td>NaN</td>\n",
       "      <td>NaN</td>\n",
       "      <td>NaN</td>\n",
       "      <td>NaN</td>\n",
       "      <td>NaN</td>\n",
       "      <td>NaN</td>\n",
       "      <td>NaN</td>\n",
       "      <td>NaN</td>\n",
       "      <td>None/I do not know</td>\n",
       "      <td>NaN</td>\n",
       "    </tr>\n",
       "  </tbody>\n",
       "</table>\n",
       "<p>5 rows × 22 columns</p>\n",
       "</div>"
      ],
      "text/plain": [
       "                                          Q38_Part_1  \\\n",
       "0  Who/what are your favorite media sources that ...   \n",
       "1                                            Twitter   \n",
       "2                                                NaN   \n",
       "3                                            Twitter   \n",
       "4                                                NaN   \n",
       "\n",
       "                                          Q38_Part_2  \\\n",
       "0  Who/what are your favorite media sources that ...   \n",
       "1                                                NaN   \n",
       "2                                                NaN   \n",
       "3                                                NaN   \n",
       "4                                                NaN   \n",
       "\n",
       "                                          Q38_Part_3  \\\n",
       "0  Who/what are your favorite media sources that ...   \n",
       "1                                                NaN   \n",
       "2                                                NaN   \n",
       "3                                                NaN   \n",
       "4                                                NaN   \n",
       "\n",
       "                                          Q38_Part_4  \\\n",
       "0  Who/what are your favorite media sources that ...   \n",
       "1                                                NaN   \n",
       "2                                                NaN   \n",
       "3                                                NaN   \n",
       "4                                                NaN   \n",
       "\n",
       "                                          Q38_Part_5  \\\n",
       "0  Who/what are your favorite media sources that ...   \n",
       "1                                                NaN   \n",
       "2                                                NaN   \n",
       "3                                                NaN   \n",
       "4                                                NaN   \n",
       "\n",
       "                                          Q38_Part_6  \\\n",
       "0  Who/what are your favorite media sources that ...   \n",
       "1                                                NaN   \n",
       "2                                                NaN   \n",
       "3                                                NaN   \n",
       "4                                                NaN   \n",
       "\n",
       "                                          Q38_Part_7  \\\n",
       "0  Who/what are your favorite media sources that ...   \n",
       "1                                                NaN   \n",
       "2                                                NaN   \n",
       "3                                                NaN   \n",
       "4                                                NaN   \n",
       "\n",
       "                                          Q38_Part_8  \\\n",
       "0  Who/what are your favorite media sources that ...   \n",
       "1                                                NaN   \n",
       "2                                                NaN   \n",
       "3                                                NaN   \n",
       "4                                                NaN   \n",
       "\n",
       "                                          Q38_Part_9  \\\n",
       "0  Who/what are your favorite media sources that ...   \n",
       "1                                                NaN   \n",
       "2                                                NaN   \n",
       "3                                                NaN   \n",
       "4                                                NaN   \n",
       "\n",
       "                                         Q38_Part_10  \\\n",
       "0  Who/what are your favorite media sources that ...   \n",
       "1                                                NaN   \n",
       "2                                                NaN   \n",
       "3                                                NaN   \n",
       "4                                                NaN   \n",
       "\n",
       "                         ...                          \\\n",
       "0                        ...                           \n",
       "1                        ...                           \n",
       "2                        ...                           \n",
       "3                        ...                           \n",
       "4                        ...                           \n",
       "\n",
       "                                         Q38_Part_13  \\\n",
       "0  Who/what are your favorite media sources that ...   \n",
       "1                                                NaN   \n",
       "2                                                NaN   \n",
       "3                                                NaN   \n",
       "4                                                NaN   \n",
       "\n",
       "                                         Q38_Part_14  \\\n",
       "0  Who/what are your favorite media sources that ...   \n",
       "1                                                NaN   \n",
       "2                                                NaN   \n",
       "3                                                NaN   \n",
       "4                                                NaN   \n",
       "\n",
       "                                         Q38_Part_15  \\\n",
       "0  Who/what are your favorite media sources that ...   \n",
       "1                                                NaN   \n",
       "2                                                NaN   \n",
       "3                                                NaN   \n",
       "4                                                NaN   \n",
       "\n",
       "                                         Q38_Part_16  \\\n",
       "0  Who/what are your favorite media sources that ...   \n",
       "1                                                NaN   \n",
       "2                                                NaN   \n",
       "3                                                NaN   \n",
       "4                                                NaN   \n",
       "\n",
       "                                         Q38_Part_17  \\\n",
       "0  Who/what are your favorite media sources that ...   \n",
       "1                                                NaN   \n",
       "2                                                NaN   \n",
       "3                                                NaN   \n",
       "4                                                NaN   \n",
       "\n",
       "                                         Q38_Part_18  \\\n",
       "0  Who/what are your favorite media sources that ...   \n",
       "1                                                NaN   \n",
       "2                                                NaN   \n",
       "3                                                NaN   \n",
       "4                                                NaN   \n",
       "\n",
       "                                         Q38_Part_19  \\\n",
       "0  Who/what are your favorite media sources that ...   \n",
       "1                                                NaN   \n",
       "2                                                NaN   \n",
       "3                                                NaN   \n",
       "4                                                NaN   \n",
       "\n",
       "                                         Q38_Part_20  \\\n",
       "0  Who/what are your favorite media sources that ...   \n",
       "1                                                NaN   \n",
       "2                                                NaN   \n",
       "3                                                NaN   \n",
       "4                                                NaN   \n",
       "\n",
       "                                         Q38_Part_21  \\\n",
       "0  Who/what are your favorite media sources that ...   \n",
       "1                                                NaN   \n",
       "2                                 None/I do not know   \n",
       "3                                                NaN   \n",
       "4                                 None/I do not know   \n",
       "\n",
       "                                         Q38_Part_22  \n",
       "0  Who/what are your favorite media sources that ...  \n",
       "1                                                NaN  \n",
       "2                                                NaN  \n",
       "3                                                NaN  \n",
       "4                                                NaN  \n",
       "\n",
       "[5 rows x 22 columns]"
      ]
     },
     "execution_count": 68,
     "metadata": {},
     "output_type": "execute_result"
    }
   ],
   "source": [
    "mediaSourcesDF.head()"
   ]
  },
  {
   "cell_type": "code",
   "execution_count": 69,
   "metadata": {},
   "outputs": [],
   "source": [
    "mediaSourcesDF.drop([0],inplace=True)\n",
    "mediaSourcesDF.reset_index(drop=True,inplace=True)"
   ]
  },
  {
   "cell_type": "code",
   "execution_count": 70,
   "metadata": {},
   "outputs": [
    {
     "data": {
      "text/html": [
       "<div>\n",
       "<style scoped>\n",
       "    .dataframe tbody tr th:only-of-type {\n",
       "        vertical-align: middle;\n",
       "    }\n",
       "\n",
       "    .dataframe tbody tr th {\n",
       "        vertical-align: top;\n",
       "    }\n",
       "\n",
       "    .dataframe thead th {\n",
       "        text-align: right;\n",
       "    }\n",
       "</style>\n",
       "<table border=\"1\" class=\"dataframe\">\n",
       "  <thead>\n",
       "    <tr style=\"text-align: right;\">\n",
       "      <th></th>\n",
       "      <th>Q38_Part_1</th>\n",
       "      <th>Q38_Part_2</th>\n",
       "      <th>Q38_Part_3</th>\n",
       "      <th>Q38_Part_4</th>\n",
       "      <th>Q38_Part_5</th>\n",
       "      <th>Q38_Part_6</th>\n",
       "      <th>Q38_Part_7</th>\n",
       "      <th>Q38_Part_8</th>\n",
       "      <th>Q38_Part_9</th>\n",
       "      <th>Q38_Part_10</th>\n",
       "      <th>...</th>\n",
       "      <th>Q38_Part_13</th>\n",
       "      <th>Q38_Part_14</th>\n",
       "      <th>Q38_Part_15</th>\n",
       "      <th>Q38_Part_16</th>\n",
       "      <th>Q38_Part_17</th>\n",
       "      <th>Q38_Part_18</th>\n",
       "      <th>Q38_Part_19</th>\n",
       "      <th>Q38_Part_20</th>\n",
       "      <th>Q38_Part_21</th>\n",
       "      <th>Q38_Part_22</th>\n",
       "    </tr>\n",
       "  </thead>\n",
       "  <tbody>\n",
       "    <tr>\n",
       "      <th>0</th>\n",
       "      <td>Twitter</td>\n",
       "      <td>NaN</td>\n",
       "      <td>NaN</td>\n",
       "      <td>NaN</td>\n",
       "      <td>NaN</td>\n",
       "      <td>NaN</td>\n",
       "      <td>NaN</td>\n",
       "      <td>NaN</td>\n",
       "      <td>NaN</td>\n",
       "      <td>NaN</td>\n",
       "      <td>...</td>\n",
       "      <td>NaN</td>\n",
       "      <td>NaN</td>\n",
       "      <td>NaN</td>\n",
       "      <td>NaN</td>\n",
       "      <td>NaN</td>\n",
       "      <td>NaN</td>\n",
       "      <td>NaN</td>\n",
       "      <td>NaN</td>\n",
       "      <td>NaN</td>\n",
       "      <td>NaN</td>\n",
       "    </tr>\n",
       "    <tr>\n",
       "      <th>1</th>\n",
       "      <td>NaN</td>\n",
       "      <td>NaN</td>\n",
       "      <td>NaN</td>\n",
       "      <td>NaN</td>\n",
       "      <td>NaN</td>\n",
       "      <td>NaN</td>\n",
       "      <td>NaN</td>\n",
       "      <td>NaN</td>\n",
       "      <td>NaN</td>\n",
       "      <td>NaN</td>\n",
       "      <td>...</td>\n",
       "      <td>NaN</td>\n",
       "      <td>NaN</td>\n",
       "      <td>NaN</td>\n",
       "      <td>NaN</td>\n",
       "      <td>NaN</td>\n",
       "      <td>NaN</td>\n",
       "      <td>NaN</td>\n",
       "      <td>NaN</td>\n",
       "      <td>None/I do not know</td>\n",
       "      <td>NaN</td>\n",
       "    </tr>\n",
       "    <tr>\n",
       "      <th>2</th>\n",
       "      <td>Twitter</td>\n",
       "      <td>NaN</td>\n",
       "      <td>NaN</td>\n",
       "      <td>NaN</td>\n",
       "      <td>NaN</td>\n",
       "      <td>NaN</td>\n",
       "      <td>NaN</td>\n",
       "      <td>NaN</td>\n",
       "      <td>NaN</td>\n",
       "      <td>NaN</td>\n",
       "      <td>...</td>\n",
       "      <td>NaN</td>\n",
       "      <td>NaN</td>\n",
       "      <td>NaN</td>\n",
       "      <td>NaN</td>\n",
       "      <td>NaN</td>\n",
       "      <td>NaN</td>\n",
       "      <td>NaN</td>\n",
       "      <td>NaN</td>\n",
       "      <td>NaN</td>\n",
       "      <td>NaN</td>\n",
       "    </tr>\n",
       "    <tr>\n",
       "      <th>3</th>\n",
       "      <td>NaN</td>\n",
       "      <td>NaN</td>\n",
       "      <td>NaN</td>\n",
       "      <td>NaN</td>\n",
       "      <td>NaN</td>\n",
       "      <td>NaN</td>\n",
       "      <td>NaN</td>\n",
       "      <td>NaN</td>\n",
       "      <td>NaN</td>\n",
       "      <td>NaN</td>\n",
       "      <td>...</td>\n",
       "      <td>NaN</td>\n",
       "      <td>NaN</td>\n",
       "      <td>NaN</td>\n",
       "      <td>NaN</td>\n",
       "      <td>NaN</td>\n",
       "      <td>NaN</td>\n",
       "      <td>NaN</td>\n",
       "      <td>NaN</td>\n",
       "      <td>None/I do not know</td>\n",
       "      <td>NaN</td>\n",
       "    </tr>\n",
       "    <tr>\n",
       "      <th>4</th>\n",
       "      <td>NaN</td>\n",
       "      <td>NaN</td>\n",
       "      <td>NaN</td>\n",
       "      <td>Kaggle forums</td>\n",
       "      <td>NaN</td>\n",
       "      <td>NaN</td>\n",
       "      <td>DataTau News Aggregator</td>\n",
       "      <td>NaN</td>\n",
       "      <td>NaN</td>\n",
       "      <td>NaN</td>\n",
       "      <td>...</td>\n",
       "      <td>NaN</td>\n",
       "      <td>NaN</td>\n",
       "      <td>NaN</td>\n",
       "      <td>NaN</td>\n",
       "      <td>NaN</td>\n",
       "      <td>NaN</td>\n",
       "      <td>NaN</td>\n",
       "      <td>NaN</td>\n",
       "      <td>NaN</td>\n",
       "      <td>NaN</td>\n",
       "    </tr>\n",
       "  </tbody>\n",
       "</table>\n",
       "<p>5 rows × 22 columns</p>\n",
       "</div>"
      ],
      "text/plain": [
       "  Q38_Part_1 Q38_Part_2 Q38_Part_3     Q38_Part_4 Q38_Part_5 Q38_Part_6  \\\n",
       "0    Twitter        NaN        NaN            NaN        NaN        NaN   \n",
       "1        NaN        NaN        NaN            NaN        NaN        NaN   \n",
       "2    Twitter        NaN        NaN            NaN        NaN        NaN   \n",
       "3        NaN        NaN        NaN            NaN        NaN        NaN   \n",
       "4        NaN        NaN        NaN  Kaggle forums        NaN        NaN   \n",
       "\n",
       "                Q38_Part_7 Q38_Part_8 Q38_Part_9 Q38_Part_10     ...      \\\n",
       "0                      NaN        NaN        NaN         NaN     ...       \n",
       "1                      NaN        NaN        NaN         NaN     ...       \n",
       "2                      NaN        NaN        NaN         NaN     ...       \n",
       "3                      NaN        NaN        NaN         NaN     ...       \n",
       "4  DataTau News Aggregator        NaN        NaN         NaN     ...       \n",
       "\n",
       "  Q38_Part_13 Q38_Part_14 Q38_Part_15 Q38_Part_16 Q38_Part_17 Q38_Part_18  \\\n",
       "0         NaN         NaN         NaN         NaN         NaN         NaN   \n",
       "1         NaN         NaN         NaN         NaN         NaN         NaN   \n",
       "2         NaN         NaN         NaN         NaN         NaN         NaN   \n",
       "3         NaN         NaN         NaN         NaN         NaN         NaN   \n",
       "4         NaN         NaN         NaN         NaN         NaN         NaN   \n",
       "\n",
       "  Q38_Part_19 Q38_Part_20         Q38_Part_21 Q38_Part_22  \n",
       "0         NaN         NaN                 NaN         NaN  \n",
       "1         NaN         NaN  None/I do not know         NaN  \n",
       "2         NaN         NaN                 NaN         NaN  \n",
       "3         NaN         NaN  None/I do not know         NaN  \n",
       "4         NaN         NaN                 NaN         NaN  \n",
       "\n",
       "[5 rows x 22 columns]"
      ]
     },
     "execution_count": 70,
     "metadata": {},
     "output_type": "execute_result"
    }
   ],
   "source": [
    "mediaSourcesDF.head()"
   ]
  },
  {
   "cell_type": "code",
   "execution_count": 71,
   "metadata": {},
   "outputs": [],
   "source": [
    "mediaSourcesDF = pd.melt(mediaSourcesDF)"
   ]
  },
  {
   "cell_type": "code",
   "execution_count": 72,
   "metadata": {},
   "outputs": [
    {
     "data": {
      "text/html": [
       "<div>\n",
       "<style scoped>\n",
       "    .dataframe tbody tr th:only-of-type {\n",
       "        vertical-align: middle;\n",
       "    }\n",
       "\n",
       "    .dataframe tbody tr th {\n",
       "        vertical-align: top;\n",
       "    }\n",
       "\n",
       "    .dataframe thead th {\n",
       "        text-align: right;\n",
       "    }\n",
       "</style>\n",
       "<table border=\"1\" class=\"dataframe\">\n",
       "  <thead>\n",
       "    <tr style=\"text-align: right;\">\n",
       "      <th></th>\n",
       "      <th>variable</th>\n",
       "      <th>value</th>\n",
       "    </tr>\n",
       "  </thead>\n",
       "  <tbody>\n",
       "    <tr>\n",
       "      <th>0</th>\n",
       "      <td>Q38_Part_1</td>\n",
       "      <td>Twitter</td>\n",
       "    </tr>\n",
       "    <tr>\n",
       "      <th>1</th>\n",
       "      <td>Q38_Part_1</td>\n",
       "      <td>NaN</td>\n",
       "    </tr>\n",
       "    <tr>\n",
       "      <th>2</th>\n",
       "      <td>Q38_Part_1</td>\n",
       "      <td>Twitter</td>\n",
       "    </tr>\n",
       "    <tr>\n",
       "      <th>3</th>\n",
       "      <td>Q38_Part_1</td>\n",
       "      <td>NaN</td>\n",
       "    </tr>\n",
       "    <tr>\n",
       "      <th>4</th>\n",
       "      <td>Q38_Part_1</td>\n",
       "      <td>NaN</td>\n",
       "    </tr>\n",
       "  </tbody>\n",
       "</table>\n",
       "</div>"
      ],
      "text/plain": [
       "     variable    value\n",
       "0  Q38_Part_1  Twitter\n",
       "1  Q38_Part_1      NaN\n",
       "2  Q38_Part_1  Twitter\n",
       "3  Q38_Part_1      NaN\n",
       "4  Q38_Part_1      NaN"
      ]
     },
     "execution_count": 72,
     "metadata": {},
     "output_type": "execute_result"
    }
   ],
   "source": [
    "mediaSourcesDF.head()"
   ]
  },
  {
   "cell_type": "code",
   "execution_count": 73,
   "metadata": {},
   "outputs": [],
   "source": [
    "mediaSourcesDF.drop(columns=['variable'],inplace=True)"
   ]
  },
  {
   "cell_type": "code",
   "execution_count": 74,
   "metadata": {},
   "outputs": [],
   "source": [
    "mediaSourcesDF.dropna(inplace=True)\n",
    "mediaSourcesDF.reset_index(drop=True,inplace=True)"
   ]
  },
  {
   "cell_type": "code",
   "execution_count": 75,
   "metadata": {},
   "outputs": [],
   "source": [
    "mediaSourcesDF.rename(columns={'value':'Media_Sources'},inplace=True)"
   ]
  },
  {
   "cell_type": "code",
   "execution_count": 76,
   "metadata": {},
   "outputs": [
    {
     "data": {
      "image/png": "[encoded data removed]",
      "text/plain": [
       "<matplotlib.figure.Figure at 0x1a0b55d198>"
      ]
     },
     "metadata": {},
     "output_type": "display_data"
    }
   ],
   "source": [
    "sns.set(rc={'figure.figsize':(25,20)})\n",
    "sns.countplot(y = mediaSourcesDF.Media_Sources)\n",
    "plt.xlabel(\"Media Sources\")\n",
    "ax.get_figure().savefig(\"Media Sources Distribution.jpeg\")\n",
    "plt.show(ax);"
   ]
  },
  {
   "cell_type": "code",
   "execution_count": 77,
   "metadata": {},
   "outputs": [],
   "source": [
    "mediaSourcesDF.to_csv(\"media_source.csv\",index=False)"
   ]
  },
  {
   "cell_type": "code",
   "execution_count": 78,
   "metadata": {},
   "outputs": [
    {
     "data": {
      "text/plain": [
       "4042"
      ]
     },
     "execution_count": 78,
     "metadata": {},
     "output_type": "execute_result"
    }
   ],
   "source": [
    "del mediaSourcesDF\n",
    "gc.collect()"
   ]
  },
  {
   "cell_type": "markdown",
   "metadata": {},
   "source": [
    "### Bootcamp & Online training vs Traditional education\n",
    "\n",
    "Following responses are analyzed in this section:\n",
    "\n",
    "*\tQ39_Part_1--How do you perceive the quality of online learning platforms and in-person bootcamps as compared to the quality of the education provided by traditional brick and mortar institutions? - Online learning platforms and MOOCs:\n",
    "*\tQ39_Part_2--How do you perceive the quality of online learning platforms and in-person bootcamps as compared to the quality of the education provided by traditional brick and mortar institutions? - In-person bootcamps:"
   ]
  },
  {
   "cell_type": "code",
   "execution_count": 79,
   "metadata": {},
   "outputs": [],
   "source": [
    "multipleChoiceDF = pd.read_csv('../multipleChoiceResponses.csv',low_memory=False)"
   ]
  },
  {
   "cell_type": "code",
   "execution_count": 80,
   "metadata": {},
   "outputs": [],
   "source": [
    "moocBootVsUnivDF = multipleChoiceDF[['Q39_Part_1','Q39_Part_2']]"
   ]
  },
  {
   "cell_type": "code",
   "execution_count": 81,
   "metadata": {},
   "outputs": [
    {
     "data": {
      "text/html": [
       "<div>\n",
       "<style scoped>\n",
       "    .dataframe tbody tr th:only-of-type {\n",
       "        vertical-align: middle;\n",
       "    }\n",
       "\n",
       "    .dataframe tbody tr th {\n",
       "        vertical-align: top;\n",
       "    }\n",
       "\n",
       "    .dataframe thead th {\n",
       "        text-align: right;\n",
       "    }\n",
       "</style>\n",
       "<table border=\"1\" class=\"dataframe\">\n",
       "  <thead>\n",
       "    <tr style=\"text-align: right;\">\n",
       "      <th></th>\n",
       "      <th>Q39_Part_1</th>\n",
       "      <th>Q39_Part_2</th>\n",
       "    </tr>\n",
       "  </thead>\n",
       "  <tbody>\n",
       "    <tr>\n",
       "      <th>0</th>\n",
       "      <td>How do you perceive the quality of online lear...</td>\n",
       "      <td>How do you perceive the quality of online lear...</td>\n",
       "    </tr>\n",
       "    <tr>\n",
       "      <th>1</th>\n",
       "      <td>Much better</td>\n",
       "      <td>Much worse</td>\n",
       "    </tr>\n",
       "    <tr>\n",
       "      <th>2</th>\n",
       "      <td>Slightly worse</td>\n",
       "      <td>No opinion; I do not know</td>\n",
       "    </tr>\n",
       "    <tr>\n",
       "      <th>3</th>\n",
       "      <td>Slightly worse</td>\n",
       "      <td>Slightly better</td>\n",
       "    </tr>\n",
       "    <tr>\n",
       "      <th>4</th>\n",
       "      <td>Much worse</td>\n",
       "      <td>No opinion; I do not know</td>\n",
       "    </tr>\n",
       "  </tbody>\n",
       "</table>\n",
       "</div>"
      ],
      "text/plain": [
       "                                          Q39_Part_1  \\\n",
       "0  How do you perceive the quality of online lear...   \n",
       "1                                        Much better   \n",
       "2                                     Slightly worse   \n",
       "3                                     Slightly worse   \n",
       "4                                         Much worse   \n",
       "\n",
       "                                          Q39_Part_2  \n",
       "0  How do you perceive the quality of online lear...  \n",
       "1                                         Much worse  \n",
       "2                          No opinion; I do not know  \n",
       "3                                    Slightly better  \n",
       "4                          No opinion; I do not know  "
      ]
     },
     "execution_count": 81,
     "metadata": {},
     "output_type": "execute_result"
    }
   ],
   "source": [
    "moocBootVsUnivDF.head()"
   ]
  },
  {
   "cell_type": "code",
   "execution_count": 82,
   "metadata": {},
   "outputs": [],
   "source": [
    "moocBootVsUnivDF.drop([0],inplace=True)"
   ]
  },
  {
   "cell_type": "code",
   "execution_count": 83,
   "metadata": {},
   "outputs": [],
   "source": [
    "moocBootVsUnivDF.dropna(inplace=True)\n",
    "moocBootVsUnivDF.reset_index(drop=True,inplace=True)"
   ]
  },
  {
   "cell_type": "code",
   "execution_count": 84,
   "metadata": {},
   "outputs": [
    {
     "data": {
      "image/png": "[encoded data removed]",
      "text/plain": [
       "<matplotlib.figure.Figure at 0x1a0f0b81d0>"
      ]
     },
     "metadata": {},
     "output_type": "display_data"
    }
   ],
   "source": [
    "sns.set(rc={'figure.figsize':(12,10)})\n",
    "sns.countplot(x = moocBootVsUnivDF.Q39_Part_1)\n",
    "plt.xlabel(\"MOOC vs Traditional\")\n",
    "ax.get_figure().savefig(\"MOOC vs Univ Distribution.jpeg\")\n",
    "plt.show(ax);"
   ]
  },
  {
   "cell_type": "code",
   "execution_count": 85,
   "metadata": {},
   "outputs": [
    {
     "data": {
      "image/png": "[encoded data removed]",
      "text/plain": [
       "<matplotlib.figure.Figure at 0x1044145c0>"
      ]
     },
     "metadata": {},
     "output_type": "display_data"
    }
   ],
   "source": [
    "sns.set(rc={'figure.figsize':(12,10)})\n",
    "sns.countplot(x = moocBootVsUnivDF.Q39_Part_2)\n",
    "plt.xlabel(\"BootCamp vs Traditional\")\n",
    "ax.get_figure().savefig(\"BootCamp vs Univ Distribution.jpeg\")\n",
    "plt.show(ax);"
   ]
  },
  {
   "cell_type": "code",
   "execution_count": 87,
   "metadata": {},
   "outputs": [],
   "source": [
    "moocBootVsUnivDF.rename(columns={'Q39_Part_1':'MOOC','Q39_Part_2':'BootCamp'},inplace=True)"
   ]
  },
  {
   "cell_type": "code",
   "execution_count": 88,
   "metadata": {},
   "outputs": [],
   "source": [
    "moocBootVsUnivDF.to_csv(\"moocBootVsUniv.csv\",index=False)"
   ]
  },
  {
   "cell_type": "code",
   "execution_count": null,
   "metadata": {},
   "outputs": [],
   "source": []
  }
 ],
 "metadata": {
  "kernelspec": {
   "display_name": "Python 3",
   "language": "python",
   "name": "python3"
  },
  "language_info": {
   "codemirror_mode": {
    "name": "ipython",
    "version": 3
   },
   "file_extension": ".py",
   "mimetype": "text/x-python",
   "name": "python",
   "nbconvert_exporter": "python",
   "pygments_lexer": "ipython3",
   "version": "3.6.4"
  }
 },
 "nbformat": 4,
 "nbformat_minor": 2
}
